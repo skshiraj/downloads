{
 "cells": [
  {
   "cell_type": "markdown",
   "metadata": {
    "colab_type": "text",
    "id": "Dnubs-Nnb3cw"
   },
   "source": [
    "# Assignment 6: Apply NB"
   ]
  },
  {
   "cell_type": "markdown",
   "metadata": {
    "colab_type": "text",
    "id": "12krXa2pb3c1"
   },
   "source": [
    "<ol>\n",
    "    <li><strong>Apply Multinomial NB on these feature sets</strong>\n",
    "        <ul>\n",
    "            <li><font color='red'>Set 1</font>: categorical, numerical features + preprocessed_eassay (BOW)</li>\n",
    "            <li><font color='red'>Set 2</font>: categorical, numerical features + preprocessed_eassay (TFIDF)</li>\n",
    "        </ul>\n",
    "    </li>\n",
    "    <li><strong>The hyper paramter tuning(find best alpha:smoothing parameter)</strong>\n",
    "        <ul>\n",
    "    <li>Find the best hyper parameter which will give the maximum <a href='https://www.appliedaicourse.com/course/applied-ai-course-online/lessons/receiver-operating-characteristic-curve-roc-curve-and-auc-1/'>AUC</a> value</li>\n",
    "    <li>find the best hyper paramter using k-fold cross validation(use GridsearchCV or RandomsearchCV)/simple cross validation data (write for loop to iterate over hyper parameter values)</li>\n",
    "    <li></li>\n",
    "        </ul>\n",
    "    </li>\n",
    "    <li>\n",
    "    <strong>Representation of results</strong>\n",
    "        <ul>\n",
    "    <li>You need to plot the performance of model both on train data and cross validation data for each hyper parameter, like shown in the figure\n",
    "    <img src='https://i.imgur.com/hUv6aEy.jpg' width=300px></li>\n",
    "    <li>Once after you found the best hyper parameter, you need to train your model with it, and find the AUC on test data and plot the ROC curve on both train and test.\n",
    "    <img src='https://i.imgur.com/wMQDTFe.jpg' width=300px></li>\n",
    "    <li>Along with plotting ROC curve, you need to print the <a href='https://www.appliedaicourse.com/course/applied-ai-course-online/lessons/confusion-matrix-tpr-fpr-fnr-tnr-1/'>confusion matrix</a> with predicted and original labels of test data points\n",
    "    <img src='https://i.imgur.com/IdN5Ctv.png' width=300px></li>\n",
    "        </ul>\n",
    "    </li>\n",
    "    <li>\n",
    "fine the top 20 features from either from feature <font color='red'>Set 1</font> or feature <font color='red'>Set 2</font> using absolute values of `feature_log_prob_ ` parameter of `MultinomialNB` \n",
    "(https://scikit-learn.org/stable/modules/generated/sklearn.naive_bayes.MultinomialNB.html) and print their corresponding feature names\n",
    "    </li>\n",
    "    <li>You need to summarize the results at the end of the notebook, summarize it in the table format\n",
    "        <img src='http://i.imgur.com/YVpIGGE.jpg' width=400px>\n",
    "    </li>\n",
    "</ol>"
   ]
  },
  {
   "cell_type": "markdown",
   "metadata": {
    "colab_type": "text",
    "id": "inzYCIaib3c3"
   },
   "source": [
    "<h1>2. Naive Bayes </h1>"
   ]
  },
  {
   "cell_type": "markdown",
   "metadata": {
    "colab_type": "text",
    "id": "FYqCIxzFb3c5"
   },
   "source": [
    "## 1.1 Loading Data"
   ]
  },
  {
   "cell_type": "code",
   "execution_count": 1,
   "metadata": {
    "colab": {},
    "colab_type": "code",
    "id": "dA1jknyqb3c_",
    "scrolled": true
   },
   "outputs": [
    {
     "name": "stdout",
     "output_type": "stream",
     "text": [
      "Number of projects thar are approved for funding:      41993  ->  83.99 %\n",
      "Number of projects thar are not approved for funding:  8007  ->  16.01 %\n"
     ]
    }
   ],
   "source": [
    "import pandas\n",
    "data = pandas.read_csv('preprocessed_data.csv',nrows=50000)\n",
    "data.shape\n",
    "\n",
    "y_value_counts = data['project_is_approved'].value_counts()\n",
    "print(\"Number of projects thar are approved for funding:     \", y_value_counts[1],\" -> \",round(y_value_counts[1]/(y_value_counts[1]+y_value_counts[0])*100,2),\"%\")\n",
    "print(\"Number of projects thar are not approved for funding: \", y_value_counts[0],\" -> \",round(y_value_counts[0]/(y_value_counts[1]+y_value_counts[0])*100,2),\"%\")"
   ]
  },
  {
   "cell_type": "code",
   "execution_count": 2,
   "metadata": {},
   "outputs": [],
   "source": [
    "## taking random samples of 50k datapoints\n",
    "#project_data = project_bkp.sample(n = 100000) \n",
    "# resource_data = pd.read_csv('../resources.csv')\n",
    "\n",
    "#project_data.shape\n",
    "\n",
    "# y_value_counts = row1['project_is_approved'].value_counts()\n",
    "#y_value_counts = project_data['project_is_approved'].value_counts()\n",
    "#print(\"Number of projects thar are approved for funding:     \", y_value_counts[1],\" -> \",round(y_value_counts[1]/(y_value_counts[1]+y_value_counts[0])*100,2),\"%\")\n",
    "#print(\"Number of projects thar are not approved for funding: \", y_value_counts[0],\" -> \",round(y_value_counts[0]/(y_value_counts[1]+y_value_counts[0])*100,2),\"%\")"
   ]
  },
  {
   "cell_type": "markdown",
   "metadata": {},
   "source": [
    "# PRE-PROCESSING"
   ]
  },
  {
   "cell_type": "code",
   "execution_count": 3,
   "metadata": {},
   "outputs": [
    {
     "ename": "KeyError",
     "evalue": "'project_subject_categories'",
     "output_type": "error",
     "traceback": [
      "\u001b[1;31m---------------------------------------------------------------------------\u001b[0m",
      "\u001b[1;31mKeyError\u001b[0m                                  Traceback (most recent call last)",
      "\u001b[1;32m~\\Anaconda3\\lib\\site-packages\\pandas\\core\\indexes\\base.py\u001b[0m in \u001b[0;36mget_loc\u001b[1;34m(self, key, method, tolerance)\u001b[0m\n\u001b[0;32m   2896\u001b[0m             \u001b[1;32mtry\u001b[0m\u001b[1;33m:\u001b[0m\u001b[1;33m\u001b[0m\u001b[1;33m\u001b[0m\u001b[0m\n\u001b[1;32m-> 2897\u001b[1;33m                 \u001b[1;32mreturn\u001b[0m \u001b[0mself\u001b[0m\u001b[1;33m.\u001b[0m\u001b[0m_engine\u001b[0m\u001b[1;33m.\u001b[0m\u001b[0mget_loc\u001b[0m\u001b[1;33m(\u001b[0m\u001b[0mkey\u001b[0m\u001b[1;33m)\u001b[0m\u001b[1;33m\u001b[0m\u001b[1;33m\u001b[0m\u001b[0m\n\u001b[0m\u001b[0;32m   2898\u001b[0m             \u001b[1;32mexcept\u001b[0m \u001b[0mKeyError\u001b[0m\u001b[1;33m:\u001b[0m\u001b[1;33m\u001b[0m\u001b[1;33m\u001b[0m\u001b[0m\n",
      "\u001b[1;32mpandas\\_libs\\index.pyx\u001b[0m in \u001b[0;36mpandas._libs.index.IndexEngine.get_loc\u001b[1;34m()\u001b[0m\n",
      "\u001b[1;32mpandas\\_libs\\index.pyx\u001b[0m in \u001b[0;36mpandas._libs.index.IndexEngine.get_loc\u001b[1;34m()\u001b[0m\n",
      "\u001b[1;32mpandas\\_libs\\hashtable_class_helper.pxi\u001b[0m in \u001b[0;36mpandas._libs.hashtable.PyObjectHashTable.get_item\u001b[1;34m()\u001b[0m\n",
      "\u001b[1;32mpandas\\_libs\\hashtable_class_helper.pxi\u001b[0m in \u001b[0;36mpandas._libs.hashtable.PyObjectHashTable.get_item\u001b[1;34m()\u001b[0m\n",
      "\u001b[1;31mKeyError\u001b[0m: 'project_subject_categories'",
      "\nDuring handling of the above exception, another exception occurred:\n",
      "\u001b[1;31mKeyError\u001b[0m                                  Traceback (most recent call last)",
      "\u001b[1;32m<ipython-input-3-745c2442ce94>\u001b[0m in \u001b[0;36m<module>\u001b[1;34m\u001b[0m\n\u001b[1;32m----> 1\u001b[1;33m \u001b[0mcatogories\u001b[0m \u001b[1;33m=\u001b[0m \u001b[0mlist\u001b[0m\u001b[1;33m(\u001b[0m\u001b[0mdata\u001b[0m\u001b[1;33m[\u001b[0m\u001b[1;34m'project_subject_categories'\u001b[0m\u001b[1;33m]\u001b[0m\u001b[1;33m.\u001b[0m\u001b[0mvalues\u001b[0m\u001b[1;33m)\u001b[0m\u001b[1;33m\u001b[0m\u001b[1;33m\u001b[0m\u001b[0m\n\u001b[0m\u001b[0;32m      2\u001b[0m \u001b[1;31m# remove special characters from list of strings python: https://stackoverflow.com/a/47301924/4084039\u001b[0m\u001b[1;33m\u001b[0m\u001b[1;33m\u001b[0m\u001b[1;33m\u001b[0m\u001b[0m\n\u001b[0;32m      3\u001b[0m \u001b[1;33m\u001b[0m\u001b[0m\n\u001b[0;32m      4\u001b[0m \u001b[1;31m# https://www.geeksforgeeks.org/removing-stop-words-nltk-python/\u001b[0m\u001b[1;33m\u001b[0m\u001b[1;33m\u001b[0m\u001b[1;33m\u001b[0m\u001b[0m\n\u001b[0;32m      5\u001b[0m \u001b[1;31m# https://stackoverflow.com/questions/23669024/how-to-strip-a-specific-word-from-a-string\u001b[0m\u001b[1;33m\u001b[0m\u001b[1;33m\u001b[0m\u001b[1;33m\u001b[0m\u001b[0m\n",
      "\u001b[1;32m~\\Anaconda3\\lib\\site-packages\\pandas\\core\\frame.py\u001b[0m in \u001b[0;36m__getitem__\u001b[1;34m(self, key)\u001b[0m\n\u001b[0;32m   2978\u001b[0m             \u001b[1;32mif\u001b[0m \u001b[0mself\u001b[0m\u001b[1;33m.\u001b[0m\u001b[0mcolumns\u001b[0m\u001b[1;33m.\u001b[0m\u001b[0mnlevels\u001b[0m \u001b[1;33m>\u001b[0m \u001b[1;36m1\u001b[0m\u001b[1;33m:\u001b[0m\u001b[1;33m\u001b[0m\u001b[1;33m\u001b[0m\u001b[0m\n\u001b[0;32m   2979\u001b[0m                 \u001b[1;32mreturn\u001b[0m \u001b[0mself\u001b[0m\u001b[1;33m.\u001b[0m\u001b[0m_getitem_multilevel\u001b[0m\u001b[1;33m(\u001b[0m\u001b[0mkey\u001b[0m\u001b[1;33m)\u001b[0m\u001b[1;33m\u001b[0m\u001b[1;33m\u001b[0m\u001b[0m\n\u001b[1;32m-> 2980\u001b[1;33m             \u001b[0mindexer\u001b[0m \u001b[1;33m=\u001b[0m \u001b[0mself\u001b[0m\u001b[1;33m.\u001b[0m\u001b[0mcolumns\u001b[0m\u001b[1;33m.\u001b[0m\u001b[0mget_loc\u001b[0m\u001b[1;33m(\u001b[0m\u001b[0mkey\u001b[0m\u001b[1;33m)\u001b[0m\u001b[1;33m\u001b[0m\u001b[1;33m\u001b[0m\u001b[0m\n\u001b[0m\u001b[0;32m   2981\u001b[0m             \u001b[1;32mif\u001b[0m \u001b[0mis_integer\u001b[0m\u001b[1;33m(\u001b[0m\u001b[0mindexer\u001b[0m\u001b[1;33m)\u001b[0m\u001b[1;33m:\u001b[0m\u001b[1;33m\u001b[0m\u001b[1;33m\u001b[0m\u001b[0m\n\u001b[0;32m   2982\u001b[0m                 \u001b[0mindexer\u001b[0m \u001b[1;33m=\u001b[0m \u001b[1;33m[\u001b[0m\u001b[0mindexer\u001b[0m\u001b[1;33m]\u001b[0m\u001b[1;33m\u001b[0m\u001b[1;33m\u001b[0m\u001b[0m\n",
      "\u001b[1;32m~\\Anaconda3\\lib\\site-packages\\pandas\\core\\indexes\\base.py\u001b[0m in \u001b[0;36mget_loc\u001b[1;34m(self, key, method, tolerance)\u001b[0m\n\u001b[0;32m   2897\u001b[0m                 \u001b[1;32mreturn\u001b[0m \u001b[0mself\u001b[0m\u001b[1;33m.\u001b[0m\u001b[0m_engine\u001b[0m\u001b[1;33m.\u001b[0m\u001b[0mget_loc\u001b[0m\u001b[1;33m(\u001b[0m\u001b[0mkey\u001b[0m\u001b[1;33m)\u001b[0m\u001b[1;33m\u001b[0m\u001b[1;33m\u001b[0m\u001b[0m\n\u001b[0;32m   2898\u001b[0m             \u001b[1;32mexcept\u001b[0m \u001b[0mKeyError\u001b[0m\u001b[1;33m:\u001b[0m\u001b[1;33m\u001b[0m\u001b[1;33m\u001b[0m\u001b[0m\n\u001b[1;32m-> 2899\u001b[1;33m                 \u001b[1;32mreturn\u001b[0m \u001b[0mself\u001b[0m\u001b[1;33m.\u001b[0m\u001b[0m_engine\u001b[0m\u001b[1;33m.\u001b[0m\u001b[0mget_loc\u001b[0m\u001b[1;33m(\u001b[0m\u001b[0mself\u001b[0m\u001b[1;33m.\u001b[0m\u001b[0m_maybe_cast_indexer\u001b[0m\u001b[1;33m(\u001b[0m\u001b[0mkey\u001b[0m\u001b[1;33m)\u001b[0m\u001b[1;33m)\u001b[0m\u001b[1;33m\u001b[0m\u001b[1;33m\u001b[0m\u001b[0m\n\u001b[0m\u001b[0;32m   2900\u001b[0m         \u001b[0mindexer\u001b[0m \u001b[1;33m=\u001b[0m \u001b[0mself\u001b[0m\u001b[1;33m.\u001b[0m\u001b[0mget_indexer\u001b[0m\u001b[1;33m(\u001b[0m\u001b[1;33m[\u001b[0m\u001b[0mkey\u001b[0m\u001b[1;33m]\u001b[0m\u001b[1;33m,\u001b[0m \u001b[0mmethod\u001b[0m\u001b[1;33m=\u001b[0m\u001b[0mmethod\u001b[0m\u001b[1;33m,\u001b[0m \u001b[0mtolerance\u001b[0m\u001b[1;33m=\u001b[0m\u001b[0mtolerance\u001b[0m\u001b[1;33m)\u001b[0m\u001b[1;33m\u001b[0m\u001b[1;33m\u001b[0m\u001b[0m\n\u001b[0;32m   2901\u001b[0m         \u001b[1;32mif\u001b[0m \u001b[0mindexer\u001b[0m\u001b[1;33m.\u001b[0m\u001b[0mndim\u001b[0m \u001b[1;33m>\u001b[0m \u001b[1;36m1\u001b[0m \u001b[1;32mor\u001b[0m \u001b[0mindexer\u001b[0m\u001b[1;33m.\u001b[0m\u001b[0msize\u001b[0m \u001b[1;33m>\u001b[0m \u001b[1;36m1\u001b[0m\u001b[1;33m:\u001b[0m\u001b[1;33m\u001b[0m\u001b[1;33m\u001b[0m\u001b[0m\n",
      "\u001b[1;32mpandas\\_libs\\index.pyx\u001b[0m in \u001b[0;36mpandas._libs.index.IndexEngine.get_loc\u001b[1;34m()\u001b[0m\n",
      "\u001b[1;32mpandas\\_libs\\index.pyx\u001b[0m in \u001b[0;36mpandas._libs.index.IndexEngine.get_loc\u001b[1;34m()\u001b[0m\n",
      "\u001b[1;32mpandas\\_libs\\hashtable_class_helper.pxi\u001b[0m in \u001b[0;36mpandas._libs.hashtable.PyObjectHashTable.get_item\u001b[1;34m()\u001b[0m\n",
      "\u001b[1;32mpandas\\_libs\\hashtable_class_helper.pxi\u001b[0m in \u001b[0;36mpandas._libs.hashtable.PyObjectHashTable.get_item\u001b[1;34m()\u001b[0m\n",
      "\u001b[1;31mKeyError\u001b[0m: 'project_subject_categories'"
     ]
    }
   ],
   "source": [
    "catogories = list(data['project_subject_categories'].values)\n",
    "# remove special characters from list of strings python: https://stackoverflow.com/a/47301924/4084039\n",
    "\n",
    "# https://www.geeksforgeeks.org/removing-stop-words-nltk-python/\n",
    "# https://stackoverflow.com/questions/23669024/how-to-strip-a-specific-word-from-a-string\n",
    "# https://stackoverflow.com/questions/8270092/remove-all-whitespace-in-a-string-in-python\n",
    "cat_list = []\n",
    "for i in catogories:\n",
    "    temp = \"\"\n",
    "    # consider we have text like this \"Math & Science, Warmth, Care & Hunger\"\n",
    "    for j in i.split(','): # it will split it in three parts [\"Math & Science\", \"Warmth\", \"Care & Hunger\"]\n",
    "        if 'The' in j.split(): # this will split each of the catogory based on space \"Math & Science\"=> \"Math\",\"&\", \"Science\"\n",
    "            j=j.replace('The','') # if we have the words \"The\" we are going to replace it with ''(i.e removing 'The')\n",
    "        j = j.replace(' ','') # we are placeing all the ' '(space) with ''(empty) ex:\"Math & Science\"=>\"Math&Science\"\n",
    "        temp+=j.strip()+\" \" #\" abc \".strip() will return \"abc\", remove the trailing spaces\n",
    "        temp = temp.replace('&','_') # we are replacing the & value into \n",
    "    cat_list.append(temp.strip())\n",
    "    \n",
    "data['clean_categories'] = cat_list\n",
    "data.drop(['project_subject_categories'], axis=1, inplace=True)\n",
    "\n",
    "from collections import Counter\n",
    "my_counter = Counter()\n",
    "for word in project_data['clean_categories'].values:\n",
    "    my_counter.update(word.split())\n",
    "\n",
    "cat_dict = dict(my_counter)\n",
    "sorted_cat_dict = dict(sorted(cat_dict.items(), key=lambda kv: kv[1]))\n",
    "print(\"done\")"
   ]
  },
  {
   "cell_type": "code",
   "execution_count": null,
   "metadata": {},
   "outputs": [],
   "source": []
  },
  {
   "cell_type": "code",
   "execution_count": null,
   "metadata": {},
   "outputs": [],
   "source": []
  },
  {
   "cell_type": "code",
   "execution_count": null,
   "metadata": {},
   "outputs": [],
   "source": []
  },
  {
   "cell_type": "code",
   "execution_count": null,
   "metadata": {},
   "outputs": [],
   "source": []
  },
  {
   "cell_type": "code",
   "execution_count": null,
   "metadata": {},
   "outputs": [],
   "source": []
  },
  {
   "cell_type": "code",
   "execution_count": null,
   "metadata": {},
   "outputs": [],
   "source": []
  },
  {
   "cell_type": "markdown",
   "metadata": {
    "colab_type": "text",
    "id": "WtVV13Fyb3dH"
   },
   "source": [
    "<h2>1.2 Splitting data into Train and cross validation(or test): Stratified Sampling</h2>"
   ]
  },
  {
   "cell_type": "code",
   "execution_count": 15,
   "metadata": {
    "colab": {},
    "colab_type": "code",
    "id": "i-PyprDNb3dI"
   },
   "outputs": [],
   "source": [
    "# please write all the code with proper documentation, and proper titles for each subsection\n",
    "# go through documentations and blogs before you start coding\n",
    "# first figure out what to do, and then think about how to do.\n",
    "# reading and understanding error messages will be very much helpfull in debugging your code\n",
    "# when you plot any graph make sure you use \n",
    "    # a. Title, that describes your plot, this will be very helpful to the reader\n",
    "    # b. Legends if needed\n",
    "    # c. X-axis label\n",
    "    # d. Y-axis label\n"
   ]
  },
  {
   "cell_type": "code",
   "execution_count": 171,
   "metadata": {},
   "outputs": [],
   "source": [
    "y = data['project_is_approved'].values\n",
    "X = data.drop(['project_is_approved'], axis=1)\n"
   ]
  },
  {
   "cell_type": "code",
   "execution_count": 172,
   "metadata": {},
   "outputs": [
    {
     "name": "stdout",
     "output_type": "stream",
     "text": [
      "x_train:  (33500, 8)\n",
      "x_test :  (16500, 8)\n",
      "y_train:  (33500,)\n",
      "y_test :  (16500,)\n"
     ]
    }
   ],
   "source": [
    "from sklearn.model_selection import train_test_split\n",
    "X_train, X_test, y_train, y_test = train_test_split(X, y, test_size=0.33,random_state=42, stratify=y)\n",
    "\n",
    "\n",
    "\n",
    "print(\"x_train: \",X_train.shape)\n",
    "print(\"x_test : \",X_test.shape)\n",
    "print(\"y_train: \",y_train.shape)\n",
    "print(\"y_test : \",y_test.shape)\n"
   ]
  },
  {
   "cell_type": "code",
   "execution_count": 212,
   "metadata": {},
   "outputs": [],
   "source": [
    "X_train, X_cv, y_train, y_cv = train_test_split(X_train, y_train, test_size=0.33, stratify=y_train)"
   ]
  },
  {
   "cell_type": "code",
   "execution_count": null,
   "metadata": {},
   "outputs": [],
   "source": []
  },
  {
   "cell_type": "markdown",
   "metadata": {},
   "source": [
    "# VECTORIZING CATEGORICAL DATA"
   ]
  },
  {
   "cell_type": "code",
   "execution_count": 213,
   "metadata": {},
   "outputs": [
    {
     "data": {
      "text/plain": [
       "'from sklearn.feature_extraction.text import CountVectorizer\\n\\nvectorizer_sub_sub = CountVectorizer(vocabulary=list(sorted_sub_cat_dict.keys()), lowercase=False, binary=True)\\n\\nvectorizer_sub_sub.fit(x_train[\\'clean_subcategories\\'].values)\\n\\nx_train_sub_categories_one_hot = vectorizer_sub_sub.transform(x_train[\\'clean_subcategories\\'].values)\\n# x_cv_sub_categories_one_hot    = vectorizer_sub_sub.transform(x_cv[\\'clean_subcategories\\'].values)\\nx_test_sub_categories_one_hot  = vectorizer_sub_sub.transform(x_test[\\'clean_subcategories\\'].values)\\n\\nprint(vectorizer_sub_sub.get_feature_names())\\n\\nprint(\"Shape of matrix after one hot encoding -> sub_categories: x_train: \",x_train_sub_categories_one_hot.shape)\\n# print(\"Shape of matrix after one hot encoding -> sub_categories: x_cv   : \",x_cv_sub_categories_one_hot.shape)\\nprint(\"Shape of matrix after one hot encoding -> sub_categories: x_test : \",x_test_sub_categories_one_hot.shape)'"
      ]
     },
     "execution_count": 213,
     "metadata": {},
     "output_type": "execute_result"
    }
   ],
   "source": [
    "# Vectorizing Categorical data: Clean Subject Categories\n",
    "'''from sklearn.feature_extraction.text import CountVectorizer\n",
    "\n",
    "vectorizer_sub_sub = CountVectorizer(vocabulary=list(sorted_sub_cat_dict.keys()), lowercase=False, binary=True)\n",
    "\n",
    "vectorizer_sub_sub.fit(x_train['clean_subcategories'].values)\n",
    "\n",
    "x_train_sub_categories_one_hot = vectorizer_sub_sub.transform(x_train['clean_subcategories'].values)\n",
    "# x_cv_sub_categories_one_hot    = vectorizer_sub_sub.transform(x_cv['clean_subcategories'].values)\n",
    "x_test_sub_categories_one_hot  = vectorizer_sub_sub.transform(x_test['clean_subcategories'].values)\n",
    "\n",
    "print(vectorizer_sub_sub.get_feature_names())\n",
    "\n",
    "print(\"Shape of matrix after one hot encoding -> sub_categories: x_train: \",x_train_sub_categories_one_hot.shape)\n",
    "# print(\"Shape of matrix after one hot encoding -> sub_categories: x_cv   : \",x_cv_sub_categories_one_hot.shape)\n",
    "print(\"Shape of matrix after one hot encoding -> sub_categories: x_test : \",x_test_sub_categories_one_hot.shape)'''"
   ]
  },
  {
   "cell_type": "code",
   "execution_count": null,
   "metadata": {},
   "outputs": [],
   "source": []
  },
  {
   "cell_type": "code",
   "execution_count": null,
   "metadata": {},
   "outputs": [],
   "source": []
  },
  {
   "cell_type": "markdown",
   "metadata": {
    "colab_type": "text",
    "id": "EnZwVNULb3dO"
   },
   "source": [
    "<h2>1.3 Make Data Model Ready: encoding eassay, and project_title</h2>"
   ]
  },
  {
   "cell_type": "code",
   "execution_count": 214,
   "metadata": {
    "colab": {},
    "colab_type": "code",
    "id": "-SczZKiab3dR"
   },
   "outputs": [],
   "source": [
    "# please write all the code with proper documentation, and proper titles for each subsection\n",
    "# go through documentations and blogs before you start coding\n",
    "# first figure out what to do, and then think about how to do.\n",
    "# reading and understanding error messages will be very much helpfull in debugging your code\n",
    "# make sure you featurize train and test data separatly\n",
    "\n",
    "# when you plot any graph make sure you use \n",
    "    # a. Title, that describes your plot, this will be very helpful to the reader\n",
    "    # b. Legends if needed\n",
    "    # c. X-axis label\n",
    "    # d. Y-axis label"
   ]
  },
  {
   "cell_type": "code",
   "execution_count": 215,
   "metadata": {},
   "outputs": [
    {
     "name": "stdout",
     "output_type": "stream",
     "text": [
      "Shape of matrix after BOW -> Essays: x_train:  (15038, 7426)\n",
      "Shape of matrix after BOW -> Essays: x_cv   :  (7407, 7426)\n",
      "Shape of matrix after BOW -> Essays: x_test :  (16500, 7426)\n"
     ]
    }
   ],
   "source": [
    "#Bow for essay\n",
    "\n",
    "vectorizer_essay_bow = CountVectorizer(min_df=10)\n",
    "\n",
    "vectorizer_essay_bow.fit(X_train['essay'])\n",
    "\n",
    "X_train_essay_bow = vectorizer_essay_bow.transform(X_train['essay'])\n",
    "X_cv_essay_bow    = vectorizer_essay_bow.transform(X_cv['essay'])\n",
    "X_test_essay_bow  = vectorizer_essay_bow.transform(X_test['essay'])\n",
    "\n",
    "print(\"Shape of matrix after BOW -> Essays: x_train: \",X_train_essay_bow.shape)\n",
    "print(\"Shape of matrix after BOW -> Essays: x_cv   : \",X_cv_essay_bow.shape)\n",
    "print(\"Shape of matrix after BOW -> Essays: x_test : \",X_test_essay_bow.shape)"
   ]
  },
  {
   "cell_type": "code",
   "execution_count": 177,
   "metadata": {
    "collapsed": true
   },
   "outputs": [
    {
     "ename": "KeyError",
     "evalue": "'preprocessed_titles'",
     "output_type": "error",
     "traceback": [
      "\u001b[1;31m---------------------------------------------------------------------------\u001b[0m",
      "\u001b[1;31mKeyError\u001b[0m                                  Traceback (most recent call last)",
      "\u001b[1;32m~\\Anaconda3\\lib\\site-packages\\pandas\\core\\indexes\\base.py\u001b[0m in \u001b[0;36mget_loc\u001b[1;34m(self, key, method, tolerance)\u001b[0m\n\u001b[0;32m   2896\u001b[0m             \u001b[1;32mtry\u001b[0m\u001b[1;33m:\u001b[0m\u001b[1;33m\u001b[0m\u001b[1;33m\u001b[0m\u001b[0m\n\u001b[1;32m-> 2897\u001b[1;33m                 \u001b[1;32mreturn\u001b[0m \u001b[0mself\u001b[0m\u001b[1;33m.\u001b[0m\u001b[0m_engine\u001b[0m\u001b[1;33m.\u001b[0m\u001b[0mget_loc\u001b[0m\u001b[1;33m(\u001b[0m\u001b[0mkey\u001b[0m\u001b[1;33m)\u001b[0m\u001b[1;33m\u001b[0m\u001b[1;33m\u001b[0m\u001b[0m\n\u001b[0m\u001b[0;32m   2898\u001b[0m             \u001b[1;32mexcept\u001b[0m \u001b[0mKeyError\u001b[0m\u001b[1;33m:\u001b[0m\u001b[1;33m\u001b[0m\u001b[1;33m\u001b[0m\u001b[0m\n",
      "\u001b[1;32mpandas\\_libs\\index.pyx\u001b[0m in \u001b[0;36mpandas._libs.index.IndexEngine.get_loc\u001b[1;34m()\u001b[0m\n",
      "\u001b[1;32mpandas\\_libs\\index.pyx\u001b[0m in \u001b[0;36mpandas._libs.index.IndexEngine.get_loc\u001b[1;34m()\u001b[0m\n",
      "\u001b[1;32mpandas\\_libs\\hashtable_class_helper.pxi\u001b[0m in \u001b[0;36mpandas._libs.hashtable.PyObjectHashTable.get_item\u001b[1;34m()\u001b[0m\n",
      "\u001b[1;32mpandas\\_libs\\hashtable_class_helper.pxi\u001b[0m in \u001b[0;36mpandas._libs.hashtable.PyObjectHashTable.get_item\u001b[1;34m()\u001b[0m\n",
      "\u001b[1;31mKeyError\u001b[0m: 'preprocessed_titles'",
      "\nDuring handling of the above exception, another exception occurred:\n",
      "\u001b[1;31mKeyError\u001b[0m                                  Traceback (most recent call last)",
      "\u001b[1;32m<ipython-input-177-9450da774789>\u001b[0m in \u001b[0;36m<module>\u001b[1;34m\u001b[0m\n\u001b[0;32m      2\u001b[0m \u001b[0mvectorizer_title_bow\u001b[0m \u001b[1;33m=\u001b[0m \u001b[0mCountVectorizer\u001b[0m\u001b[1;33m(\u001b[0m\u001b[0mmin_df\u001b[0m\u001b[1;33m=\u001b[0m\u001b[1;36m10\u001b[0m\u001b[1;33m)\u001b[0m\u001b[1;33m\u001b[0m\u001b[1;33m\u001b[0m\u001b[0m\n\u001b[0;32m      3\u001b[0m \u001b[1;33m\u001b[0m\u001b[0m\n\u001b[1;32m----> 4\u001b[1;33m \u001b[0mvectorizer_title_bow\u001b[0m\u001b[1;33m.\u001b[0m\u001b[0mfit\u001b[0m\u001b[1;33m(\u001b[0m\u001b[0mx_train\u001b[0m\u001b[1;33m[\u001b[0m\u001b[1;34m'preprocessed_titles'\u001b[0m\u001b[1;33m]\u001b[0m\u001b[1;33m)\u001b[0m\u001b[1;33m\u001b[0m\u001b[1;33m\u001b[0m\u001b[0m\n\u001b[0m\u001b[0;32m      5\u001b[0m \u001b[1;33m\u001b[0m\u001b[0m\n\u001b[0;32m      6\u001b[0m \u001b[0mx_train_titles_bow\u001b[0m \u001b[1;33m=\u001b[0m \u001b[0mvectorizer_title_bow\u001b[0m\u001b[1;33m.\u001b[0m\u001b[0mtransform\u001b[0m\u001b[1;33m(\u001b[0m\u001b[0mx_train\u001b[0m\u001b[1;33m[\u001b[0m\u001b[1;34m'preprocessed_titles'\u001b[0m\u001b[1;33m]\u001b[0m\u001b[1;33m)\u001b[0m\u001b[1;33m\u001b[0m\u001b[1;33m\u001b[0m\u001b[0m\n",
      "\u001b[1;32m~\\Anaconda3\\lib\\site-packages\\pandas\\core\\frame.py\u001b[0m in \u001b[0;36m__getitem__\u001b[1;34m(self, key)\u001b[0m\n\u001b[0;32m   2978\u001b[0m             \u001b[1;32mif\u001b[0m \u001b[0mself\u001b[0m\u001b[1;33m.\u001b[0m\u001b[0mcolumns\u001b[0m\u001b[1;33m.\u001b[0m\u001b[0mnlevels\u001b[0m \u001b[1;33m>\u001b[0m \u001b[1;36m1\u001b[0m\u001b[1;33m:\u001b[0m\u001b[1;33m\u001b[0m\u001b[1;33m\u001b[0m\u001b[0m\n\u001b[0;32m   2979\u001b[0m                 \u001b[1;32mreturn\u001b[0m \u001b[0mself\u001b[0m\u001b[1;33m.\u001b[0m\u001b[0m_getitem_multilevel\u001b[0m\u001b[1;33m(\u001b[0m\u001b[0mkey\u001b[0m\u001b[1;33m)\u001b[0m\u001b[1;33m\u001b[0m\u001b[1;33m\u001b[0m\u001b[0m\n\u001b[1;32m-> 2980\u001b[1;33m             \u001b[0mindexer\u001b[0m \u001b[1;33m=\u001b[0m \u001b[0mself\u001b[0m\u001b[1;33m.\u001b[0m\u001b[0mcolumns\u001b[0m\u001b[1;33m.\u001b[0m\u001b[0mget_loc\u001b[0m\u001b[1;33m(\u001b[0m\u001b[0mkey\u001b[0m\u001b[1;33m)\u001b[0m\u001b[1;33m\u001b[0m\u001b[1;33m\u001b[0m\u001b[0m\n\u001b[0m\u001b[0;32m   2981\u001b[0m             \u001b[1;32mif\u001b[0m \u001b[0mis_integer\u001b[0m\u001b[1;33m(\u001b[0m\u001b[0mindexer\u001b[0m\u001b[1;33m)\u001b[0m\u001b[1;33m:\u001b[0m\u001b[1;33m\u001b[0m\u001b[1;33m\u001b[0m\u001b[0m\n\u001b[0;32m   2982\u001b[0m                 \u001b[0mindexer\u001b[0m \u001b[1;33m=\u001b[0m \u001b[1;33m[\u001b[0m\u001b[0mindexer\u001b[0m\u001b[1;33m]\u001b[0m\u001b[1;33m\u001b[0m\u001b[1;33m\u001b[0m\u001b[0m\n",
      "\u001b[1;32m~\\Anaconda3\\lib\\site-packages\\pandas\\core\\indexes\\base.py\u001b[0m in \u001b[0;36mget_loc\u001b[1;34m(self, key, method, tolerance)\u001b[0m\n\u001b[0;32m   2897\u001b[0m                 \u001b[1;32mreturn\u001b[0m \u001b[0mself\u001b[0m\u001b[1;33m.\u001b[0m\u001b[0m_engine\u001b[0m\u001b[1;33m.\u001b[0m\u001b[0mget_loc\u001b[0m\u001b[1;33m(\u001b[0m\u001b[0mkey\u001b[0m\u001b[1;33m)\u001b[0m\u001b[1;33m\u001b[0m\u001b[1;33m\u001b[0m\u001b[0m\n\u001b[0;32m   2898\u001b[0m             \u001b[1;32mexcept\u001b[0m \u001b[0mKeyError\u001b[0m\u001b[1;33m:\u001b[0m\u001b[1;33m\u001b[0m\u001b[1;33m\u001b[0m\u001b[0m\n\u001b[1;32m-> 2899\u001b[1;33m                 \u001b[1;32mreturn\u001b[0m \u001b[0mself\u001b[0m\u001b[1;33m.\u001b[0m\u001b[0m_engine\u001b[0m\u001b[1;33m.\u001b[0m\u001b[0mget_loc\u001b[0m\u001b[1;33m(\u001b[0m\u001b[0mself\u001b[0m\u001b[1;33m.\u001b[0m\u001b[0m_maybe_cast_indexer\u001b[0m\u001b[1;33m(\u001b[0m\u001b[0mkey\u001b[0m\u001b[1;33m)\u001b[0m\u001b[1;33m)\u001b[0m\u001b[1;33m\u001b[0m\u001b[1;33m\u001b[0m\u001b[0m\n\u001b[0m\u001b[0;32m   2900\u001b[0m         \u001b[0mindexer\u001b[0m \u001b[1;33m=\u001b[0m \u001b[0mself\u001b[0m\u001b[1;33m.\u001b[0m\u001b[0mget_indexer\u001b[0m\u001b[1;33m(\u001b[0m\u001b[1;33m[\u001b[0m\u001b[0mkey\u001b[0m\u001b[1;33m]\u001b[0m\u001b[1;33m,\u001b[0m \u001b[0mmethod\u001b[0m\u001b[1;33m=\u001b[0m\u001b[0mmethod\u001b[0m\u001b[1;33m,\u001b[0m \u001b[0mtolerance\u001b[0m\u001b[1;33m=\u001b[0m\u001b[0mtolerance\u001b[0m\u001b[1;33m)\u001b[0m\u001b[1;33m\u001b[0m\u001b[1;33m\u001b[0m\u001b[0m\n\u001b[0;32m   2901\u001b[0m         \u001b[1;32mif\u001b[0m \u001b[0mindexer\u001b[0m\u001b[1;33m.\u001b[0m\u001b[0mndim\u001b[0m \u001b[1;33m>\u001b[0m \u001b[1;36m1\u001b[0m \u001b[1;32mor\u001b[0m \u001b[0mindexer\u001b[0m\u001b[1;33m.\u001b[0m\u001b[0msize\u001b[0m \u001b[1;33m>\u001b[0m \u001b[1;36m1\u001b[0m\u001b[1;33m:\u001b[0m\u001b[1;33m\u001b[0m\u001b[1;33m\u001b[0m\u001b[0m\n",
      "\u001b[1;32mpandas\\_libs\\index.pyx\u001b[0m in \u001b[0;36mpandas._libs.index.IndexEngine.get_loc\u001b[1;34m()\u001b[0m\n",
      "\u001b[1;32mpandas\\_libs\\index.pyx\u001b[0m in \u001b[0;36mpandas._libs.index.IndexEngine.get_loc\u001b[1;34m()\u001b[0m\n",
      "\u001b[1;32mpandas\\_libs\\hashtable_class_helper.pxi\u001b[0m in \u001b[0;36mpandas._libs.hashtable.PyObjectHashTable.get_item\u001b[1;34m()\u001b[0m\n",
      "\u001b[1;32mpandas\\_libs\\hashtable_class_helper.pxi\u001b[0m in \u001b[0;36mpandas._libs.hashtable.PyObjectHashTable.get_item\u001b[1;34m()\u001b[0m\n",
      "\u001b[1;31mKeyError\u001b[0m: 'preprocessed_titles'"
     ]
    }
   ],
   "source": [
    "#Bow for title\n",
    "vectorizer_title_bow = CountVectorizer(min_df=10)\n",
    "\n",
    "vectorizer_title_bow.fit(x_train['preprocessed_titles'])\n",
    "\n",
    "x_train_titles_bow = vectorizer_title_bow.transform(x_train['preprocessed_titles'])\n",
    "# x_cv_titles_bow    = vectorizer_title_bow.transform(x_cv['preprocessed_titles'])\n",
    "x_test_titles_bow  = vectorizer_title_bow.transform(x_test['preprocessed_titles'])\n",
    "\n",
    "print(\"Shape of matrix after BOW -> Title: x_train: \",x_train_titles_bow.shape)\n",
    "# print(\"Shape of matrix after BOW -> Title: x_cv   : \",x_cv_titles_bow.shape)\n",
    "print(\"Shape of matrix after BOW -> Title: x_test : \",x_test_titles_bow.shape)"
   ]
  },
  {
   "cell_type": "code",
   "execution_count": 216,
   "metadata": {},
   "outputs": [
    {
     "name": "stdout",
     "output_type": "stream",
     "text": [
      "Shape of matrix after TF-IDF -> Essay: x_train:  (15038, 7426)\n",
      "Shape of matrix after TF-IDF -> Essay: x_cv   :  (7407, 7426)\n",
      "Shape of matrix after TF-IDF -> Essay: x_test :  (16500, 7426)\n"
     ]
    }
   ],
   "source": [
    "#TFIDF\n",
    "from sklearn.feature_extraction.text import TfidfVectorizer\n",
    "vectorizer_essay_tfidf = TfidfVectorizer(min_df=10)\n",
    "\n",
    "vectorizer_essay_tfidf.fit(X_train['essay'])\n",
    "\n",
    "X_train_essays_tfidf = vectorizer_essay_tfidf.transform(X_train['essay'])\n",
    "X_cv_essays_tfidf    = vectorizer_essay_tfidf.transform(X_cv['essay'])\n",
    "X_test_essays_tfidf  = vectorizer_essay_tfidf.transform(X_test['essay'])\n",
    "\n",
    "print(\"Shape of matrix after TF-IDF -> Essay: x_train: \",X_train_essays_tfidf.shape)\n",
    "print(\"Shape of matrix after TF-IDF -> Essay: x_cv   : \",X_cv_essays_tfidf.shape)\n",
    "print(\"Shape of matrix after TF-IDF -> Essay: x_test : \",X_test_essays_tfidf.shape)"
   ]
  },
  {
   "cell_type": "code",
   "execution_count": null,
   "metadata": {},
   "outputs": [],
   "source": [
    "#for titles\n",
    "from sklearn.feature_extraction.text import TfidfVectorizer\n",
    "vectorizer_title_tfidf = TfidfVectorizer(min_df=10)\n",
    "\n",
    "vectorizer_title_tfidf.fit(x_train['preprocessed_titles'])\n",
    "\n",
    "x_train_titles_tfidf = vectorizer_title_tfidf.transform(x_train['preprocessed_titles'])\n",
    "x_cv_titles_tfidf    = vectorizer_title_tfidf.transform(x_cv['preprocessed_titles'])\n",
    "x_test_titles_tfidf  = vectorizer_title_tfidf.transform(x_test['preprocessed_titles'])\n",
    "\n",
    "print(\"Shape of matrix after TF-IDF -> Title: x_train: \",x_train_titles_tfidf.shape)\n",
    "print(\"Shape of matrix after TF-IDF -> Title: x_cv   : \",x_cv_titles_tfidf.shape)\n",
    "print(\"Shape of matrix after TF-IDF -> Title: x_test : \",x_test_titles_tfidf.shape)\n",
    "\n",
    "# Code for testing and checking the generated vectors\n",
    "# v1 = vectorizer.transform([preprocessed_titles[0]]).toarray()[0]\n",
    "# text_title_tfidf=pd.DataFrame(v1)\n",
    "# text_title_tfidf.to_csv('text_title_tfidf.csv', index=None,header=None)"
   ]
  },
  {
   "cell_type": "markdown",
   "metadata": {
    "colab_type": "text",
    "id": "bGy86kgHb3dX"
   },
   "source": [
    "<h2>1.4 Make Data Model Ready: encoding numerical, categorical features</h2>"
   ]
  },
  {
   "cell_type": "code",
   "execution_count": 0,
   "metadata": {
    "colab": {},
    "colab_type": "code",
    "id": "EfXkofX1b3da"
   },
   "outputs": [],
   "source": [
    "# please write all the code with proper documentation, and proper titles for each subsection\n",
    "# go through documentations and blogs before you start coding \n",
    "# first figure out what to do, and then think about how to do.\n",
    "# reading and understanding error messages will be very much helpfull in debugging your code\n",
    "# make sure you featurize train and test data separatly\n",
    "\n",
    "# when you plot any graph make sure you use \n",
    "    # a. Title, that describes your plot, this will be very helpful to the reader\n",
    "    # b. Legends if needed\n",
    "    # c. X-axis label\n",
    "    # d. Y-axis label"
   ]
  },
  {
   "cell_type": "code",
   "execution_count": 217,
   "metadata": {
    "scrolled": true
   },
   "outputs": [
    {
     "name": "stdout",
     "output_type": "stream",
     "text": [
      "After vectorizations\n",
      "(15038, 51) (15038,)\n",
      "(7407, 51) (7407,)\n",
      "(16500, 51) (16500,)\n",
      "['ak', 'al', 'ar', 'az', 'ca', 'co', 'ct', 'dc', 'de', 'fl', 'ga', 'hi', 'ia', 'id', 'il', 'in', 'ks', 'ky', 'la', 'ma', 'md', 'me', 'mi', 'mn', 'mo', 'ms', 'mt', 'nc', 'nd', 'ne', 'nh', 'nj', 'nm', 'nv', 'ny', 'oh', 'ok', 'or', 'pa', 'ri', 'sc', 'sd', 'tn', 'tx', 'ut', 'va', 'vt', 'wa', 'wi', 'wv', 'wy']\n",
      "====================================================================================================\n"
     ]
    }
   ],
   "source": [
    "#BOW for numeric and categorical features\n",
    "#Schoolstate\n",
    "vectorizer = CountVectorizer()\n",
    "vectorizer.fit(X_train['school_state'].values) # fit has to happen only on train data\n",
    "\n",
    "# we use the fitted CountVectorizer to convert the text to vector\n",
    "X_train_state_ohe = vectorizer.transform(X_train['school_state'].values)\n",
    "X_cv_state_ohe = vectorizer.transform(X_cv['school_state'].values)\n",
    "X_test_state_ohe = vectorizer.transform(X_test['school_state'].values)\n",
    "\n",
    "print(\"After vectorizations\")\n",
    "print(X_train_state_ohe.shape, y_train.shape)\n",
    "print(X_cv_state_ohe.shape, y_cv.shape)\n",
    "print(X_test_state_ohe.shape, y_test.shape)\n",
    "print(vectorizer.get_feature_names())\n",
    "print(\"=\"*100)"
   ]
  },
  {
   "cell_type": "code",
   "execution_count": 218,
   "metadata": {},
   "outputs": [
    {
     "name": "stdout",
     "output_type": "stream",
     "text": [
      "After vectorizations\n",
      "(15038, 5) (15038,)\n",
      "(16500, 5) (16500,)\n",
      "['dr', 'mr', 'mrs', 'ms', 'teacher']\n",
      "====================================================================================================\n"
     ]
    }
   ],
   "source": [
    "#teacher prefix\n",
    "vectorizer = CountVectorizer()\n",
    "vectorizer.fit(X_train['teacher_prefix'].values) # fit has to happen only on train data\n",
    "\n",
    "# we use the fitted CountVectorizer to convert the text to vector\n",
    "X_train_teacher_ohe = vectorizer.transform(X_train['teacher_prefix'].values)\n",
    "X_cv_teacher_ohe = vectorizer.transform(X_cv['teacher_prefix'].values)\n",
    "X_test_teacher_ohe = vectorizer.transform(X_test['teacher_prefix'].values)\n",
    "\n",
    "print(\"After vectorizations\")\n",
    "print(X_train_teacher_ohe.shape, y_train.shape)\n",
    "#print(X_cv_teacher_ohe.shape, y_cv.shape)\n",
    "print(X_test_teacher_ohe.shape, y_test.shape)\n",
    "print(vectorizer.get_feature_names())\n",
    "print(\"=\"*100)"
   ]
  },
  {
   "cell_type": "code",
   "execution_count": 219,
   "metadata": {},
   "outputs": [
    {
     "name": "stdout",
     "output_type": "stream",
     "text": [
      "After vectorizations\n",
      "(15038, 4) (15038,)\n",
      "(7407, 4) (7407,)\n",
      "(16500, 4) (16500,)\n",
      "['grades_3_5', 'grades_6_8', 'grades_9_12', 'grades_prek_2']\n",
      "====================================================================================================\n"
     ]
    }
   ],
   "source": [
    "#project_grade_property\n",
    "vectorizer = CountVectorizer()\n",
    "vectorizer.fit(X_train['project_grade_category'].values) # fit has to happen only on train data\n",
    "\n",
    "# we use the fitted CountVectorizer to convert the text to vector\n",
    "X_train_grade_ohe = vectorizer.transform(X_train['project_grade_category'].values)\n",
    "X_cv_grade_ohe = vectorizer.transform(X_cv['project_grade_category'].values)\n",
    "X_test_grade_ohe = vectorizer.transform(X_test['project_grade_category'].values)\n",
    "\n",
    "print(\"After vectorizations\")\n",
    "print(X_train_grade_ohe.shape, y_train.shape)\n",
    "print(X_cv_grade_ohe.shape, y_cv.shape)\n",
    "print(X_test_grade_ohe.shape, y_test.shape)\n",
    "print(vectorizer.get_feature_names())\n",
    "print(\"=\"*100)"
   ]
  },
  {
   "cell_type": "code",
   "execution_count": 490,
   "metadata": {},
   "outputs": [
    {
     "name": "stdout",
     "output_type": "stream",
     "text": [
      "After vectorizations\n",
      "(15038, 9) (15038,)\n",
      "(7407, 9) (7407,)\n",
      "(16500, 9) (16500,)\n",
      "['appliedlearning', 'care_hunger', 'health_sports', 'history_civics', 'literacy_language', 'math_science', 'music_arts', 'specialneeds', 'warmth']\n",
      "====================================================================================================\n"
     ]
    }
   ],
   "source": [
    "#clean categories\n",
    "\n",
    "vectorizer = CountVectorizer()\n",
    "vectorizer.fit(X_train['clean_categories'].values) # fit has to happen only on train data\n",
    "\n",
    "\n",
    "# we use the fitted CountVectorizer to convert the text to vector\n",
    "X_train_clean_ohe = vectorizer.transform(X_train['clean_categories'].values)\n",
    "X_cv_clean_ohe = vectorizer.transform(X_cv['clean_categories'].values)\n",
    "X_test_clean_ohe = vectorizer.transform(X_test['clean_categories'].values)\n",
    "\n",
    "\n",
    "\n",
    "print(\"After vectorizations\")\n",
    "print(X_train_clean_ohe.shape, y_train.shape)\n",
    "print(X_cv_clean_ohe.shape, y_cv.shape)\n",
    "print(X_test_clean_ohe.shape, y_test.shape)\n",
    "print(vectorizer.get_feature_names())\n",
    "print(\"=\"*100)"
   ]
  },
  {
   "cell_type": "code",
   "execution_count": 281,
   "metadata": {},
   "outputs": [
    {
     "name": "stdout",
     "output_type": "stream",
     "text": [
      "After vectorizations\n",
      "(15038, 1) (15038,)\n",
      "(7407, 1) (7407,)\n",
      "(16500, 1) (16500,)\n",
      "====================================================================================================\n"
     ]
    }
   ],
   "source": [
    "#price\n",
    "from sklearn.preprocessing import Normalizer\n",
    "normalizer = Normalizer()\n",
    "# normalizer.fit(X_train['price'].values)\n",
    "# this will rise an error Expected 2D array, got 1D array instead: \n",
    "# array=[105.22 215.96  96.01 ... 368.98  80.53 709.67].\n",
    "# Reshape your data either using \n",
    "# array.reshape(-1, 1) if your data has a single feature \n",
    "# array.reshape(1, -1)  if it contains a single sample.\n",
    "normalizer.fit(X_train['price'].values.reshape(-1,1))\n",
    "\n",
    "X_train_price_norm = normalizer.transform(X_train['price'].values.reshape(-1,1))\n",
    "X_cv_price_norm = normalizer.transform(X_cv['price'].values.reshape(-1,1))\n",
    "X_test_price_norm = normalizer.transform(X_test['price'].values.reshape(-1,1))\n",
    "\n",
    "\n",
    "\n",
    "print(\"After vectorizations\")\n",
    "print(X_train_price_norm.shape, y_train.shape)\n",
    "print(X_cv_price_norm.shape, y_cv.shape)\n",
    "print(X_test_price_norm.shape, y_test.shape)\n",
    "print(\"=\"*100)"
   ]
  },
  {
   "cell_type": "code",
   "execution_count": 222,
   "metadata": {},
   "outputs": [
    {
     "name": "stdout",
     "output_type": "stream",
     "text": [
      "Shape of matrix after normalization -> Teachers Previous Projects: x_train:   (40000, 1)\n",
      "Shape of matrix after normalization -> Teachers Previous Projects: x_cv   :   (7407, 1)\n",
      "Shape of matrix after normalization -> Teachers Previous Projects: x_test :   (10000, 1)\n"
     ]
    }
   ],
   "source": [
    "# check this one: https://www.youtube.com/watch?v=0HOqOcln3Z4&t=530s\n",
    "# standardization sklearn: https://scikit-learn.org/stable/modules/generated/sklearn.preprocessing.StandardScaler.html\n",
    "from sklearn.preprocessing import StandardScaler\n",
    "\n",
    "# price_standardized = standardScalar.fit(project_data['price'].values)\n",
    "# this will rise the error\n",
    "# ValueError: Expected 2D array, got 1D array instead: array=[725.05 213.03 329.   ... 399.   287.73   5.5 ].\n",
    "# Reshape your data either using array.reshape(-1, 1)\n",
    "\n",
    "teacher_previous_proj_normalizer = Normalizer()\n",
    "# normalizer = Normalizer()\n",
    "\n",
    "teacher_previous_proj_normalizer.fit(x_train['teacher_number_of_previously_posted_projects'].values.reshape(1,-1)) # finding the mean and standard deviation of this data\n",
    "# print(f\"Mean : {teacher_previous_proj_scalar.mean_[0]}, Standard deviation : {np.sqrt(teacher_previous_proj_scalar.var_[0])}\")\n",
    "\n",
    "# Now standardize the data with above maen and variance.\n",
    "x_train_teacher_previous_proj_normalized = teacher_previous_proj_normalizer.transform(x_train['teacher_number_of_previously_posted_projects'].values.reshape(1,- 1)).reshape(-1,1)\n",
    "x_test_teacher_previous_proj_normalized  = teacher_previous_proj_normalizer.transform(x_test['teacher_number_of_previously_posted_projects'].values.reshape(1,- 1)).reshape(-1,1)\n",
    "x_cv_teacher_previous_proj_normalized    = teacher_previous_proj_normalizer.transform(X_cv['teacher_number_of_previously_posted_projects'].values.reshape(1,- 1)).reshape(-1,1)\n",
    "\n",
    "print(\"Shape of matrix after normalization -> Teachers Previous Projects: x_train:  \",x_train_teacher_previous_proj_normalized.shape)\n",
    "print(\"Shape of matrix after normalization -> Teachers Previous Projects: x_cv   :  \",x_cv_teacher_previous_proj_normalized.shape)\n",
    "print(\"Shape of matrix after normalization -> Teachers Previous Projects: x_test :  \",x_test_teacher_previous_proj_normalized.shape)"
   ]
  },
  {
   "cell_type": "markdown",
   "metadata": {},
   "source": [
    "# TFIDF FOR CATERGORICAL N NUMERIC"
   ]
  },
  {
   "cell_type": "code",
   "execution_count": 309,
   "metadata": {},
   "outputs": [
    {
     "name": "stdout",
     "output_type": "stream",
     "text": [
      "Shape of matrix after TF-IDF -> School State: x_train:  (15038, 50)\n",
      "Shape of matrix after TF-IDF -> Essay: x_cv   :  (7407, 50)\n",
      "Shape of matrix after TF-IDF -> School State: x_test :  (16500, 50)\n"
     ]
    }
   ],
   "source": [
    "#School State\n",
    "from sklearn.feature_extraction.text import TfidfVectorizer\n",
    "vectorizer_state_tfidf = TfidfVectorizer(min_df=10)\n",
    "\n",
    "vectorizer_state_tfidf.fit(X_train['school_state'])\n",
    "\n",
    "x_train_state_tfidf = vectorizer_state_tfidf.transform(X_train['school_state'])\n",
    "x_cv_state_tfidf    = vectorizer_state_tfidf.transform(X_cv['school_state'])\n",
    "x_test_state_tfidf  = vectorizer_state_tfidf.transform(X_test['school_state'])\n",
    "\n",
    "print(\"Shape of matrix after TF-IDF -> School State: x_train: \",x_train_state_tfidf.shape)\n",
    "print(\"Shape of matrix after TF-IDF -> Essay: x_cv   : \",x_cv_state_tfidf.shape)\n",
    "print(\"Shape of matrix after TF-IDF -> School State: x_test : \",x_test_state_tfidf.shape)"
   ]
  },
  {
   "cell_type": "code",
   "execution_count": 310,
   "metadata": {},
   "outputs": [
    {
     "name": "stdout",
     "output_type": "stream",
     "text": [
      "Shape of matrix after TF-IDF -> teacher_prefix: x_train:  (15038, 4)\n",
      "Shape of matrix after TF-IDF -> Essay: x_cv   :  (7407, 4)\n",
      "Shape of matrix after TF-IDF -> teacher_prefix: x_test :  (16500, 4)\n"
     ]
    }
   ],
   "source": [
    "#tfidf foe teacher prefix\n",
    "\n",
    "from sklearn.feature_extraction.text import TfidfVectorizer\n",
    "vectorizer_teacher_tfidf = TfidfVectorizer(min_df=10)\n",
    "\n",
    "vectorizer_teacher_tfidf.fit(X_train['teacher_prefix'])\n",
    "\n",
    "x_train_teacher_tfidf = vectorizer_teacher_tfidf.transform(X_train['teacher_prefix'])\n",
    "x_cv_teacher_tfidf    = vectorizer_teacher_tfidf.transform(X_cv['teacher_prefix'])\n",
    "x_test_teacher_tfidf  = vectorizer_teacher_tfidf.transform(X_test['teacher_prefix'])\n",
    "\n",
    "print(\"Shape of matrix after TF-IDF -> teacher_prefix: x_train: \",x_train_teacher_tfidf.shape)\n",
    "print(\"Shape of matrix after TF-IDF -> Essay: x_cv   : \",x_cv_teacher_tfidf.shape)\n",
    "print(\"Shape of matrix after TF-IDF -> teacher_prefix: x_test : \",x_test_teacher_tfidf.shape)"
   ]
  },
  {
   "cell_type": "code",
   "execution_count": 311,
   "metadata": {},
   "outputs": [
    {
     "name": "stdout",
     "output_type": "stream",
     "text": [
      "Shape of matrix after TF-IDF -> project_grade_prop: x_train:  (15038, 4)\n",
      "Shape of matrix after TF-IDF -> Essay: x_cv   :  (7407, 4)\n",
      "Shape of matrix after TF-IDF -> project_grade_prop: x_test :  (16500, 4)\n"
     ]
    }
   ],
   "source": [
    "#Project grade\n",
    "from sklearn.feature_extraction.text import TfidfVectorizer\n",
    "vectorizer_project_grade_prop_tfidf = TfidfVectorizer(min_df=10)\n",
    "\n",
    "vectorizer_project_grade_prop_tfidf.fit(X_train['project_grade_category'])\n",
    "\n",
    "x_train_project_grade_prop_tfidf = vectorizer_project_grade_prop_tfidf.transform(X_train['project_grade_category'])\n",
    "x_cv_project_grade_prop_tfidf    = vectorizer_project_grade_prop_tfidf.transform(X_cv['project_grade_category'])\n",
    "x_test_project_grade_prop_tfidf  = vectorizer_project_grade_prop_tfidf.transform(X_test['project_grade_category'])\n",
    "\n",
    "print(\"Shape of matrix after TF-IDF -> project_grade_prop: x_train: \",x_train_project_grade_prop_tfidf.shape)\n",
    "print(\"Shape of matrix after TF-IDF -> Essay: x_cv   : \",x_cv_project_grade_prop_tfidf.shape)\n",
    "print(\"Shape of matrix after TF-IDF -> project_grade_prop: x_test : \",x_test_project_grade_prop_tfidf.shape)"
   ]
  },
  {
   "cell_type": "code",
   "execution_count": 312,
   "metadata": {},
   "outputs": [
    {
     "name": "stdout",
     "output_type": "stream",
     "text": [
      "Shape of matrix after TF-IDF -> clean_category: x_train:  (16500, 4)\n",
      "Shape of matrix after TF-IDF -> Essay: x_cv   :  (7407, 4)\n",
      "Shape of matrix after TF-IDF -> clean_category: x_test :  (16500, 4)\n"
     ]
    }
   ],
   "source": [
    "#clean categories\n",
    "from sklearn.feature_extraction.text import TfidfVectorizer\n",
    "vectorizer_clean_category_tfidf = TfidfVectorizer(min_df=10)\n",
    "\n",
    "vectorizer_clean_category_tfidf.fit(X_train['clean_categories'])\n",
    "\n",
    "x_train_clean_category_tfidf = vectorizer_project_grade_prop_tfidf.transform(X_train['clean_categories'])\n",
    "x_cv_clean_category_tfidf    = vectorizer_project_grade_prop_tfidf.transform(X_cv['clean_categories'])\n",
    "x_test_clean_category_tfidf  = vectorizer_project_grade_prop_tfidf.transform(X_test['clean_categories'])\n",
    "\n",
    "print(\"Shape of matrix after TF-IDF -> clean_category: x_train: \",x_test_clean_category_tfidf.shape)\n",
    "print(\"Shape of matrix after TF-IDF -> Essay: x_cv   : \",x_cv_clean_category_tfidf.shape)\n",
    "print(\"Shape of matrix after TF-IDF -> clean_category: x_test : \",x_test_clean_category_tfidf.shape)"
   ]
  },
  {
   "cell_type": "markdown",
   "metadata": {
    "colab_type": "text",
    "id": "yYHPYadYb3dh"
   },
   "source": [
    "<h2>1.5 Appling NB on different kind of featurization as mentioned in the instructions</h2>\n",
    "\n",
    "<br>Apply NB on different kind of featurization as mentioned in the instructions\n",
    "<br> For Every model that you work on make sure you do the step 2 and step 3 of instrucations"
   ]
  },
  {
   "cell_type": "code",
   "execution_count": 228,
   "metadata": {
    "colab": {},
    "colab_type": "code",
    "id": "DNwqilFxb3di"
   },
   "outputs": [],
   "source": [
    "# please write all the code with proper documentation, and proper titles for each subsection\n",
    "# go through documentations and blogs before you start coding\n",
    "# first figure out what to do, and then think about how to do.\n",
    "# reading and understanding error messages will be very much helpfull in debugging your code\n",
    "# when you plot any graph make sure you use \n",
    "    # a. Title, that describes your plot, this will be very helpful to the reader\n",
    "    # b. Legends if needed\n",
    "    # c. X-axis label\n",
    "    # d. Y-axis label"
   ]
  },
  {
   "cell_type": "markdown",
   "metadata": {},
   "source": [
    "# MERGING THE FEATURES"
   ]
  },
  {
   "cell_type": "code",
   "execution_count": 231,
   "metadata": {},
   "outputs": [
    {
     "name": "stdout",
     "output_type": "stream",
     "text": [
      "Final Data matrix\n",
      "(15038, 7496) (15038,)\n",
      "(16500, 7496) (16500,)\n",
      "====================================================================================================\n"
     ]
    }
   ],
   "source": [
    "# merge two sparse matrices: https://stackoverflow.com/a/19710648/4084039\n",
    "from scipy.sparse import hstack\n",
    "X_train_price_norm = X_train_price_norm.reshape((-1,1))\n",
    "X_test_price_norm = X_test_price_norm.reshape((-1,1))\n",
    "X_tr = hstack((X_train_essay_bow, X_train_state_ohe, X_train_teacher_ohe, X_train_grade_ohe,X_train_clean_ohe,X_train_price_norm)).tocsr()\n",
    "#X_cr = hstack((X_cv_essay_bow, X_cv_state_ohe, X_cv_teacher_ohe, X_cv_grade_ohe, X_cv_price_norm,X_cv_price_norm)).tocsr()\n",
    "X_te = hstack((X_test_essay_bow, X_test_state_ohe, X_test_teacher_ohe, X_test_grade_ohe,X_test_clean_ohe,X_test_price_norm)).tocsr()\n",
    "\n",
    "print(\"Final Data matrix\")\n",
    "print(X_tr.shape, y_train.shape)\n",
    "#print(X_cr.shape, y_cv.shape)\n",
    "print(X_te.shape, y_test.shape)\n",
    "print(\"=\"*100)"
   ]
  },
  {
   "cell_type": "markdown",
   "metadata": {},
   "source": [
    "# SET 1: bow"
   ]
  },
  {
   "cell_type": "code",
   "execution_count": 394,
   "metadata": {},
   "outputs": [
    {
     "name": "stdout",
     "output_type": "stream",
     "text": [
      "(15038, 7496) (15038,)\n"
     ]
    }
   ],
   "source": [
    "from scipy.sparse import hstack\n",
    "# with the same hstack function we are concatinating a sparse matrix and a dense matirx :) \n",
    "X_set1_train = hstack((X_train_essay_bow,X_train_state_ohe,X_train_teacher_ohe,X_train_grade_ohe, X_train_clean_ohe, X_train_price_norm))\n",
    "print(X_set1_train.shape, y_train.shape)"
   ]
  },
  {
   "cell_type": "code",
   "execution_count": 395,
   "metadata": {},
   "outputs": [
    {
     "name": "stdout",
     "output_type": "stream",
     "text": [
      "(16500, 7496) (16500,)\n"
     ]
    }
   ],
   "source": [
    "X_set1_test = hstack((X_test_essay_bow,X_test_state_ohe,X_test_teacher_ohe,X_test_grade_ohe, X_test_clean_ohe, X_test_price_norm))\n",
    "print(X_set1_test.shape, y_test.shape)"
   ]
  },
  {
   "cell_type": "code",
   "execution_count": 406,
   "metadata": {},
   "outputs": [
    {
     "name": "stdout",
     "output_type": "stream",
     "text": [
      "(7407, 7496) (7407,)\n"
     ]
    }
   ],
   "source": [
    "X_set1_cv = hstack((X_cv_essay_bow,X_cv_state_ohe,X_cv_teacher_ohe,X_cv_grade_ohe, X_cv_clean_ohe, X_cv_price_norm))\n",
    "print(X_set1_cv.shape, y_cv.shape)"
   ]
  },
  {
   "cell_type": "code",
   "execution_count": null,
   "metadata": {},
   "outputs": [],
   "source": []
  },
  {
   "cell_type": "markdown",
   "metadata": {},
   "source": [
    "# SET2:TFIDF"
   ]
  },
  {
   "cell_type": "code",
   "execution_count": 371,
   "metadata": {},
   "outputs": [
    {
     "name": "stdout",
     "output_type": "stream",
     "text": [
      "(15038, 7489) (15038,)\n"
     ]
    }
   ],
   "source": [
    "X_set2_train = hstack((X_train_essays_tfidf,x_train_state_tfidf,x_train_teacher_tfidf,x_train_project_grade_prop_tfidf, x_train_clean_category_tfidf, X_train_price_norm))\n",
    "print(X_set2_train.shape, y_train.shape)"
   ]
  },
  {
   "cell_type": "code",
   "execution_count": 372,
   "metadata": {},
   "outputs": [
    {
     "name": "stdout",
     "output_type": "stream",
     "text": [
      "(16500, 7489) (16500,)\n"
     ]
    }
   ],
   "source": [
    "X_set2_test = hstack((X_test_essays_tfidf,x_test_state_tfidf,x_test_teacher_tfidf,x_test_project_grade_prop_tfidf, x_test_clean_category_tfidf, X_test_price_norm))\n",
    "print(X_set2_test.shape, y_test.shape)"
   ]
  },
  {
   "cell_type": "code",
   "execution_count": 373,
   "metadata": {},
   "outputs": [
    {
     "name": "stdout",
     "output_type": "stream",
     "text": [
      "(7407, 7489) (7407,)\n"
     ]
    }
   ],
   "source": [
    "X_set2_cv = hstack((X_cv_essays_tfidf,x_cv_state_tfidf,x_cv_teacher_tfidf,x_cv_project_grade_prop_tfidf, x_cv_clean_category_tfidf, X_cv_price_norm))\n",
    "print(X_set2_cv.shape, y_cv.shape)"
   ]
  },
  {
   "cell_type": "code",
   "execution_count": null,
   "metadata": {},
   "outputs": [],
   "source": []
  },
  {
   "cell_type": "markdown",
   "metadata": {},
   "source": [
    "# Temp"
   ]
  },
  {
   "cell_type": "code",
   "execution_count": 374,
   "metadata": {},
   "outputs": [
    {
     "name": "stderr",
     "output_type": "stream",
     "text": [
      "C:\\Users\\Chance\\Anaconda3\\lib\\site-packages\\sklearn\\naive_bayes.py:480: UserWarning: alpha too small will result in numeric errors, setting alpha = 1.0e-10\n",
      "  'setting alpha = %.1e' % _ALPHA_MIN)\n",
      "C:\\Users\\Chance\\Anaconda3\\lib\\site-packages\\sklearn\\naive_bayes.py:480: UserWarning: alpha too small will result in numeric errors, setting alpha = 1.0e-10\n",
      "  'setting alpha = %.1e' % _ALPHA_MIN)\n",
      "C:\\Users\\Chance\\Anaconda3\\lib\\site-packages\\sklearn\\naive_bayes.py:480: UserWarning: alpha too small will result in numeric errors, setting alpha = 1.0e-10\n",
      "  'setting alpha = %.1e' % _ALPHA_MIN)\n",
      "C:\\Users\\Chance\\Anaconda3\\lib\\site-packages\\sklearn\\naive_bayes.py:480: UserWarning: alpha too small will result in numeric errors, setting alpha = 1.0e-10\n",
      "  'setting alpha = %.1e' % _ALPHA_MIN)\n",
      "C:\\Users\\Chance\\Anaconda3\\lib\\site-packages\\sklearn\\utils\\deprecation.py:125: FutureWarning: You are accessing a training score ('split0_train_score'), which will not be available by default any more in 0.21. If you need training scores, please set return_train_score=True\n",
      "  warnings.warn(*warn_args, **warn_kwargs)\n",
      "C:\\Users\\Chance\\Anaconda3\\lib\\site-packages\\sklearn\\utils\\deprecation.py:125: FutureWarning: You are accessing a training score ('split1_train_score'), which will not be available by default any more in 0.21. If you need training scores, please set return_train_score=True\n",
      "  warnings.warn(*warn_args, **warn_kwargs)\n",
      "C:\\Users\\Chance\\Anaconda3\\lib\\site-packages\\sklearn\\utils\\deprecation.py:125: FutureWarning: You are accessing a training score ('split2_train_score'), which will not be available by default any more in 0.21. If you need training scores, please set return_train_score=True\n",
      "  warnings.warn(*warn_args, **warn_kwargs)\n",
      "C:\\Users\\Chance\\Anaconda3\\lib\\site-packages\\sklearn\\utils\\deprecation.py:125: FutureWarning: You are accessing a training score ('mean_train_score'), which will not be available by default any more in 0.21. If you need training scores, please set return_train_score=True\n",
      "  warnings.warn(*warn_args, **warn_kwargs)\n",
      "C:\\Users\\Chance\\Anaconda3\\lib\\site-packages\\sklearn\\utils\\deprecation.py:125: FutureWarning: You are accessing a training score ('std_train_score'), which will not be available by default any more in 0.21. If you need training scores, please set return_train_score=True\n",
      "  warnings.warn(*warn_args, **warn_kwargs)\n"
     ]
    },
    {
     "data": {
      "image/png": "[encoded data removed]",
      "text/plain": [
       "<Figure size 432x288 with 1 Axes>"
      ]
     },
     "metadata": {},
     "output_type": "display_data"
    }
   ],
   "source": [
    "# https://scikit-learn.org/stable/modules/generated/sklearn.model_selection.GridSearchCV.html\n",
    "from sklearn.model_selection import GridSearchCV\n",
    "from scipy.stats import randint as sp_randint\n",
    "from sklearn.model_selection import RandomizedSearchCV\n",
    "\n",
    "parameters = {'alpha': range(0,50)}#\n",
    "neigh = MultinomialNB()# takes the alpha from the  i th list value    \n",
    "clf = RandomizedSearchCV(neigh, parameters, cv=3, scoring='roc_auc')\n",
    "clf.fit(X_set1_train, y_train)\n",
    "\n",
    "results = pd.DataFrame.from_dict(clf.cv_results_)\n",
    "results = results.sort_values(['param_alpha'])\n",
    "\n",
    "train_auc= results['mean_train_score']\n",
    "train_auc_std= results['std_train_score']\n",
    "cv_auc = results['mean_test_score'] \n",
    "cv_auc_std= results['std_test_score']\n",
    "K =  results['param_alpha']\n",
    "\n",
    "plt.plot(K, train_auc, label='Train AUC')\n",
    "# this code is copied from here: https://stackoverflow.com/a/48803361/4084039\n",
    "# plt.gca().fill_between(K, train_auc - train_auc_std,train_auc + train_auc_std,alpha=0.2,color='darkblue')\n",
    "\n",
    "plt.plot(K, cv_auc, label='CV AUC')\n",
    "# this code is copied from here: https://stackoverflow.com/a/48803361/4084039\n",
    "# plt.gca().fill_between(K, cv_auc - cv_auc_std,cv_auc + cv_auc_std,alpha=0.2,color='darkorange')\n",
    "\n",
    "plt.scatter(K, train_auc, label='Train AUC points')\n",
    "plt.scatter(K, cv_auc, label='CV AUC points')\n",
    "\n",
    "\n",
    "plt.legend()\n",
    "plt.xlabel(\"K: hyperparameter\")\n",
    "plt.ylabel(\"AUC\")\n",
    "plt.title(\"Hyper parameter Vs AUC plot\")\n",
    "plt.grid()\n",
    "plt.show()\n",
    "\n",
    "#results.head()"
   ]
  },
  {
   "cell_type": "code",
   "execution_count": 377,
   "metadata": {},
   "outputs": [],
   "source": [
    "best_alpha = 11"
   ]
  },
  {
   "cell_type": "code",
   "execution_count": 378,
   "metadata": {},
   "outputs": [
    {
     "data": {
      "image/png": "[encoded data removed]",
      "text/plain": [
       "<Figure size 432x288 with 1 Axes>"
      ]
     },
     "metadata": {},
     "output_type": "display_data"
    },
    {
     "name": "stdout",
     "output_type": "stream",
     "text": [
      "====================================================================================================\n"
     ]
    }
   ],
   "source": [
    "neigh =  MultinomialNB(alpha=best_alpha) \n",
    "neigh.fit(X_set1_train ,y_train) # roc_auc_score(y_true, y_score) the 2nd parameter should be probability estimates of the positive class # not the predicted outputs \n",
    "train_fpr, train_tpr, thresholds = roc_curve(y_train, neigh.predict_proba(X_set1_train)[:,1]) \n",
    "test_fpr, test_tpr, thresholds = roc_curve(y_test, neigh.predict_proba(X_set1_test)[:,1]) \n",
    "plt.plot(train_fpr, train_tpr, label=\"train AUC =\"+str(auc(train_fpr, train_tpr))) \n",
    "plt.plot(test_fpr, test_tpr, label=\"test AUC =\"+str(auc(test_fpr, test_tpr))) \n",
    "plt.legend() \n",
    "plt.xlabel(\"True Positive Rate(TPR)\") \n",
    "plt.ylabel(\"False Positive Rate(FPR)\") \n",
    "plt.title(\"ROC PLOTS\") \n",
    "plt.show()\n",
    "print(\"=\"*100)"
   ]
  },
  {
   "cell_type": "code",
   "execution_count": 379,
   "metadata": {},
   "outputs": [],
   "source": [
    "def find_best_threshold(threshould, fpr, tpr):\n",
    "    t = threshould[np.argmax(tpr*(1-fpr))]\n",
    "    # (tpr*(1-fpr)) will be maximum if your fpr is very low and tpr is very high\n",
    "    print(\"the maximum value of tpr*(1-fpr)\", max(tpr*(1-fpr)), \"for threshold\", np.round(t,3))\n",
    "    return t\n",
    "\n",
    "def predict_with_best_t(proba, threshould):\n",
    "    predictions = []\n",
    "    for i in proba:\n",
    "        if i>=threshould:\n",
    "            predictions.append(1)\n",
    "        else:\n",
    "            predictions.append(0)\n",
    "    return predictions"
   ]
  },
  {
   "cell_type": "code",
   "execution_count": 438,
   "metadata": {},
   "outputs": [
    {
     "data": {
      "text/plain": [
       "'print(\"=\"*100)\\nfrom sklearn.metrics import confusion_matrix\\nbest_t = find_best_threshold(tr_thresholds, train_fpr, train_tpr)\\nprint(\"Train confusion matrix\")\\nprint(confusion_matrix(y_train, predict_with_best_t(y_train_pred, best_t)))\\nprint(\"Test confusion matrix\")\\nprint(confusion_matrix(y_test, predict_with_best_t(y_test_pred, best_t)))'"
      ]
     },
     "execution_count": 438,
     "metadata": {},
     "output_type": "execute_result"
    }
   ],
   "source": [
    "'''print(\"=\"*100)\n",
    "from sklearn.metrics import confusion_matrix\n",
    "best_t = find_best_threshold(tr_thresholds, train_fpr, train_tpr)\n",
    "print(\"Train confusion matrix\")\n",
    "print(confusion_matrix(y_train, predict_with_best_t(y_train_pred, best_t)))\n",
    "print(\"Test confusion matrix\")\n",
    "print(confusion_matrix(y_test, predict_with_best_t(y_test_pred, best_t)))'''"
   ]
  },
  {
   "cell_type": "code",
   "execution_count": 381,
   "metadata": {},
   "outputs": [],
   "source": [
    "import pickle\n",
    "\n",
    "with open('glove_vectors', 'rb') as f:\n",
    "    model = pickle.load(f)\n",
    "    glove_words =  set(model.keys())"
   ]
  },
  {
   "cell_type": "code",
   "execution_count": 382,
   "metadata": {
    "scrolled": true
   },
   "outputs": [
    {
     "name": "stderr",
     "output_type": "stream",
     "text": [
      "100%|██████████████████████████████████████████████████████████████████████████| 15038/15038 [00:07<00:00, 2000.31it/s]\n"
     ]
    },
    {
     "name": "stdout",
     "output_type": "stream",
     "text": [
      "15038\n",
      "300\n",
      "[ 1.01462617e-02 -6.00055625e-03 -1.43572383e-02 -1.01298714e-01\n",
      " -3.00602891e-02  3.27918469e-02 -3.18758891e+00  9.01775430e-02\n",
      "  1.92210125e-02 -3.97498750e-02  3.69419474e-02  1.11812939e-02\n",
      "  1.24037342e-01 -3.72088125e-02 -4.87223281e-02  4.22964711e-02\n",
      "  6.62812250e-02 -8.76224875e-02  1.11034186e-01  1.51456523e-02\n",
      "  8.44976751e-02  1.63069586e-02 -1.62717109e-02  2.14857531e-02\n",
      " -8.17279637e-02 -4.60461109e-02  3.57229984e-02 -3.80566391e-02\n",
      " -5.05085891e-02 -6.56263055e-02 -2.28127296e-01 -9.89113086e-02\n",
      "  1.00336648e-01  1.27110599e-01  1.18728633e-03 -6.01686672e-02\n",
      " -2.96263546e-02 -2.84552391e-02 -2.07792969e-02 -2.65047469e-02\n",
      " -1.14274588e-01  7.93046453e-02 -3.14728070e-02 -1.29838227e-01\n",
      " -3.26351563e-04 -4.74455867e-02  8.04292547e-02 -2.36165078e-02\n",
      "  1.10553125e-03 -9.17203367e-02 -5.31611664e-02  2.51524281e-02\n",
      "  1.82643125e-02 -8.46662422e-03  8.24963053e-02 -3.30834867e-02\n",
      "  1.69835883e-01 -5.77786984e-02 -1.84396641e-02  1.37667961e-01\n",
      " -3.40112281e-02 -8.33990633e-02  1.13559406e-01 -2.25985781e-02\n",
      " -1.97112109e-02  1.47302334e-01  8.24497859e-02 -4.21340352e-02\n",
      "  7.53369039e-02 -1.32855772e-01 -1.17979217e-01 -3.61555203e-02\n",
      " -1.54328014e-02 -1.07904807e-01 -3.59597422e-02 -1.95236598e-01\n",
      "  5.46068203e-03 -1.62362156e-02  5.59597891e-02 -3.90218954e-02\n",
      "  6.85097566e-02 -4.13124852e-01 -6.56292812e-03 -3.48421797e-02\n",
      " -1.03788661e-01  2.17757931e-02  1.32943695e-01 -7.30456078e-02\n",
      "  1.44801060e-01  1.29675875e-02  2.80592102e-02  3.33625594e-02\n",
      " -4.12879453e-02  8.99465934e-02 -3.61691953e-02 -1.44762984e-01\n",
      " -2.22393102e+00  2.42285078e-02  1.00687894e-01  6.87417695e-02\n",
      " -1.52901673e-01 -1.88660938e-02  1.65515311e-01 -8.82001305e-02\n",
      "  7.04806477e-02 -3.18637289e-02  6.93104891e-02 -1.93328777e-01\n",
      "  6.92871360e-02  2.89256430e-02 -1.10480137e-01 -2.15977505e-02\n",
      "  4.50886062e-02  2.46006745e-01 -5.77187117e-02  1.74060164e-01\n",
      " -2.32441836e-01  7.70031328e-02  1.02118916e-01  4.40644750e-02\n",
      "  3.03208898e-02  1.23738936e-01 -6.42749777e-02 -7.25404313e-02\n",
      "  9.40495398e-02  1.30796031e-02  8.70640656e-02 -4.69352734e-03\n",
      "  2.78383281e-02  1.63193765e-01  1.24224092e-02  6.20332609e-03\n",
      "  2.56331563e-03 -5.02264984e-02  8.56720141e-02 -1.40171431e-01\n",
      "  1.69124564e-01 -1.25915484e-02  4.34037320e-02  3.22796037e-01\n",
      "  8.91302359e-02 -8.29985508e-03  8.09993625e-02 -3.34745359e-02\n",
      " -4.45891344e-03 -1.03483242e-01  4.38797043e-02 -4.29121685e-02\n",
      "  2.21738416e-01  6.88369859e-02 -1.08203680e-02  2.77919336e-02\n",
      "  5.72192250e-02 -1.07053421e-01  1.54649952e-02  5.98842344e-02\n",
      "  2.35483984e-02 -1.58292195e-03 -6.65601937e-02  1.06034297e-02\n",
      "  7.55817328e-02  2.52012953e-03 -6.96264945e-02 -7.59067805e-02\n",
      " -2.43716313e-02  7.84287000e-02 -5.34102977e-02  8.13672586e-02\n",
      "  9.56687900e-02 -6.70277187e-02 -4.59671961e-02 -3.17776633e-02\n",
      " -1.03055414e-01 -1.82091688e-01 -1.48516421e-02  5.95112359e-02\n",
      " -4.92770805e-02  3.77821672e-02 -1.54253766e-01 -3.32588828e-02\n",
      "  1.72243655e-02  3.07651946e-01 -4.70311359e-02  3.01353094e-02\n",
      " -1.12999359e-01 -6.95329141e-02 -7.45849020e-02 -2.82149536e-02\n",
      "  6.25742656e-02  3.66400250e-02  6.58035398e-03 -3.95619445e-02\n",
      " -3.32073500e-02 -1.56396359e-02  4.33436176e-02 -1.10740461e-01\n",
      " -9.67225383e-02 -3.89611719e-04  7.58708805e-02  8.48020877e-02\n",
      "  1.48777906e-01 -3.58964094e-02 -8.18989305e-02  9.59162469e-02\n",
      " -8.39535078e-02 -8.74704062e-03  4.46062931e-02 -6.79345680e-02\n",
      "  1.86181066e-01  4.44219086e-02  7.78523828e-02  2.80239437e-02\n",
      "  4.85484758e-02 -1.72125824e-01 -9.19732923e-02 -5.42948950e-02\n",
      " -4.21331336e-02 -3.52011328e-02  1.66722779e-02  2.94040461e-02\n",
      " -1.18224884e-01 -5.35697547e-02 -9.42879969e-02 -1.27089805e-01\n",
      " -2.08292677e+00  7.25162600e-02  1.41959969e-02 -1.51736945e-03\n",
      " -2.68758312e-02 -1.74310806e-01 -3.05720813e-02  2.96060180e-02\n",
      "  1.32154672e-02  2.09055469e-03 -5.22974109e-02  5.61811563e-02\n",
      " -1.23903687e-02 -4.18488875e-02 -2.77656734e-02  1.16831796e-01\n",
      " -1.68918297e-02  5.92812445e-02 -3.22793410e-01  7.37488906e-02\n",
      " -3.91357945e-02  1.99777266e-03 -2.83804395e-02 -5.06997844e-02\n",
      "  1.38600701e-02 -4.62671805e-02 -7.20767969e-03  1.38919395e-01\n",
      "  8.15896906e-02 -7.82752891e-02  1.05595798e-01 -7.47816133e-02\n",
      "  1.35840435e-01 -4.33733016e-02  9.66710008e-02 -4.89447156e-02\n",
      "  3.40449922e-03  1.72599312e-02  1.17350672e-02  4.84572266e-02\n",
      " -9.25083984e-03 -1.01767653e-01 -1.17067254e-01  4.24710812e-02\n",
      "  9.82800242e-02  6.43614545e-02 -4.85092516e-02  4.37354063e-03\n",
      " -1.67550498e-01  7.61057109e-02 -1.08805322e-01  5.36779312e-02\n",
      "  1.19591751e-01  1.52497086e-02 -5.91004187e-02  5.25618055e-02\n",
      "  1.08858429e-01  1.05402771e-02 -2.25148883e-02  8.89627742e-02\n",
      " -1.28486023e-02  1.45657313e-01 -5.56449344e-02  8.35139787e-02\n",
      " -1.46846956e-02 -1.79997172e-02  2.00733953e-02 -2.54950472e-02\n",
      " -9.63794625e-02 -7.67100148e-02  8.22773320e-02  3.73207813e-02\n",
      " -1.03433203e-03  1.67938880e-01  9.87245958e-02 -2.77076475e-02]\n"
     ]
    }
   ],
   "source": [
    "# average Word2Vec\n",
    "# compute average word2vec for each review.\n",
    "avg_w2v_vectors_train = []; # the avg-w2v for each sentence/review is stored in this list\n",
    "for sentence in tqdm(X_train['essay'].values): # for each review/sentence\n",
    "    vector = np.zeros(300) # as word vectors are of zero length\n",
    "    cnt_words =0; # num of words with a valid vector in the sentence/review\n",
    "    for word in sentence.split(): # for each word in a review/sentence\n",
    "        if word in glove_words:\n",
    "            vector += model[word]\n",
    "            cnt_words += 1\n",
    "    if cnt_words != 0:\n",
    "        vector /= cnt_words\n",
    "    avg_w2v_vectors_train.append(vector)\n",
    "\n",
    "print(len(avg_w2v_vectors_train))\n",
    "print(len(avg_w2v_vectors_train[0]))\n",
    "print(avg_w2v_vectors_train[0])"
   ]
  },
  {
   "cell_type": "code",
   "execution_count": 383,
   "metadata": {},
   "outputs": [
    {
     "name": "stderr",
     "output_type": "stream",
     "text": [
      "100%|████████████████████████████████████████████████████████████████████████████| 7407/7407 [00:03<00:00, 1981.72it/s]\n"
     ]
    }
   ],
   "source": [
    "avg_w2v_vectors_cv = []; # the avg-w2v for each sentence/review is stored in this list\n",
    "for sentence in tqdm(X_cv['essay'].values): # for each review/sentence\n",
    "    vector = np.zeros(300) # as word vectors are of zero length\n",
    "    cnt_words =0; # num of words with a valid vector in the sentence/review\n",
    "    for word in sentence.split(): # for each word in a review/sentence\n",
    "        if word in glove_words:\n",
    "            vector += model[word]\n",
    "            cnt_words += 1\n",
    "    if cnt_words != 0:\n",
    "        vector /= cnt_words\n",
    "    avg_w2v_vectors_cv.append(vector)"
   ]
  },
  {
   "cell_type": "code",
   "execution_count": 384,
   "metadata": {},
   "outputs": [
    {
     "name": "stderr",
     "output_type": "stream",
     "text": [
      "100%|██████████████████████████████████████████████████████████████████████████| 16500/16500 [00:08<00:00, 1930.71it/s]\n"
     ]
    }
   ],
   "source": [
    "avg_w2v_vectors_test = []; # the avg-w2v for each sentence/review is stored in this list\n",
    "for sentence in tqdm(X_test['essay'].values): # for each review/sentence\n",
    "    vector = np.zeros(300) # as word vectors are of zero length\n",
    "    cnt_words =0; # num of words with a valid vector in the sentence/review\n",
    "    for word in sentence.split(): # for each word in a review/sentence\n",
    "        if word in glove_words:\n",
    "            vector += model[word]\n",
    "            cnt_words += 1\n",
    "    if cnt_words != 0:\n",
    "        vector /= cnt_words\n",
    "    avg_w2v_vectors_test.append(vector)"
   ]
  },
  {
   "cell_type": "code",
   "execution_count": 427,
   "metadata": {},
   "outputs": [
    {
     "name": "stdout",
     "output_type": "stream",
     "text": [
      "Final Data matrix\n",
      "(15038, 7796) (15038,)\n",
      "(16500, 7796) (16500,)\n",
      "(7407, 7796) (7407,)\n",
      "====================================================================================================\n"
     ]
    }
   ],
   "source": [
    "X_set1_train = hstack((scaled_x_train, X_train_essay_bow,X_train_state_ohe,X_train_teacher_ohe,X_train_grade_ohe, X_train_clean_ohe, X_train_price_norm)).tocsr()\n",
    "X_set1_test = hstack((avg_w2v_vectors_test, X_test_essay_bow,X_test_state_ohe,X_test_teacher_ohe,X_test_grade_ohe, X_test_clean_ohe, X_test_price_norm)).tocsr()\n",
    "X_set1_cv = hstack((avg_w2v_vectors_cv, X_cv_essay_bow,X_cv_state_ohe,X_cv_teacher_ohe,X_cv_grade_ohe, X_cv_clean_ohe, X_cv_price_norm)).tocsr()\n",
    "\n",
    "print(\"Final Data matrix\")\n",
    "print(X_set1_train.shape, y_train.shape)\n",
    "print(X_set1_test.shape, y_test.shape)\n",
    "print(X_set1_cv.shape, y_cv.shape)\n",
    "print(\"=\"*100)"
   ]
  },
  {
   "cell_type": "code",
   "execution_count": 425,
   "metadata": {},
   "outputs": [],
   "source": [
    "from sklearn import preprocessing\n",
    "\n",
    "scaled = preprocessing.MinMaxScaler()\n",
    "scaled_x_train = scaled.fit_transform(avg_w2v_vectors_train)"
   ]
  },
  {
   "cell_type": "code",
   "execution_count": 426,
   "metadata": {},
   "outputs": [
    {
     "data": {
      "text/plain": [
       "array([[0.49512779, 0.39869043, 0.56491944, ..., 0.60840074, 0.46685023,\n",
       "        0.36951389],\n",
       "       [0.47370788, 0.39101295, 0.56621807, ..., 0.6219031 , 0.63677253,\n",
       "        0.58813362],\n",
       "       [0.42440623, 0.64650605, 0.7132597 , ..., 0.47200474, 0.60773842,\n",
       "        0.60172415],\n",
       "       ...,\n",
       "       [0.50984894, 0.59998406, 0.55132072, ..., 0.43576561, 0.52328791,\n",
       "        0.31298968],\n",
       "       [0.70744745, 0.38429728, 0.70163708, ..., 0.65205579, 0.4439634 ,\n",
       "        0.45089913],\n",
       "       [0.363942  , 0.64083597, 0.59414317, ..., 0.47346557, 0.45051298,\n",
       "        0.62036891]])"
      ]
     },
     "execution_count": 426,
     "metadata": {},
     "output_type": "execute_result"
    }
   ],
   "source": [
    "scaled_x_train"
   ]
  },
  {
   "cell_type": "code",
   "execution_count": 428,
   "metadata": {},
   "outputs": [
    {
     "name": "stderr",
     "output_type": "stream",
     "text": [
      "C:\\Users\\Chance\\Anaconda3\\lib\\site-packages\\sklearn\\utils\\deprecation.py:125: FutureWarning: You are accessing a training score ('split0_train_score'), which will not be available by default any more in 0.21. If you need training scores, please set return_train_score=True\n",
      "  warnings.warn(*warn_args, **warn_kwargs)\n",
      "C:\\Users\\Chance\\Anaconda3\\lib\\site-packages\\sklearn\\utils\\deprecation.py:125: FutureWarning: You are accessing a training score ('split1_train_score'), which will not be available by default any more in 0.21. If you need training scores, please set return_train_score=True\n",
      "  warnings.warn(*warn_args, **warn_kwargs)\n",
      "C:\\Users\\Chance\\Anaconda3\\lib\\site-packages\\sklearn\\utils\\deprecation.py:125: FutureWarning: You are accessing a training score ('split2_train_score'), which will not be available by default any more in 0.21. If you need training scores, please set return_train_score=True\n",
      "  warnings.warn(*warn_args, **warn_kwargs)\n",
      "C:\\Users\\Chance\\Anaconda3\\lib\\site-packages\\sklearn\\utils\\deprecation.py:125: FutureWarning: You are accessing a training score ('mean_train_score'), which will not be available by default any more in 0.21. If you need training scores, please set return_train_score=True\n",
      "  warnings.warn(*warn_args, **warn_kwargs)\n",
      "C:\\Users\\Chance\\Anaconda3\\lib\\site-packages\\sklearn\\utils\\deprecation.py:125: FutureWarning: You are accessing a training score ('std_train_score'), which will not be available by default any more in 0.21. If you need training scores, please set return_train_score=True\n",
      "  warnings.warn(*warn_args, **warn_kwargs)\n"
     ]
    },
    {
     "data": {
      "image/png": "[encoded data removed]",
      "text/plain": [
       "<Figure size 432x288 with 1 Axes>"
      ]
     },
     "metadata": {},
     "output_type": "display_data"
    }
   ],
   "source": [
    "# https://scikit-learn.org/stable/modules/generated/sklearn.model_selection.GridSearchCV.html\n",
    "from sklearn.model_selection import GridSearchCV\n",
    "from scipy.stats import randint as sp_randint\n",
    "from sklearn.model_selection import RandomizedSearchCV\n",
    "\n",
    "parameters = {'alpha': range(0,50)}#\n",
    "neigh = MultinomialNB()# takes the alpha from the  i th list value    \n",
    "clf = RandomizedSearchCV(neigh, parameters, cv=3, scoring='roc_auc')\n",
    "clf.fit(X_set1_train, y_train)\n",
    "\n",
    "results = pd.DataFrame.from_dict(clf.cv_results_)\n",
    "results = results.sort_values(['param_alpha'])\n",
    "\n",
    "train_auc= results['mean_train_score']\n",
    "train_auc_std= results['std_train_score']\n",
    "cv_auc = results['mean_test_score'] \n",
    "cv_auc_std= results['std_test_score']\n",
    "K =  results['param_alpha']\n",
    "\n",
    "plt.plot(K, train_auc, label='Train AUC')\n",
    "# this code is copied from here: https://stackoverflow.com/a/48803361/4084039\n",
    "# plt.gca().fill_between(K, train_auc - train_auc_std,train_auc + train_auc_std,alpha=0.2,color='darkblue')\n",
    "\n",
    "plt.plot(K, cv_auc, label='CV AUC')\n",
    "# this code is copied from here: https://stackoverflow.com/a/48803361/4084039\n",
    "# plt.gca().fill_between(K, cv_auc - cv_auc_std,cv_auc + cv_auc_std,alpha=0.2,color='darkorange')\n",
    "\n",
    "plt.scatter(K, train_auc, label='Train AUC points')\n",
    "plt.scatter(K, cv_auc, label='CV AUC points')\n",
    "\n",
    "\n",
    "plt.legend()\n",
    "plt.xlabel(\"K: hyperparameter\")\n",
    "plt.ylabel(\"AUC\")\n",
    "plt.title(\"Hyper parameter Vs AUC plot\")\n",
    "plt.grid()\n",
    "plt.show()\n",
    "\n",
    "#results.head()"
   ]
  },
  {
   "cell_type": "markdown",
   "metadata": {},
   "source": [
    "# Testing the performance of the model on test data, plotting ROC Curves"
   ]
  },
  {
   "cell_type": "code",
   "execution_count": 429,
   "metadata": {},
   "outputs": [],
   "source": [
    "best_alpha=11"
   ]
  },
  {
   "cell_type": "code",
   "execution_count": 431,
   "metadata": {},
   "outputs": [
    {
     "data": {
      "image/png": "[encoded data removed]",
      "text/plain": [
       "<Figure size 432x288 with 1 Axes>"
      ]
     },
     "metadata": {},
     "output_type": "display_data"
    },
    {
     "name": "stdout",
     "output_type": "stream",
     "text": [
      "====================================================================================================\n"
     ]
    }
   ],
   "source": [
    "neigh =  MultinomialNB(alpha=best_alpha) \n",
    "neigh.fit(X_set1_train ,y_train) # roc_auc_score(y_true, y_score) the 2nd parameter should be probability estimates of the positive class # not the predicted outputs \n",
    "train_fpr, train_tpr, thresholds = roc_curve(y_train, neigh.predict_proba(X_set1_train)[:,1]) \n",
    "test_fpr, test_tpr, thresholds = roc_curve(y_test, neigh.predict_proba(X_set1_test)[:,1]) \n",
    "plt.plot(train_fpr, train_tpr, label=\"train AUC =\"+str(auc(train_fpr, train_tpr))) \n",
    "plt.plot(test_fpr, test_tpr, label=\"test AUC =\"+str(auc(test_fpr, test_tpr))) \n",
    "plt.legend() \n",
    "plt.xlabel(\"True Positive Rate(TPR)\") \n",
    "plt.ylabel(\"False Positive Rate(FPR)\") \n",
    "plt.title(\"ROC PLOTS\") \n",
    "plt.show() \n",
    "print(\"=\"*100)"
   ]
  },
  {
   "cell_type": "code",
   "execution_count": 437,
   "metadata": {},
   "outputs": [
    {
     "name": "stdout",
     "output_type": "stream",
     "text": [
      "====================================================================================================\n",
      "the maximum value of tpr*(1-fpr) 0.5445633194942515 for threshold 0.46\n",
      "Train confusion matrix\n",
      "[[ 1736   673]\n",
      " [ 1852 10777]]\n",
      "Test confusion matrix\n",
      "[[ 1102  1540]\n",
      " [ 2522 11336]]\n"
     ]
    }
   ],
   "source": [
    "print(\"=\"*100)\n",
    "from sklearn.metrics import confusion_matrix\n",
    "best_t = find_best_threshold(tr_thresholds, train_fpr, train_tpr)\n",
    "print(\"Train confusion matrix\")\n",
    "print(confusion_matrix(y_train, predict_with_best_t(y_train_pred, best_t)))\n",
    "print(\"Test confusion matrix\")\n",
    "print(confusion_matrix(y_test, predict_with_best_t(y_test_pred, best_t)))"
   ]
  },
  {
   "cell_type": "markdown",
   "metadata": {},
   "source": [
    "SET2 The hyper paramter tuning(find best alpha)"
   ]
  },
  {
   "cell_type": "code",
   "execution_count": 472,
   "metadata": {},
   "outputs": [
    {
     "name": "stderr",
     "output_type": "stream",
     "text": [
      "C:\\Users\\Chance\\Anaconda3\\lib\\site-packages\\sklearn\\utils\\deprecation.py:125: FutureWarning: You are accessing a training score ('split0_train_score'), which will not be available by default any more in 0.21. If you need training scores, please set return_train_score=True\n",
      "  warnings.warn(*warn_args, **warn_kwargs)\n",
      "C:\\Users\\Chance\\Anaconda3\\lib\\site-packages\\sklearn\\utils\\deprecation.py:125: FutureWarning: You are accessing a training score ('split1_train_score'), which will not be available by default any more in 0.21. If you need training scores, please set return_train_score=True\n",
      "  warnings.warn(*warn_args, **warn_kwargs)\n",
      "C:\\Users\\Chance\\Anaconda3\\lib\\site-packages\\sklearn\\utils\\deprecation.py:125: FutureWarning: You are accessing a training score ('split2_train_score'), which will not be available by default any more in 0.21. If you need training scores, please set return_train_score=True\n",
      "  warnings.warn(*warn_args, **warn_kwargs)\n",
      "C:\\Users\\Chance\\Anaconda3\\lib\\site-packages\\sklearn\\utils\\deprecation.py:125: FutureWarning: You are accessing a training score ('mean_train_score'), which will not be available by default any more in 0.21. If you need training scores, please set return_train_score=True\n",
      "  warnings.warn(*warn_args, **warn_kwargs)\n",
      "C:\\Users\\Chance\\Anaconda3\\lib\\site-packages\\sklearn\\utils\\deprecation.py:125: FutureWarning: You are accessing a training score ('std_train_score'), which will not be available by default any more in 0.21. If you need training scores, please set return_train_score=True\n",
      "  warnings.warn(*warn_args, **warn_kwargs)\n"
     ]
    },
    {
     "data": {
      "image/png": "[encoded data removed]",
      "text/plain": [
       "<Figure size 432x288 with 1 Axes>"
      ]
     },
     "metadata": {},
     "output_type": "display_data"
    }
   ],
   "source": [
    "from sklearn.model_selection import GridSearchCV\n",
    "from scipy.stats import randint as sp_randint\n",
    "from sklearn.model_selection import RandomizedSearchCV\n",
    "\n",
    "parameters = {'alpha': range(0,20)}#\n",
    "neigh_set2 = MultinomialNB()# takes the alpha from the  i th list value    \n",
    "clf = RandomizedSearchCV(neigh_set2, parameters, cv=3, scoring='roc_auc')\n",
    "clf.fit(X_set2_train, y_train)\n",
    "\n",
    "results = pd.DataFrame.from_dict(clf.cv_results_)\n",
    "results = results.sort_values(['param_alpha'])\n",
    "\n",
    "train_auc= results['mean_train_score']\n",
    "train_auc_std= results['std_train_score']\n",
    "cv_auc = results['mean_test_score'] \n",
    "cv_auc_std= results['std_test_score']\n",
    "K =  results['param_alpha']\n",
    "\n",
    "plt.plot(K, train_auc, label='Train AUC')\n",
    "# this code is copied from here: https://stackoverflow.com/a/48803361/4084039\n",
    "# plt.gca().fill_between(K, train_auc - train_auc_std,train_auc + train_auc_std,alpha=0.2,color='darkblue')\n",
    "\n",
    "plt.plot(K, cv_auc, label='CV AUC')\n",
    "# this code is copied from here: https://stackoverflow.com/a/48803361/4084039\n",
    "# plt.gca().fill_between(K, cv_auc - cv_auc_std,cv_auc + cv_auc_std,alpha=0.2,color='darkorange')\n",
    "\n",
    "plt.scatter(K, train_auc, label='Train AUC points')\n",
    "plt.scatter(K, cv_auc, label='CV AUC points')\n",
    "\n",
    "\n",
    "plt.legend()\n",
    "plt.xlabel(\"K: hyperparameter\")\n",
    "plt.ylabel(\"AUC\")\n",
    "plt.title(\"Hyper parameter Vs AUC plot\")\n",
    "plt.grid()\n",
    "plt.show()"
   ]
  },
  {
   "cell_type": "code",
   "execution_count": 450,
   "metadata": {},
   "outputs": [],
   "source": [
    "best_alpha2 = 13"
   ]
  },
  {
   "cell_type": "code",
   "execution_count": 473,
   "metadata": {},
   "outputs": [
    {
     "data": {
      "image/png": "[encoded data removed]",
      "text/plain": [
       "<Figure size 432x288 with 1 Axes>"
      ]
     },
     "metadata": {},
     "output_type": "display_data"
    },
    {
     "name": "stdout",
     "output_type": "stream",
     "text": [
      "====================================================================================================\n"
     ]
    }
   ],
   "source": [
    "neigh_set2 =  MultinomialNB(alpha=best_alpha2) \n",
    "neigh_set2.fit(X_set1_train ,y_train) # roc_auc_score(y_true, y_score) the 2nd parameter should be probability estimates of the positive class # not the predicted outputs \n",
    "train_fpr, train_tpr, thresholds = roc_curve(y_train, neigh.predict_proba(X_set1_train)[:,1]) \n",
    "test_fpr, test_tpr, thresholds = roc_curve(y_test, neigh.predict_proba(X_set1_test)[:,1]) \n",
    "plt.plot(train_fpr, train_tpr, label=\"train AUC =\"+str(auc(train_fpr, train_tpr))) \n",
    "plt.plot(test_fpr, test_tpr, label=\"test AUC =\"+str(auc(test_fpr, test_tpr))) \n",
    "plt.legend() \n",
    "plt.xlabel(\"True Positive Rate(TPR)\") \n",
    "plt.ylabel(\"False Positive Rate(FPR)\") \n",
    "plt.title(\"ROC PLOTS\") \n",
    "plt.show()\n",
    "print(\"=\"*100)"
   ]
  },
  {
   "cell_type": "code",
   "execution_count": 452,
   "metadata": {},
   "outputs": [],
   "source": [
    "import pickle\n",
    "\n",
    "with open('glove_vectors', 'rb') as f:\n",
    "    model = pickle.load(f)\n",
    "    glove_words =  set(model.keys())"
   ]
  },
  {
   "cell_type": "code",
   "execution_count": 453,
   "metadata": {
    "scrolled": true
   },
   "outputs": [
    {
     "name": "stderr",
     "output_type": "stream",
     "text": [
      "100%|██████████████████████████████████████████████████████████████████████████| 15038/15038 [00:07<00:00, 1887.58it/s]\n"
     ]
    },
    {
     "name": "stdout",
     "output_type": "stream",
     "text": [
      "15038\n",
      "300\n",
      "[ 1.01462617e-02 -6.00055625e-03 -1.43572383e-02 -1.01298714e-01\n",
      " -3.00602891e-02  3.27918469e-02 -3.18758891e+00  9.01775430e-02\n",
      "  1.92210125e-02 -3.97498750e-02  3.69419474e-02  1.11812939e-02\n",
      "  1.24037342e-01 -3.72088125e-02 -4.87223281e-02  4.22964711e-02\n",
      "  6.62812250e-02 -8.76224875e-02  1.11034186e-01  1.51456523e-02\n",
      "  8.44976751e-02  1.63069586e-02 -1.62717109e-02  2.14857531e-02\n",
      " -8.17279637e-02 -4.60461109e-02  3.57229984e-02 -3.80566391e-02\n",
      " -5.05085891e-02 -6.56263055e-02 -2.28127296e-01 -9.89113086e-02\n",
      "  1.00336648e-01  1.27110599e-01  1.18728633e-03 -6.01686672e-02\n",
      " -2.96263546e-02 -2.84552391e-02 -2.07792969e-02 -2.65047469e-02\n",
      " -1.14274588e-01  7.93046453e-02 -3.14728070e-02 -1.29838227e-01\n",
      " -3.26351563e-04 -4.74455867e-02  8.04292547e-02 -2.36165078e-02\n",
      "  1.10553125e-03 -9.17203367e-02 -5.31611664e-02  2.51524281e-02\n",
      "  1.82643125e-02 -8.46662422e-03  8.24963053e-02 -3.30834867e-02\n",
      "  1.69835883e-01 -5.77786984e-02 -1.84396641e-02  1.37667961e-01\n",
      " -3.40112281e-02 -8.33990633e-02  1.13559406e-01 -2.25985781e-02\n",
      " -1.97112109e-02  1.47302334e-01  8.24497859e-02 -4.21340352e-02\n",
      "  7.53369039e-02 -1.32855772e-01 -1.17979217e-01 -3.61555203e-02\n",
      " -1.54328014e-02 -1.07904807e-01 -3.59597422e-02 -1.95236598e-01\n",
      "  5.46068203e-03 -1.62362156e-02  5.59597891e-02 -3.90218954e-02\n",
      "  6.85097566e-02 -4.13124852e-01 -6.56292812e-03 -3.48421797e-02\n",
      " -1.03788661e-01  2.17757931e-02  1.32943695e-01 -7.30456078e-02\n",
      "  1.44801060e-01  1.29675875e-02  2.80592102e-02  3.33625594e-02\n",
      " -4.12879453e-02  8.99465934e-02 -3.61691953e-02 -1.44762984e-01\n",
      " -2.22393102e+00  2.42285078e-02  1.00687894e-01  6.87417695e-02\n",
      " -1.52901673e-01 -1.88660938e-02  1.65515311e-01 -8.82001305e-02\n",
      "  7.04806477e-02 -3.18637289e-02  6.93104891e-02 -1.93328777e-01\n",
      "  6.92871360e-02  2.89256430e-02 -1.10480137e-01 -2.15977505e-02\n",
      "  4.50886062e-02  2.46006745e-01 -5.77187117e-02  1.74060164e-01\n",
      " -2.32441836e-01  7.70031328e-02  1.02118916e-01  4.40644750e-02\n",
      "  3.03208898e-02  1.23738936e-01 -6.42749777e-02 -7.25404313e-02\n",
      "  9.40495398e-02  1.30796031e-02  8.70640656e-02 -4.69352734e-03\n",
      "  2.78383281e-02  1.63193765e-01  1.24224092e-02  6.20332609e-03\n",
      "  2.56331563e-03 -5.02264984e-02  8.56720141e-02 -1.40171431e-01\n",
      "  1.69124564e-01 -1.25915484e-02  4.34037320e-02  3.22796037e-01\n",
      "  8.91302359e-02 -8.29985508e-03  8.09993625e-02 -3.34745359e-02\n",
      " -4.45891344e-03 -1.03483242e-01  4.38797043e-02 -4.29121685e-02\n",
      "  2.21738416e-01  6.88369859e-02 -1.08203680e-02  2.77919336e-02\n",
      "  5.72192250e-02 -1.07053421e-01  1.54649952e-02  5.98842344e-02\n",
      "  2.35483984e-02 -1.58292195e-03 -6.65601937e-02  1.06034297e-02\n",
      "  7.55817328e-02  2.52012953e-03 -6.96264945e-02 -7.59067805e-02\n",
      " -2.43716313e-02  7.84287000e-02 -5.34102977e-02  8.13672586e-02\n",
      "  9.56687900e-02 -6.70277187e-02 -4.59671961e-02 -3.17776633e-02\n",
      " -1.03055414e-01 -1.82091688e-01 -1.48516421e-02  5.95112359e-02\n",
      " -4.92770805e-02  3.77821672e-02 -1.54253766e-01 -3.32588828e-02\n",
      "  1.72243655e-02  3.07651946e-01 -4.70311359e-02  3.01353094e-02\n",
      " -1.12999359e-01 -6.95329141e-02 -7.45849020e-02 -2.82149536e-02\n",
      "  6.25742656e-02  3.66400250e-02  6.58035398e-03 -3.95619445e-02\n",
      " -3.32073500e-02 -1.56396359e-02  4.33436176e-02 -1.10740461e-01\n",
      " -9.67225383e-02 -3.89611719e-04  7.58708805e-02  8.48020877e-02\n",
      "  1.48777906e-01 -3.58964094e-02 -8.18989305e-02  9.59162469e-02\n",
      " -8.39535078e-02 -8.74704062e-03  4.46062931e-02 -6.79345680e-02\n",
      "  1.86181066e-01  4.44219086e-02  7.78523828e-02  2.80239437e-02\n",
      "  4.85484758e-02 -1.72125824e-01 -9.19732923e-02 -5.42948950e-02\n",
      " -4.21331336e-02 -3.52011328e-02  1.66722779e-02  2.94040461e-02\n",
      " -1.18224884e-01 -5.35697547e-02 -9.42879969e-02 -1.27089805e-01\n",
      " -2.08292677e+00  7.25162600e-02  1.41959969e-02 -1.51736945e-03\n",
      " -2.68758312e-02 -1.74310806e-01 -3.05720813e-02  2.96060180e-02\n",
      "  1.32154672e-02  2.09055469e-03 -5.22974109e-02  5.61811563e-02\n",
      " -1.23903687e-02 -4.18488875e-02 -2.77656734e-02  1.16831796e-01\n",
      " -1.68918297e-02  5.92812445e-02 -3.22793410e-01  7.37488906e-02\n",
      " -3.91357945e-02  1.99777266e-03 -2.83804395e-02 -5.06997844e-02\n",
      "  1.38600701e-02 -4.62671805e-02 -7.20767969e-03  1.38919395e-01\n",
      "  8.15896906e-02 -7.82752891e-02  1.05595798e-01 -7.47816133e-02\n",
      "  1.35840435e-01 -4.33733016e-02  9.66710008e-02 -4.89447156e-02\n",
      "  3.40449922e-03  1.72599312e-02  1.17350672e-02  4.84572266e-02\n",
      " -9.25083984e-03 -1.01767653e-01 -1.17067254e-01  4.24710812e-02\n",
      "  9.82800242e-02  6.43614545e-02 -4.85092516e-02  4.37354063e-03\n",
      " -1.67550498e-01  7.61057109e-02 -1.08805322e-01  5.36779312e-02\n",
      "  1.19591751e-01  1.52497086e-02 -5.91004187e-02  5.25618055e-02\n",
      "  1.08858429e-01  1.05402771e-02 -2.25148883e-02  8.89627742e-02\n",
      " -1.28486023e-02  1.45657313e-01 -5.56449344e-02  8.35139787e-02\n",
      " -1.46846956e-02 -1.79997172e-02  2.00733953e-02 -2.54950472e-02\n",
      " -9.63794625e-02 -7.67100148e-02  8.22773320e-02  3.73207813e-02\n",
      " -1.03433203e-03  1.67938880e-01  9.87245958e-02 -2.77076475e-02]\n"
     ]
    }
   ],
   "source": [
    "# average Word2Vec\n",
    "# compute average word2vec for each review.\n",
    "avg_w2v_vectors_train = []; # the avg-w2v for each sentence/review is stored in this list\n",
    "for sentence in tqdm(X_train['essay'].values): # for each review/sentence\n",
    "    vector = np.zeros(300) # as word vectors are of zero length\n",
    "    cnt_words =0; # num of words with a valid vector in the sentence/review\n",
    "    for word in sentence.split(): # for each word in a review/sentence\n",
    "        if word in glove_words:\n",
    "            vector += model[word]\n",
    "            cnt_words += 1\n",
    "    if cnt_words != 0:\n",
    "        vector /= cnt_words\n",
    "    avg_w2v_vectors_train.append(vector)\n",
    "\n",
    "print(len(avg_w2v_vectors_train))\n",
    "print(len(avg_w2v_vectors_train[0]))\n",
    "print(avg_w2v_vectors_train[0])"
   ]
  },
  {
   "cell_type": "code",
   "execution_count": 454,
   "metadata": {},
   "outputs": [
    {
     "name": "stderr",
     "output_type": "stream",
     "text": [
      "100%|████████████████████████████████████████████████████████████████████████████| 7407/7407 [00:03<00:00, 1918.72it/s]\n"
     ]
    }
   ],
   "source": [
    "avg_w2v_vectors_cv = []; # the avg-w2v for each sentence/review is stored in this list\n",
    "for sentence in tqdm(X_cv['essay'].values): # for each review/sentence\n",
    "    vector = np.zeros(300) # as word vectors are of zero length\n",
    "    cnt_words =0; # num of words with a valid vector in the sentence/review\n",
    "    for word in sentence.split(): # for each word in a review/sentence\n",
    "        if word in glove_words:\n",
    "            vector += model[word]\n",
    "            cnt_words += 1\n",
    "    if cnt_words != 0:\n",
    "        vector /= cnt_words\n",
    "    avg_w2v_vectors_cv.append(vector)"
   ]
  },
  {
   "cell_type": "code",
   "execution_count": 455,
   "metadata": {},
   "outputs": [
    {
     "name": "stderr",
     "output_type": "stream",
     "text": [
      "100%|██████████████████████████████████████████████████████████████████████████| 16500/16500 [00:08<00:00, 1896.04it/s]\n"
     ]
    }
   ],
   "source": [
    "avg_w2v_vectors_test = []; # the avg-w2v for each sentence/review is stored in this list\n",
    "for sentence in tqdm(X_test['essay'].values): # for each review/sentence\n",
    "    vector = np.zeros(300) # as word vectors are of zero length\n",
    "    cnt_words =0; # num of words with a valid vector in the sentence/review\n",
    "    for word in sentence.split(): # for each word in a review/sentence\n",
    "        if word in glove_words:\n",
    "            vector += model[word]\n",
    "            cnt_words += 1\n",
    "    if cnt_words != 0:\n",
    "        vector /= cnt_words\n",
    "    avg_w2v_vectors_test.append(vector)"
   ]
  },
  {
   "cell_type": "code",
   "execution_count": 456,
   "metadata": {},
   "outputs": [
    {
     "name": "stdout",
     "output_type": "stream",
     "text": [
      "Final Data matrix\n",
      "(15038, 7796) (15038,)\n",
      "(16500, 7796) (16500,)\n",
      "(7407, 7796) (7407,)\n",
      "====================================================================================================\n"
     ]
    }
   ],
   "source": [
    "X_set2_train = hstack((scaled_x_train, X_train_essay_bow,X_train_state_ohe,X_train_teacher_ohe,X_train_grade_ohe, X_train_clean_ohe, X_train_price_norm)).tocsr()\n",
    "X_set2_test = hstack((avg_w2v_vectors_test, X_test_essay_bow,X_test_state_ohe,X_test_teacher_ohe,X_test_grade_ohe, X_test_clean_ohe, X_test_price_norm)).tocsr()\n",
    "X_set2_cv = hstack((avg_w2v_vectors_cv, X_cv_essay_bow,X_cv_state_ohe,X_cv_teacher_ohe,X_cv_grade_ohe, X_cv_clean_ohe, X_cv_price_norm)).tocsr()\n",
    "\n",
    "print(\"Final Data matrix\")\n",
    "print(X_set2_train.shape, y_train.shape)\n",
    "print(X_set2_test.shape, y_test.shape)\n",
    "print(X_set2_cv.shape, y_cv.shape)\n",
    "print(\"=\"*100)"
   ]
  },
  {
   "cell_type": "code",
   "execution_count": 457,
   "metadata": {},
   "outputs": [],
   "source": [
    "from sklearn import preprocessing\n",
    "\n",
    "scaled = preprocessing.MinMaxScaler()\n",
    "scaled_x_train = scaled.fit_transform(avg_w2v_vectors_train)"
   ]
  },
  {
   "cell_type": "code",
   "execution_count": 474,
   "metadata": {},
   "outputs": [
    {
     "name": "stderr",
     "output_type": "stream",
     "text": [
      "C:\\Users\\Chance\\Anaconda3\\lib\\site-packages\\sklearn\\naive_bayes.py:480: UserWarning: alpha too small will result in numeric errors, setting alpha = 1.0e-10\n",
      "  'setting alpha = %.1e' % _ALPHA_MIN)\n",
      "C:\\Users\\Chance\\Anaconda3\\lib\\site-packages\\sklearn\\naive_bayes.py:480: UserWarning: alpha too small will result in numeric errors, setting alpha = 1.0e-10\n",
      "  'setting alpha = %.1e' % _ALPHA_MIN)\n",
      "C:\\Users\\Chance\\Anaconda3\\lib\\site-packages\\sklearn\\naive_bayes.py:480: UserWarning: alpha too small will result in numeric errors, setting alpha = 1.0e-10\n",
      "  'setting alpha = %.1e' % _ALPHA_MIN)\n",
      "C:\\Users\\Chance\\Anaconda3\\lib\\site-packages\\sklearn\\utils\\deprecation.py:125: FutureWarning: You are accessing a training score ('split0_train_score'), which will not be available by default any more in 0.21. If you need training scores, please set return_train_score=True\n",
      "  warnings.warn(*warn_args, **warn_kwargs)\n",
      "C:\\Users\\Chance\\Anaconda3\\lib\\site-packages\\sklearn\\utils\\deprecation.py:125: FutureWarning: You are accessing a training score ('split1_train_score'), which will not be available by default any more in 0.21. If you need training scores, please set return_train_score=True\n",
      "  warnings.warn(*warn_args, **warn_kwargs)\n",
      "C:\\Users\\Chance\\Anaconda3\\lib\\site-packages\\sklearn\\utils\\deprecation.py:125: FutureWarning: You are accessing a training score ('split2_train_score'), which will not be available by default any more in 0.21. If you need training scores, please set return_train_score=True\n",
      "  warnings.warn(*warn_args, **warn_kwargs)\n",
      "C:\\Users\\Chance\\Anaconda3\\lib\\site-packages\\sklearn\\utils\\deprecation.py:125: FutureWarning: You are accessing a training score ('mean_train_score'), which will not be available by default any more in 0.21. If you need training scores, please set return_train_score=True\n",
      "  warnings.warn(*warn_args, **warn_kwargs)\n",
      "C:\\Users\\Chance\\Anaconda3\\lib\\site-packages\\sklearn\\utils\\deprecation.py:125: FutureWarning: You are accessing a training score ('std_train_score'), which will not be available by default any more in 0.21. If you need training scores, please set return_train_score=True\n",
      "  warnings.warn(*warn_args, **warn_kwargs)\n"
     ]
    },
    {
     "data": {
      "image/png": "[encoded data removed]",
      "text/plain": [
       "<Figure size 432x288 with 1 Axes>"
      ]
     },
     "metadata": {},
     "output_type": "display_data"
    }
   ],
   "source": [
    "parameters = {'alpha': range(0,20)}#\n",
    "neigh = MultinomialNB()# takes the alpha from the  i th list value    \n",
    "clf = RandomizedSearchCV(neigh_set2, parameters, cv=3, scoring='roc_auc')\n",
    "clf.fit(X_set2_train, y_train)\n",
    "\n",
    "results = pd.DataFrame.from_dict(clf.cv_results_)\n",
    "results = results.sort_values(['param_alpha'])\n",
    "\n",
    "train_auc= results['mean_train_score']\n",
    "train_auc_std= results['std_train_score']\n",
    "cv_auc = results['mean_test_score'] \n",
    "cv_auc_std= results['std_test_score']\n",
    "K =  results['param_alpha']\n",
    "\n",
    "plt.plot(K, train_auc, label='Train AUC')\n",
    "# this code is copied from here: https://stackoverflow.com/a/48803361/4084039\n",
    "# plt.gca().fill_between(K, train_auc - train_auc_std,train_auc + train_auc_std,alpha=0.2,color='darkblue')\n",
    "\n",
    "plt.plot(K, cv_auc, label='CV AUC')\n",
    "# this code is copied from here: https://stackoverflow.com/a/48803361/4084039\n",
    "# plt.gca().fill_between(K, cv_auc - cv_auc_std,cv_auc + cv_auc_std,alpha=0.2,color='darkorange')\n",
    "\n",
    "plt.scatter(K, train_auc, label='Train AUC points')\n",
    "plt.scatter(K, cv_auc, label='CV AUC points')\n",
    "\n",
    "\n",
    "plt.legend()\n",
    "plt.xlabel(\"K: hyperparameter\")\n",
    "plt.ylabel(\"AUC\")\n",
    "plt.title(\"Hyper parameter Vs AUC plot\")\n",
    "plt.grid()\n",
    "plt.show()"
   ]
  },
  {
   "cell_type": "code",
   "execution_count": 460,
   "metadata": {},
   "outputs": [],
   "source": [
    "best_alpha2 = 12"
   ]
  },
  {
   "cell_type": "code",
   "execution_count": 475,
   "metadata": {},
   "outputs": [
    {
     "data": {
      "image/png": "[encoded data removed]",
      "text/plain": [
       "<Figure size 432x288 with 1 Axes>"
      ]
     },
     "metadata": {},
     "output_type": "display_data"
    },
    {
     "name": "stdout",
     "output_type": "stream",
     "text": [
      "====================================================================================================\n"
     ]
    }
   ],
   "source": [
    "neigh_set2 =  MultinomialNB(alpha=best_alpha2) \n",
    "neigh_set2.fit(X_set2_train ,y_train) # roc_auc_score(y_true, y_score) the 2nd parameter should be probability estimates of the positive class # not the predicted outputs \n",
    "train_fpr, train_tpr, thresholds = roc_curve(y_train, neigh_set2.predict_proba(X_set2_train)[:,1]) \n",
    "test_fpr, test_tpr, thresholds = roc_curve(y_test, neigh_set2.predict_proba(X_set2_test)[:,1]) \n",
    "plt.plot(train_fpr, train_tpr, label=\"train AUC =\"+str(auc(train_fpr, train_tpr))) \n",
    "plt.plot(test_fpr, test_tpr, label=\"test AUC =\"+str(auc(test_fpr, test_tpr))) \n",
    "plt.legend() \n",
    "plt.xlabel(\"True Positive Rate(TPR)\") \n",
    "plt.ylabel(\"False Positive Rate(FPR)\") \n",
    "plt.title(\"ROC PLOTS\") \n",
    "plt.show()\n",
    "print(\"=\"*100)"
   ]
  },
  {
   "cell_type": "code",
   "execution_count": 476,
   "metadata": {},
   "outputs": [
    {
     "name": "stdout",
     "output_type": "stream",
     "text": [
      "====================================================================================================\n",
      "the maximum value of tpr*(1-fpr) 0.3982655902666055 for threshold 0.391\n",
      "Train confusion matrix\n",
      "[[ 1267  1142]\n",
      " [  788 11841]]\n",
      "Test confusion matrix\n",
      "[[  610  2032]\n",
      " [ 1134 12724]]\n",
      "the maximum value of tpr*(1-fpr) 0.3982655902666055 for threshold 0.391\n"
     ]
    },
    {
     "data": {
      "text/plain": [
       "<matplotlib.axes._subplots.AxesSubplot at 0x1768b0e33c8>"
      ]
     },
     "execution_count": 476,
     "metadata": {},
     "output_type": "execute_result"
    },
    {
     "data": {
      "image/png": "[encoded data removed]",
      "text/plain": [
       "<Figure size 432x288 with 2 Axes>"
      ]
     },
     "metadata": {},
     "output_type": "display_data"
    }
   ],
   "source": [
    "print(\"=\"*100)\n",
    "from sklearn.metrics import confusion_matrix\n",
    "best_t = find_best_threshold(tr_thresholds, train_fpr, train_tpr)\n",
    "print(\"Train confusion matrix\")\n",
    "print(confusion_matrix(y_train, predict_with_best_t(y_train_pred, best_t)))\n",
    "print(\"Test confusion matrix\")\n",
    "print(confusion_matrix(y_test, predict_with_best_t(y_test_pred, best_t)))\n",
    "\n",
    "#train\n",
    "conf_matr_df_train = pd.DataFrame(confusion_matrix(y_train, predict(y_train_pred, tr_thresholds,train_fpr, train_tpr)), range(2),range(2))\n",
    "\n",
    "\n",
    "\n",
    "## Heatmaps -> https://likegeeks.com/seaborn-heatmap-tutorial/\n",
    "sns.set(font_scale=1.4)#for label size\n",
    "sns.heatmap(conf_matr_df_train, annot=True,annot_kws={\"size\": 26}, fmt='g',cmap=\"YlGnBu\")\n",
    "\n"
   ]
  },
  {
   "cell_type": "code",
   "execution_count": 477,
   "metadata": {},
   "outputs": [
    {
     "name": "stdout",
     "output_type": "stream",
     "text": [
      "the maximum value of tpr*(1-fpr) 0.3982655902666055 for threshold 0.391\n"
     ]
    },
    {
     "data": {
      "text/plain": [
       "<matplotlib.axes._subplots.AxesSubplot at 0x1768b28d6a0>"
      ]
     },
     "execution_count": 477,
     "metadata": {},
     "output_type": "execute_result"
    },
    {
     "data": {
      "image/png": "[encoded data removed]",
      "text/plain": [
       "<Figure size 432x288 with 2 Axes>"
      ]
     },
     "metadata": {},
     "output_type": "display_data"
    }
   ],
   "source": [
    "#test\n",
    "conf_matr_df_test = pd.DataFrame(confusion_matrix(y_test, predict(y_test_pred, tr_thresholds,train_fpr, train_tpr)), range(2),range(2))\n",
    "sns.set(font_scale=1.4)#for label size\n",
    "sns.heatmap(conf_matr_df_test, annot=True,annot_kws={\"size\": 26}, fmt='g',cmap=\"YlGnBu\")"
   ]
  },
  {
   "cell_type": "markdown",
   "metadata": {},
   "source": [
    "# Top 20 features"
   ]
  },
  {
   "cell_type": "code",
   "execution_count": 478,
   "metadata": {},
   "outputs": [],
   "source": [
    "all_feature_names_bow=[]"
   ]
  },
  {
   "cell_type": "code",
   "execution_count": 482,
   "metadata": {},
   "outputs": [
    {
     "ename": "NameError",
     "evalue": "name 'vectorizer_clean' is not defined",
     "output_type": "error",
     "traceback": [
      "\u001b[1;31m---------------------------------------------------------------------------\u001b[0m",
      "\u001b[1;31mNameError\u001b[0m                                 Traceback (most recent call last)",
      "\u001b[1;32m<ipython-input-482-64802567d8f4>\u001b[0m in \u001b[0;36m<module>\u001b[1;34m\u001b[0m\n\u001b[0;32m      1\u001b[0m \u001b[1;31m## FOR SET 1 and SET 2\u001b[0m\u001b[1;33m\u001b[0m\u001b[1;33m\u001b[0m\u001b[1;33m\u001b[0m\u001b[0m\n\u001b[1;32m----> 2\u001b[1;33m \u001b[1;32mfor\u001b[0m \u001b[0mi\u001b[0m \u001b[1;32min\u001b[0m \u001b[0mvectorizer_clean\u001b[0m\u001b[1;33m.\u001b[0m\u001b[0mget_feature_names\u001b[0m\u001b[1;33m(\u001b[0m\u001b[1;33m)\u001b[0m\u001b[1;33m:\u001b[0m\u001b[1;33m\u001b[0m\u001b[1;33m\u001b[0m\u001b[0m\n\u001b[0m\u001b[0;32m      3\u001b[0m     \u001b[0mall_feature_names_bow\u001b[0m\u001b[1;33m.\u001b[0m\u001b[0mappend\u001b[0m\u001b[1;33m(\u001b[0m\u001b[0mi\u001b[0m\u001b[1;33m)\u001b[0m\u001b[1;33m\u001b[0m\u001b[1;33m\u001b[0m\u001b[0m\n\u001b[0;32m      4\u001b[0m \u001b[1;33m\u001b[0m\u001b[0m\n\u001b[0;32m      5\u001b[0m \u001b[1;32mfor\u001b[0m \u001b[0mi\u001b[0m \u001b[1;32min\u001b[0m \u001b[0mvectorizer_state\u001b[0m\u001b[1;33m.\u001b[0m\u001b[0mget_feature_names\u001b[0m\u001b[1;33m(\u001b[0m\u001b[1;33m)\u001b[0m\u001b[1;33m:\u001b[0m\u001b[1;33m\u001b[0m\u001b[1;33m\u001b[0m\u001b[0m\n",
      "\u001b[1;31mNameError\u001b[0m: name 'vectorizer_clean' is not defined"
     ]
    }
   ],
   "source": [
    "## FOR SET 1 and SET 2\n",
    "for i in vectorizer_clean.get_feature_names():\n",
    "    all_feature_names_bow.append(i)   \n",
    "\n",
    "for i in vectorizer_state.get_feature_names():\n",
    "    all_feature_names_bow.append(i)    \n",
    "\n",
    "for i in vectorizer_teacher.get_feature_names():\n",
    "    all_feature_names_bow.append(i)   \n",
    "\n",
    "for i in vectorizer_grade.get_feature_names():\n",
    "    all_feature_names_bow.append(i)   \n",
    "    \n",
    "for i in vectorizer_essay_bow.get_feature_names():\n",
    "    all_feature_names_bow.append(i)   \n",
    "\n",
    "all_feature_names_bow.append(\"price\")\n",
    "\n",
    "all_feature_names_bow.append(\"prev_proj\")"
   ]
  },
  {
   "cell_type": "code",
   "execution_count": null,
   "metadata": {},
   "outputs": [],
   "source": []
  },
  {
   "cell_type": "code",
   "execution_count": null,
   "metadata": {},
   "outputs": [],
   "source": []
  },
  {
   "cell_type": "code",
   "execution_count": null,
   "metadata": {},
   "outputs": [],
   "source": []
  },
  {
   "cell_type": "markdown",
   "metadata": {
    "colab_type": "text",
    "id": "lS9hIHdib3dp"
   },
   "source": [
    "<h1>3. Summary</h1>\n",
    "\n",
    "<br> as mentioned in the step 5 of instructions"
   ]
  }
 ],
 "metadata": {
  "colab": {
   "collapsed_sections": [],
   "name": "6_Assignment_NB_Instructions.ipynb",
   "provenance": [],
   "version": "0.3.2"
  },
  "kernelspec": {
   "display_name": "Python 3",
   "language": "python",
   "name": "python3"
  },
  "language_info": {
   "codemirror_mode": {
    "name": "ipython",
    "version": 3
   },
   "file_extension": ".py",
   "mimetype": "text/x-python",
   "name": "python",
   "nbconvert_exporter": "python",
   "pygments_lexer": "ipython3",
   "version": "3.7.1"
  }
 },
 "nbformat": 4,
 "nbformat_minor": 1
}
