{
  "nbformat": 4,
  "nbformat_minor": 0,
  "metadata": {
    "colab": {
      "name": "5_Performance_metrics_Instructions (2).ipynb",
      "provenance": [],
      "collapsed_sections": [],
      "toc_visible": true
    },
    "language_info": {
      "codemirror_mode": {
        "name": "ipython",
        "version": 3
      },
      "file_extension": ".py",
      "mimetype": "text/x-python",
      "name": "python",
      "nbconvert_exporter": "python",
      "pygments_lexer": "ipython3",
      "version": "3.6.8"
    },
    "kernelspec": {
      "display_name": "Python 3",
      "language": "python",
      "name": "python3"
    }
  },
  "cells": [
    {
      "cell_type": "markdown",
      "metadata": {
        "id": "s0Ej_bXyQvnV",
        "colab_type": "text"
      },
      "source": [
        "# Compute performance metrics for the given Y and Y_score without sklearn"
      ]
    },
    {
      "cell_type": "code",
      "metadata": {
        "id": "4CHb6NE7Qvnc",
        "colab_type": "code",
        "colab": {}
      },
      "source": [
        "import numpy as np\n",
        "import pandas as pd\n",
        "import warnings\n",
        "'''this function is used to avoid warnings '''\n",
        "warnings.filterwarnings(\"ignore\")\n",
        "# other than these two you should not import any other packages"
      ],
      "execution_count": 0,
      "outputs": []
    },
    {
      "cell_type": "markdown",
      "metadata": {
        "id": "KbsWXuDaQvnq",
        "colab_type": "text"
      },
      "source": [
        "<pre>\n",
        "<font color='red'><b>A.</b></font> Compute performance metrics for the given data <strong>5_a.csv</strong>\n",
        "   <b>Note 1:</b> in this data you can see number of positive points >> number of negatives points\n",
        "   <b>Note 2:</b> use pandas or numpy to read the data from <b>5_a.csv</b>\n",
        "   <b>Note 3:</b> you need to derive the class labels from given score</pre> $y^{pred}= \\text{[0 if y_score < 0.5 else 1]}$\n",
        "\n",
        "<pre>\n",
        "<ol>\n",
        "<li> Compute Confusion Matrix </li>\n",
        "<li> Compute F1 Score </li>\n",
        "<li> Compute AUC Score, you need to compute different thresholds and for each threshold compute tpr,fpr and then use               numpy.trapz(tpr_array, fpr_array) <a href='https://stackoverflow.com/q/53603376/4084039'>https://stackoverflow.com/q/53603376/4084039</a>, <a href='https://stackoverflow.com/a/39678975/4084039'>https://stackoverflow.com/a/39678975/4084039</a> Note: it should be numpy.trapz(tpr_array, fpr_array) not numpy.trapz(fpr_array, tpr_array)</li>\n",
        "<li> Compute Accuracy Score </li>\n",
        "</ol>\n",
        "</pre>"
      ]
    },
    {
      "cell_type": "code",
      "metadata": {
        "id": "WaFLW7oBQvnt",
        "colab_type": "code",
        "outputId": "e096cf52-dd22-4057-b1bd-888770594173",
        "colab": {
          "base_uri": "https://localhost:8080/",
          "height": 289
        }
      },
      "source": [
        "# write your code here\n",
        "dataF_a=pd.read_csv('5_a.csv')\n",
        "\n",
        "a1=dataF_a.shape\n",
        "a2=a1[0]\n",
        "\n",
        "tn1,tp1,fn1,fp1=0,0,0,0\n",
        "for i in range(0,a2):\n",
        "    \n",
        "    if dataF_a['proba'][i]<0.5:\n",
        "        dataF_a['proba'][i]=0.0\n",
        "        \n",
        "    else:\n",
        "        dataF_a['proba'][i]=1.0\n",
        "        \n",
        "    if dataF_a['y'][i]==1.0:\n",
        "        if dataF_a['proba'][i]==1.0:\n",
        "            tp1=tp1+1\n",
        "        else:\n",
        "            fn1=fn1+1\n",
        "    else:\n",
        "        if dataF_a['proba'][i]==0.0:\n",
        "            tn1=tn1+1\n",
        "        else:\n",
        "            fp1=fp1+1\n",
        "\n",
        "print(\"the generated confusion matrix is -\")\n",
        "print(np.array([[tn1,fn1],[fp1,tp1]]))\n",
        "print(\"\\n\")\n",
        "recall=tp1/(fn1+tp1)\n",
        "print(\"Recall is -\",recall)\n",
        "print(\"\\n\")\n",
        "precision= tp1/(fp1+tp1)\n",
        "\n",
        "print(\"precision is-\", precision)\n",
        "f1=2*((precision*recall)/(precision+recall))\n",
        "print(\"\\n\")\n",
        "print(\"f1 socre is-\",f1)\n",
        "print(\"\\n\")\n",
        "print(\"the accuracy for given dataset is-\")\n",
        "print((((tp1+tn1)/(tp1+tn1+fn1+fp1))*100))\n",
        "  \n",
        "del dataF_a\n"
      ],
      "execution_count": 0,
      "outputs": [
        {
          "output_type": "stream",
          "text": [
            "the generated confusion matrix is -\n",
            "[[    0     0]\n",
            " [  100 10000]]\n",
            "\n",
            "\n",
            "Recall is - 1.0\n",
            "\n",
            "\n",
            "precision is- 0.9900990099009901\n",
            "\n",
            "\n",
            "f1 socre is- 0.9950248756218906\n",
            "\n",
            "\n",
            "the accuracy for given dataset is-\n",
            "99.00990099009901\n"
          ],
          "name": "stdout"
        }
      ]
    },
    {
      "cell_type": "code",
      "metadata": {
        "id": "KkWo_-d5aYSN",
        "colab_type": "code",
        "outputId": "f9274d4e-3a94-4905-b52b-9f2622a29a9b",
        "colab": {
          "base_uri": "https://localhost:8080/",
          "height": 139
        }
      },
      "source": [
        "df1=pd.read_csv('5_a.csv')\n",
        "trp=[]\n",
        "frp=[]\n",
        "a=df1.shape\n",
        "a1=a[0]\n",
        "\n",
        "def predicted(x,threshold):\n",
        "  if(x<threshold):\n",
        "    return 0\n",
        "  else:\n",
        "    return 1\n",
        "threshold=np.arange(0.0,1.0,0.01)\n",
        "threshold=sorted(threshold,reverse=True)\n",
        "\n",
        "for k in threshold:\n",
        "  df1[str(k)]=df1.apply(lambda row: predicted(row['proba'],k), axis=1)\n",
        "accuracy_for_each_threshold={}\n",
        "\n",
        "for i in threshold:\n",
        "  tn,tp,fn,fp=0,0,0,0\n",
        "  for j in range(0,a1):\n",
        "    if((df1['y'][j])==0 and df1[str(i)][j]==0):\n",
        "      tn=tn+1\n",
        "    elif((df1['y'][j])==1 and df1[str(i)][j]==0):\n",
        "      fn=fn+1\n",
        "    elif((df1['y'][j])==0 and df1[str(i)][j]==1):\n",
        "      fp=fp+1\n",
        "    elif((df1['y'][j])==1 and df1[str(i)][j]==1):\n",
        "      tp=tp+1\n",
        "  acc=((tp+tn)/(tp+tn+fn+fp))*100\n",
        "  accuracy_for_each_threshold[i]=acc\n",
        "  \n",
        "  trp_dash=tp/(fn+tp)\n",
        "  frp_dash=fp/(tn+fp)\n",
        "  trp.append(trp_dash)\n",
        "  frp.append(frp_dash)\n",
        "print(\"the accuracy for each threshold is -\")\n",
        "print(accuracy_for_each_threshold)\n",
        "print(\"\\n\")\n",
        "\n",
        "\n",
        "print(\"the AUC score is -\")\n",
        "print(np.trapz(trp,frp))\n",
        "\n",
        "del df1"
      ],
      "execution_count": 5,
      "outputs": [
        {
          "output_type": "stream",
          "text": [
            "the accuracy for each threshold is -\n",
            "{0.99: 0.9900990099009901, 0.98: 0.9900990099009901, 0.97: 0.9900990099009901, 0.96: 0.9900990099009901, 0.9500000000000001: 0.9900990099009901, 0.9400000000000001: 0.9900990099009901, 0.93: 0.9900990099009901, 0.92: 0.9900990099009901, 0.91: 0.9900990099009901, 0.9: 0.9900990099009901, 0.89: 3.2772277227722775, 0.88: 5.633663366336634, 0.87: 7.891089108910891, 0.86: 10.316831683168317, 0.85: 12.534653465346535, 0.84: 14.92079207920792, 0.8300000000000001: 17.306930693069305, 0.8200000000000001: 19.594059405940595, 0.81: 21.683168316831683, 0.8: 23.910891089108908, 0.79: 26.48514851485149, 0.78: 28.544554455445542, 0.77: 31.07920792079208, 0.76: 33.78217821782179, 0.75: 36.336633663366335, 0.74: 38.9009900990099, 0.73: 41.445544554455445, 0.72: 44.10891089108911, 0.71: 46.524752475247524, 0.7000000000000001: 49.13861386138614, 0.6900000000000001: 51.742574257425744, 0.68: 54.27722772277228, 0.67: 56.811881188118804, 0.66: 59.62376237623762, 0.65: 61.95049504950495, 0.64: 64.38613861386139, 0.63: 67.03960396039605, 0.62: 69.51485148514851, 0.61: 71.97029702970296, 0.6: 74.56435643564356, 0.59: 76.58415841584159, 0.58: 79.00990099009901, 0.5700000000000001: 81.63366336633663, 0.56: 84.14851485148515, 0.55: 86.73267326732673, 0.54: 89.02970297029704, 0.53: 91.25742574257426, 0.52: 93.92079207920791, 0.51: 96.55445544554455, 0.5: 99.00990099009901, 0.49: 99.00990099009901, 0.48: 99.00990099009901, 0.47000000000000003: 99.00990099009901, 0.46: 99.00990099009901, 0.45: 99.00990099009901, 0.44: 99.00990099009901, 0.43: 99.00990099009901, 0.42: 99.00990099009901, 0.41000000000000003: 99.00990099009901, 0.4: 99.00990099009901, 0.39: 99.00990099009901, 0.38: 99.00990099009901, 0.37: 99.00990099009901, 0.36: 99.00990099009901, 0.35000000000000003: 99.00990099009901, 0.34: 99.00990099009901, 0.33: 99.00990099009901, 0.32: 99.00990099009901, 0.31: 99.00990099009901, 0.3: 99.00990099009901, 0.29: 99.00990099009901, 0.28: 99.00990099009901, 0.27: 99.00990099009901, 0.26: 99.00990099009901, 0.25: 99.00990099009901, 0.24: 99.00990099009901, 0.23: 99.00990099009901, 0.22: 99.00990099009901, 0.21: 99.00990099009901, 0.2: 99.00990099009901, 0.19: 99.00990099009901, 0.18: 99.00990099009901, 0.17: 99.00990099009901, 0.16: 99.00990099009901, 0.15: 99.00990099009901, 0.14: 99.00990099009901, 0.13: 99.00990099009901, 0.12: 99.00990099009901, 0.11: 99.00990099009901, 0.1: 99.00990099009901, 0.09: 99.00990099009901, 0.08: 99.00990099009901, 0.07: 99.00990099009901, 0.06: 99.00990099009901, 0.05: 99.00990099009901, 0.04: 99.00990099009901, 0.03: 99.00990099009901, 0.02: 99.00990099009901, 0.01: 99.00990099009901, 0.0: 99.00990099009901}\n",
            "\n",
            "\n",
            "the AUC score is -\n",
            "0.48755149999999997\n"
          ],
          "name": "stdout"
        }
      ]
    },
    {
      "cell_type": "markdown",
      "metadata": {
        "id": "V5KZem1BQvn2",
        "colab_type": "text"
      },
      "source": [
        "<pre>\n",
        "<font color='red'><b>B.</b></font> Compute performance metrics for the given data <strong>5_b.csv</strong>\n",
        "   <b>Note 1:</b> in this data you can see number of positive points << number of negatives points\n",
        "   <b>Note 2:</b> use pandas or numpy to read the data from <b>5_b.csv</b>\n",
        "   <b>Note 3:</b> you need to derive the class labels from given score</pre> $y^{pred}= \\text{[0 if y_score < 0.5 else 1]}$\n",
        "\n",
        "<pre>\n",
        "<ol>\n",
        "<li> Compute Confusion Matrix </li>\n",
        "<li> Compute F1 Score </li>\n",
        "<li> Compute AUC Score, you need to compute different thresholds and for each threshold compute tpr,fpr and then use               numpy.trapz(tpr_array, fpr_array) <a href='https://stackoverflow.com/q/53603376/4084039'>https://stackoverflow.com/q/53603376/4084039</a>, <a href='https://stackoverflow.com/a/39678975/4084039'>https://stackoverflow.com/a/39678975/4084039</a></li>\n",
        "<li> Compute Accuracy Score </li>\n",
        "</ol>\n",
        "</pre>"
      ]
    },
    {
      "cell_type": "code",
      "metadata": {
        "id": "U2sKlq0YQvn5",
        "colab_type": "code",
        "outputId": "1df68090-d02d-4db4-9350-00da63ed2d33",
        "colab": {
          "base_uri": "https://localhost:8080/",
          "height": 289
        }
      },
      "source": [
        "# write your code\n",
        "dataF_a=pd.read_csv('5_b.csv')\n",
        "trp_proba=[]\n",
        "frp_proba=[]\n",
        "a1=dataF_a.shape\n",
        "a2=a1[0]\n",
        "\n",
        "tn1,tp1,fn1,fp1=0,0,0,0\n",
        "for i in range(0,a2):\n",
        "    \n",
        "    if dataF_a['proba'][i]<0.5:\n",
        "        dataF_a['proba'][i]=0.0\n",
        "        \n",
        "    else:\n",
        "        dataF_a['proba'][i]=1.0\n",
        "        \n",
        "    if dataF_a['y'][i]==1.0:\n",
        "        if dataF_a['proba'][i]==1.0:\n",
        "            tp1=tp1+1\n",
        "        else:\n",
        "            fn1=fn1+1\n",
        "    else:\n",
        "        if dataF_a['proba'][i]==0.0:\n",
        "            tn1=tn1+1\n",
        "        else:\n",
        "            fp1=fp1+1\n",
        "\n",
        "print(\"the generated confusion matrix is -\")\n",
        "print(np.array([[tn1,fn1],[fp1,tp1]]))\n",
        "print(\"\\n\")\n",
        "recall=tp1/(fn1+tp1)\n",
        "print(\"Recall is -\",recall)\n",
        "print(\"\\n\")\n",
        "precision= tp1/(fp1+tp1)\n",
        "\n",
        "print(\"precision is-\", precision)\n",
        "f1=2*((precision*recall)/(precision+recall))\n",
        "print(\"\\n\")\n",
        "print(\"f1 socre is-\",f1)\n",
        "print(\"\\n\")\n",
        "print(\"the accuracy for given dataset is-\")\n",
        "print((((tp1+tn1)/(tp1+tn1+fn1+fp1))*100))\n",
        "\n",
        "del dataF_a"
      ],
      "execution_count": 0,
      "outputs": [
        {
          "output_type": "stream",
          "text": [
            "the generated confusion matrix is -\n",
            "[[9761   45]\n",
            " [ 239   55]]\n",
            "\n",
            "\n",
            "Recall is - 0.55\n",
            "\n",
            "\n",
            "precision is- 0.1870748299319728\n",
            "\n",
            "\n",
            "f1 socre is- 0.2791878172588833\n",
            "\n",
            "\n",
            "the accuracy for given dataset is-\n",
            "97.18811881188118\n"
          ],
          "name": "stdout"
        }
      ]
    },
    {
      "cell_type": "code",
      "metadata": {
        "id": "ynvy7s_mvMde",
        "colab_type": "code",
        "outputId": "9b162a75-fb2b-49c5-de70-96070b8d7c72",
        "colab": {
          "base_uri": "https://localhost:8080/",
          "height": 139
        }
      },
      "source": [
        "df1=pd.read_csv('5_b.csv')\n",
        "trp=[]\n",
        "frp=[]\n",
        "a=df1.shape\n",
        "a1=a[0]\n",
        "\n",
        "def predicted(x,threshold):\n",
        "  if(x<threshold):\n",
        "    return 0\n",
        "  else:\n",
        "    return 1\n",
        "threshold=np.arange(0.0,1.0,0.01)\n",
        "threshold=sorted(threshold,reverse=True)\n",
        "\n",
        "for k in threshold:\n",
        "  df1[str(k)]=df1.apply(lambda row: predicted(row['proba'],k), axis=1)\n",
        "accuracy_for_each_threshold={}\n",
        "\n",
        "\n",
        "for i in threshold:\n",
        "  tn,tp,fn,fp=0,0,0,0\n",
        "  for j in range(0,a1):\n",
        "    if((df1['y'][j])==0 and df1[str(i)][j]==0):\n",
        "      tn=tn+1\n",
        "    elif((df1['y'][j])==1 and df1[str(i)][j]==0):\n",
        "      fn=fn+1\n",
        "    elif((df1['y'][j])==0 and df1[str(i)][j]==1):\n",
        "      fp=fp+1\n",
        "    elif((df1['y'][j])==1 and df1[str(i)][j]==1):\n",
        "      tp=tp+1\n",
        "  acc=((tp+tn)/(tp+tn+fn+fp))*100\n",
        "  accuracy_for_each_threshold[i]=acc\n",
        "  \n",
        "  trp_dash=tp/(fn+tp)\n",
        "  frp_dash=fp/(tn+fp)\n",
        "  trp.append(trp_dash)\n",
        "  frp.append(frp_dash)\n",
        "print(\"the accuracy for each threshold is -\")\n",
        "print(accuracy_for_each_threshold)\n",
        "print(\"\\n\")\n",
        "\n",
        "\n",
        "print(\"the AUC score is -\")\n",
        "print(np.trapz(trp,frp))\n",
        "\n",
        "del df1"
      ],
      "execution_count": 17,
      "outputs": [
        {
          "output_type": "stream",
          "text": [
            "the accuracy for each threshold is -\n",
            "{0.99: 99.00990099009901, 0.98: 99.00990099009901, 0.97: 99.00990099009901, 0.96: 99.00990099009901, 0.9500000000000001: 99.00990099009901, 0.9400000000000001: 99.00990099009901, 0.93: 99.00990099009901, 0.92: 99.00990099009901, 0.91: 99.00990099009901, 0.9: 99.00990099009901, 0.89: 99.00990099009901, 0.88: 99.00990099009901, 0.87: 99.00990099009901, 0.86: 99.00990099009901, 0.85: 99.00990099009901, 0.84: 99.00990099009901, 0.8300000000000001: 99.00990099009901, 0.8200000000000001: 99.00990099009901, 0.81: 99.00990099009901, 0.8: 99.00990099009901, 0.79: 99.00990099009901, 0.78: 99.00990099009901, 0.77: 99.00990099009901, 0.76: 99.00990099009901, 0.75: 99.00990099009901, 0.74: 99.00990099009901, 0.73: 99.00990099009901, 0.72: 99.00990099009901, 0.71: 99.00990099009901, 0.7000000000000001: 99.00990099009901, 0.6900000000000001: 99.00990099009901, 0.68: 99.00990099009901, 0.67: 99.00990099009901, 0.66: 99.00990099009901, 0.65: 99.00990099009901, 0.64: 99.00990099009901, 0.63: 99.00990099009901, 0.62: 99.00990099009901, 0.61: 99.00990099009901, 0.6: 99.00990099009901, 0.59: 99.04950495049505, 0.58: 99.12871287128712, 0.5700000000000001: 99.15841584158416, 0.56: 99.20792079207921, 0.55: 99.27722772277228, 0.54: 99.29702970297029, 0.53: 99.38613861386139, 0.52: 99.47524752475248, 0.51: 99.5049504950495, 0.5: 97.18811881188118, 0.49: 94.95049504950495, 0.48: 92.60396039603961, 0.47000000000000003: 90.16831683168317, 0.46: 87.91089108910892, 0.45: 85.35643564356435, 0.44: 82.85148514851485, 0.43: 80.46534653465346, 0.42: 77.98019801980199, 0.41000000000000003: 75.72277227722772, 0.4: 73.43564356435644, 0.39: 70.98019801980197, 0.38: 68.71287128712872, 0.37: 66.20792079207921, 0.36: 63.9009900990099, 0.35000000000000003: 61.46534653465346, 0.34: 58.99009900990099, 0.33: 56.83168316831683, 0.32: 54.53465346534654, 0.31: 52.445544554455445, 0.3: 50.17821782178218, 0.29: 47.65346534653465, 0.28: 45.21782178217822, 0.27: 42.89108910891089, 0.26: 40.43564356435644, 0.25: 38.06930693069307, 0.24: 35.83168316831683, 0.23: 33.26732673267327, 0.22: 30.722772277227723, 0.21: 28.306930693069305, 0.2: 25.772277227722775, 0.19: 23.425742574257427, 0.18: 20.91089108910891, 0.17: 18.306930693069308, 0.16: 15.732673267326733, 0.15: 13.277227722772277, 0.14: 10.881188118811881, 0.13: 8.138613861386139, 0.12: 5.96039603960396, 0.11: 3.306930693069307, 0.1: 0.9900990099009901, 0.09: 0.9900990099009901, 0.08: 0.9900990099009901, 0.07: 0.9900990099009901, 0.06: 0.9900990099009901, 0.05: 0.9900990099009901, 0.04: 0.9900990099009901, 0.03: 0.9900990099009901, 0.02: 0.9900990099009901, 0.01: 0.9900990099009901, 0.0: 0.9900990099009901}\n",
            "\n",
            "\n",
            "the AUC score is -\n",
            "0.937285\n"
          ],
          "name": "stdout"
        }
      ]
    },
    {
      "cell_type": "code",
      "metadata": {
        "id": "2tjntEI8Fqpj",
        "colab_type": "code",
        "colab": {}
      },
      "source": [
        ""
      ],
      "execution_count": 0,
      "outputs": []
    },
    {
      "cell_type": "markdown",
      "metadata": {
        "id": "GiPGonTzQvoB",
        "colab_type": "text"
      },
      "source": [
        "<font color='red'><b>C.</b></font> Compute the best threshold (similarly to ROC curve computation) of probability which gives lowest values of metric <b>A</b> for the given data <strong>5_c.csv</strong>\n",
        "<br>\n",
        "\n",
        "you will be predicting label of a data points like this: $y^{pred}= \\text{[0 if y_score < threshold  else 1]}$\n",
        "\n",
        "$ A = 500 \\times \\text{number of false negative} + 100 \\times \\text{numebr of false positive}$\n",
        "\n",
        "<pre>\n",
        "   <b>Note 1:</b> in this data you can see number of negative points > number of positive points\n",
        "   <b>Note 2:</b> use pandas or numpy to read the data from <b>5_c.csv</b>\n",
        "</pre>"
      ]
    },
    {
      "cell_type": "code",
      "metadata": {
        "id": "x5HIJzq1QvoE",
        "colab_type": "code",
        "outputId": "7f2d9067-50e2-45a9-99f4-05bcf8772a72",
        "colab": {
          "base_uri": "https://localhost:8080/",
          "height": 207
        }
      },
      "source": [
        " # write your code\n",
        "import operator\n",
        "df1=pd.read_csv('5_c.csv')\n",
        "trp=[]\n",
        "frp=[]\n",
        "a=df1.shape\n",
        "a1=a[0]\n",
        "sorted_x=[]\n",
        "\n",
        "def predicted(x,threshold):\n",
        "  if(x<threshold):\n",
        "    return 0\n",
        "  else:\n",
        "    return 1\n",
        "threshold=np.arange(0.0,1.0,0.01)\n",
        "threshold=sorted(threshold,reverse=True)\n",
        "\n",
        "for k in threshold:\n",
        "  df1[str(k)]=df1.apply(lambda row: predicted(row['prob'],k), axis=1)\n",
        "A_matrix_for_each_threshold={}\n",
        "\n",
        "for i in threshold:\n",
        "  tn,tp,fn,fp=0,0,0,0\n",
        "  for j in range(0,a1):\n",
        "    if((df1['y'][j])==0 and df1[str(i)][j]==0):\n",
        "      tn=tn+1\n",
        "    elif((df1['y'][j])==1 and df1[str(i)][j]==0):\n",
        "      fn=fn+1\n",
        "    elif((df1['y'][j])==0 and df1[str(i)][j]==1):\n",
        "      fp=fp+1\n",
        "    elif((df1['y'][j])==1 and df1[str(i)][j]==1):\n",
        "      tp=tp+1\n",
        "  A_matrix_value=((500*fp)+(100*fn))\n",
        "  A_matrix_for_each_threshold[i]=A_matrix_value\n",
        "print(\"the A_matrix for each threshold is -\")\n",
        "print(A_matrix_for_each_threshold)\n",
        "print(\"\\n\")\n",
        "sorted_x = sorted(A_matrix_for_each_threshold.items(), key=operator.itemgetter(1))\n",
        "print(\"the A_matrix for each threshold in sorted manner -\")\n",
        "print(sorted_x)\n",
        "a=(sorted_x[0][1])\n",
        "print(\"\\n\")\n",
        "print(\"the threshold values for which we have least A matrix score is-\")\n",
        "for i in sorted_x:\n",
        "  if i[1]==a:\n",
        "    print(i[0])\n",
        "    \n",
        "del df1"
      ],
      "execution_count": 16,
      "outputs": [
        {
          "output_type": "stream",
          "text": [
            "the A_matrix for each threshold is -\n",
            "{0.99: 104700, 0.98: 104700, 0.97: 104700, 0.96: 104700, 0.9500000000000001: 104500, 0.9400000000000001: 104200, 0.93: 104200, 0.92: 104100, 0.91: 103500, 0.9: 102900, 0.89: 101900, 0.88: 101500, 0.87: 101400, 0.86: 100900, 0.85: 99900, 0.84: 98800, 0.8300000000000001: 97700, 0.8200000000000001: 96900, 0.81: 96600, 0.8: 95900, 0.79: 95000, 0.78: 94200, 0.77: 93800, 0.76: 93900, 0.75: 92900, 0.74: 92500, 0.73: 92500, 0.72: 93400, 0.71: 93200, 0.7000000000000001: 92500, 0.6900000000000001: 90700, 0.68: 89800, 0.67: 89100, 0.66: 88800, 0.65: 89200, 0.64: 89200, 0.63: 91200, 0.62: 93200, 0.61: 93900, 0.6: 94600, 0.59: 97700, 0.58: 102100, 0.5700000000000001: 105600, 0.56: 107100, 0.55: 111700, 0.54: 114300, 0.53: 117000, 0.52: 119300, 0.51: 121400, 0.5: 130200, 0.49: 134500, 0.48: 142000, 0.47000000000000003: 150800, 0.46: 158500, 0.45: 165600, 0.44: 173100, 0.43: 188000, 0.42: 201700, 0.41000000000000003: 218500, 0.4: 229100, 0.39: 242900, 0.38: 256900, 0.37: 273200, 0.36: 284900, 0.35000000000000003: 300500, 0.34: 310700, 0.33: 324300, 0.32: 347000, 0.31: 365800, 0.3: 383000, 0.29: 403800, 0.28: 420800, 0.27: 434000, 0.26: 454800, 0.25: 472800, 0.24: 493200, 0.23: 517800, 0.22: 540100, 0.21: 563300, 0.2: 587200, 0.19: 611500, 0.18: 634300, 0.17: 661800, 0.16: 690800, 0.15: 717800, 0.14: 733300, 0.13: 755800, 0.12: 787200, 0.11: 799900, 0.1: 815700, 0.09: 828700, 0.08: 840700, 0.07: 851700, 0.06: 864500, 0.05: 877500, 0.04: 887500, 0.03: 901000, 0.02: 902500, 0.01: 902500, 0.0: 902500}\n",
            "\n",
            "\n",
            "the A_matrix for each threshold in sorted manner -\n",
            "[(0.66, 88800), (0.67, 89100), (0.65, 89200), (0.64, 89200), (0.68, 89800), (0.6900000000000001, 90700), (0.63, 91200), (0.74, 92500), (0.73, 92500), (0.7000000000000001, 92500), (0.75, 92900), (0.71, 93200), (0.62, 93200), (0.72, 93400), (0.77, 93800), (0.76, 93900), (0.61, 93900), (0.78, 94200), (0.6, 94600), (0.79, 95000), (0.8, 95900), (0.81, 96600), (0.8200000000000001, 96900), (0.8300000000000001, 97700), (0.59, 97700), (0.84, 98800), (0.85, 99900), (0.86, 100900), (0.87, 101400), (0.88, 101500), (0.89, 101900), (0.58, 102100), (0.9, 102900), (0.91, 103500), (0.92, 104100), (0.9400000000000001, 104200), (0.93, 104200), (0.9500000000000001, 104500), (0.99, 104700), (0.98, 104700), (0.97, 104700), (0.96, 104700), (0.5700000000000001, 105600), (0.56, 107100), (0.55, 111700), (0.54, 114300), (0.53, 117000), (0.52, 119300), (0.51, 121400), (0.5, 130200), (0.49, 134500), (0.48, 142000), (0.47000000000000003, 150800), (0.46, 158500), (0.45, 165600), (0.44, 173100), (0.43, 188000), (0.42, 201700), (0.41000000000000003, 218500), (0.4, 229100), (0.39, 242900), (0.38, 256900), (0.37, 273200), (0.36, 284900), (0.35000000000000003, 300500), (0.34, 310700), (0.33, 324300), (0.32, 347000), (0.31, 365800), (0.3, 383000), (0.29, 403800), (0.28, 420800), (0.27, 434000), (0.26, 454800), (0.25, 472800), (0.24, 493200), (0.23, 517800), (0.22, 540100), (0.21, 563300), (0.2, 587200), (0.19, 611500), (0.18, 634300), (0.17, 661800), (0.16, 690800), (0.15, 717800), (0.14, 733300), (0.13, 755800), (0.12, 787200), (0.11, 799900), (0.1, 815700), (0.09, 828700), (0.08, 840700), (0.07, 851700), (0.06, 864500), (0.05, 877500), (0.04, 887500), (0.03, 901000), (0.02, 902500), (0.01, 902500), (0.0, 902500)]\n",
            "\n",
            "\n",
            "the threshold values for which we have least A matrix score is-\n",
            "0.66\n"
          ],
          "name": "stdout"
        }
      ]
    },
    {
      "cell_type": "markdown",
      "metadata": {
        "id": "sD4CcgjXQvoL",
        "colab_type": "text"
      },
      "source": [
        "<pre>\n",
        "<font color='red'><b>D.</b></font> Compute performance metrics(for regression) for the given data <strong>5_d.csv</strong>\n",
        "    <b>Note 2:</b> use pandas or numpy to read the data from <b>5_d.csv</b>\n",
        "    <b>Note 1:</b> <b>5_d.csv</b> will having two columns Y and predicted_Y both are real valued features\n",
        "<ol>\n",
        "<li> Compute Mean Square Error </li>\n",
        "<li> Compute MAPE: https://www.youtube.com/watch?v=ly6ztgIkUxk</li>\n",
        "<li> Compute R^2 error: https://en.wikipedia.org/wiki/Coefficient_of_determination#Definitions </li>\n",
        "</ol>\n",
        "</pre>"
      ]
    },
    {
      "cell_type": "code",
      "metadata": {
        "id": "z-l8XI465Xou",
        "colab_type": "code",
        "outputId": "de0571df-6e23-4d6b-f16c-71c1439e91ef",
        "colab": {
          "base_uri": "https://localhost:8080/",
          "height": 187
        }
      },
      "source": [
        "df=pd.read_csv('5_d.csv')\n",
        "a=df.shape\n",
        "\n",
        "a1=a[0]\n",
        "a3=0\n",
        "sum_y=np.sum(df['y'])\n",
        "mean_y=np.mean(df['y'])\n",
        "mean_square_error=0\n",
        "residue_error=0\n",
        "for i in range(0,a1):\n",
        "  x=np.square(df['y'][i]-mean_y)\n",
        "  residue_error=residue_error+np.square((df['pred'][i])-(df['y'][i]))\n",
        "  mean_square_error+=x\n",
        "  a3=a3+np.absolute((df['pred'][i])-(df['y'][i]))\n",
        "  \n",
        "print(\"the mean square error is -\")\n",
        "print(residue_error/a1)\n",
        "print(\"\\n\")\n",
        "print(\"the modified MAPE is-\")\n",
        "print((a3/sum_y)*100)\n",
        "print(\"\\n\")\n",
        "print(\"the R2 for given dataset is-\")\n",
        "print(1-(residue_error/mean_square_error))"
      ],
      "execution_count": 13,
      "outputs": [
        {
          "output_type": "stream",
          "text": [
            "the mean square error is -\n",
            "177.16569974554707\n",
            "\n",
            "\n",
            "the modified MAPE is-\n",
            "12.91202994009687\n",
            "\n",
            "\n",
            "the R2 for given dataset is-\n",
            "0.9563582786990964\n"
          ],
          "name": "stdout"
        }
      ]
    }
  ]
}