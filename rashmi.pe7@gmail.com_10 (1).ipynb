{
 "cells": [
  {
   "cell_type": "markdown",
   "metadata": {
    "colab_type": "text",
    "id": "8wqapAXjsc24"
   },
   "source": [
    "# Assignment 9: GBDT"
   ]
  },
  {
   "cell_type": "markdown",
   "metadata": {
    "colab_type": "text",
    "id": "8u5NhbnEsc2-"
   },
   "source": [
    "#### Response Coding: Example"
   ]
  },
  {
   "cell_type": "markdown",
   "metadata": {
    "colab_type": "text",
    "id": "HIFWmwHKsc3A"
   },
   "source": [
    "<img src='http://i.imgur.com/TufZptV.jpg' width=700px>\n",
    "\n",
    "> The response tabel is built only on train dataset.\n",
    "> For a category which is not there in train data and present in test data, we will encode them with default values\n",
    "Ex: in our test data if have State: D then we encode it as [0.5, 0.05]"
   ]
  },
  {
   "cell_type": "markdown",
   "metadata": {
    "colab_type": "text",
    "id": "3KwfGufDsc3D"
   },
   "source": [
    "<ol>\n",
    "    <li><strong>Apply GBDT on these feature sets</strong>\n",
    "        <ul>\n",
    "            <li><font color='red'>Set 1</font>: categorical(instead of one hot encoding, try <a href='https://www.appliedaicourse.com/course/applied-ai-course-online/lessons/handling-categorical-and-numerical-features/'>response coding</a>: use probability values), numerical features + project_title(TFIDF)+  preprocessed_eassay (TFIDF)+sentiment Score of eassay(check the bellow example, include all 4 values as 4 features)</li>\n",
    "            <li><font color='red'>Set 2</font>: categorical(instead of one hot encoding, try <a href='https://www.appliedaicourse.com/course/applied-ai-course-online/lessons/handling-categorical-and-numerical-features/'>response coding</a>: use probability values), numerical features + project_title(TFIDF W2V)+  preprocessed_eassay (TFIDF W2V)</li>        </ul>\n",
    "    </li>\n",
    "    <li><strong>The hyper paramter tuning (Consider any two hyper parameters)</strong>\n",
    "        <ul>\n",
    "    <li>Find the best hyper parameter which will give the maximum <a href='https://www.appliedaicourse.com/course/applied-ai-course-online/lessons/receiver-operating-characteristic-curve-roc-curve-and-auc-1/'>AUC</a> value</li>\n",
    "    <li>find the best hyper paramter using k-fold cross validation/simple cross validation data</li>\n",
    "    <li>use gridsearch cv or randomsearch cv or you can write your own for loops to do this task</li>\n",
    "        </ul>\n",
    "    </li>\n",
    "    <li>\n",
    "    <strong>Representation of results</strong>\n",
    "        <ul>\n",
    "    <li>You need to plot the performance of model both on train data and cross validation data for each hyper parameter, like shown in the figure\n",
    "    <img src='https://i.imgur.com/Gp2DQmh.jpg' width=500px> with X-axis as <strong>n_estimators</strong>, Y-axis as <strong>max_depth</strong>, and Z-axis as <strong>AUC Score</strong> , we have given the notebook which explains how to plot this 3d plot, you can find it in the same drive <i>3d_scatter_plot.ipynb</i></li>\n",
    "            <p style=\"text-align:center;font-size:30px;color:red;\"><strong>or</strong></p> <br>\n",
    "    <li>You need to plot the performance of model both on train data and cross validation data for each hyper parameter, like shown in the figure\n",
    "    <img src='https://i.imgur.com/fgN9aUP.jpg' width=300px> <a href='https://seaborn.pydata.org/generated/seaborn.heatmap.html'>seaborn heat maps</a> with rows as <strong>n_estimators</strong>, columns as <strong>max_depth</strong>, and values inside the cell representing <strong>AUC Score</strong> </li>\n",
    "    <li>You choose either of the plotting techniques out of 3d plot or heat map</li>\n",
    "    <li>Once after you found the best hyper parameter, you need to train your model with it, and find the AUC on test data and plot the ROC curve on both train and test.\n",
    "    <img src='https://i.imgur.com/wMQDTFe.jpg' width=300px></li>\n",
    "    <li>Along with plotting ROC curve, you need to print the <a href='https://www.appliedaicourse.com/course/applied-ai-course-online/lessons/confusion-matrix-tpr-fpr-fnr-tnr-1/'>confusion matrix</a> with predicted and original labels of test data points\n",
    "    <img src='https://i.imgur.com/IdN5Ctv.png' width=300px></li>\n",
    "            </ul>\n",
    "    <br>\n",
    "    <li>You need to summarize the results at the end of the notebook, summarize it in the table format\n",
    "        <img src='http://i.imgur.com/YVpIGGE.jpg' width=400px>\n",
    "    </li>\n",
    "</ol>"
   ]
  },
  {
   "cell_type": "code",
   "execution_count": 1,
   "metadata": {},
   "outputs": [
    {
     "name": "stderr",
     "output_type": "stream",
     "text": [
      "[nltk_data] Error loading vader_lexicon: <urlopen error unknown url\n",
      "[nltk_data]     type: https>\n"
     ]
    },
    {
     "data": {
      "text/plain": [
       "False"
      ]
     },
     "execution_count": 1,
     "metadata": {},
     "output_type": "execute_result"
    }
   ],
   "source": [
    "import nltk\n",
    "\n",
    "nltk.download('vader_lexicon')"
   ]
  },
  {
   "cell_type": "code",
   "execution_count": 2,
   "metadata": {},
   "outputs": [
    {
     "name": "stderr",
     "output_type": "stream",
     "text": [
      "[nltk_data] Error loading punkt: <urlopen error unknown url type:\n",
      "[nltk_data]     https>\n"
     ]
    },
    {
     "data": {
      "text/plain": [
       "False"
      ]
     },
     "execution_count": 2,
     "metadata": {},
     "output_type": "execute_result"
    }
   ],
   "source": [
    "import nltk\n",
    "\n",
    "nltk.download('punkt')"
   ]
  },
  {
   "cell_type": "code",
   "execution_count": 3,
   "metadata": {
    "colab": {},
    "colab_type": "code",
    "id": "iffa2_WGsc3H",
    "outputId": "151fc2d5-3bc1-4206-9bd2-000dbf662b31",
    "scrolled": true
   },
   "outputs": [
    {
     "name": "stdout",
     "output_type": "stream",
     "text": [
      "neg: 0.01, neu: 0.745, pos: 0.245, compound: 0.9975, "
     ]
    }
   ],
   "source": [
    "import nltk\n",
    "from nltk.sentiment.vader import SentimentIntensityAnalyzer\n",
    "\n",
    "# import nltk\n",
    "# nltk.download('vader_lexicon')\n",
    "\n",
    "sid = SentimentIntensityAnalyzer()\n",
    "\n",
    "for_sentiment = 'a person is a person no matter how small dr seuss i teach the smallest students with the biggest enthusiasm \\\n",
    "for learning my students learn in many different ways using all of our senses and multiple intelligences i use a wide range\\\n",
    "of techniques to help all my students succeed students in my class come from a variety of different backgrounds which makes\\\n",
    "for wonderful sharing of experiences and cultures including native americans our school is a caring community of successful \\\n",
    "learners which can be seen through collaborative student project based learning in and out of the classroom kindergarteners \\\n",
    "in my class love to work with hands on materials and have many different opportunities to practice a skill before it is\\\n",
    "mastered having the social skills to work cooperatively with friends is a crucial aspect of the kindergarten curriculum\\\n",
    "montana is the perfect place to learn about agriculture and nutrition my students love to role play in our pretend kitchen\\\n",
    "in the early childhood classroom i have had several kids ask me can we try cooking with real food i will take their idea \\\n",
    "and create common core cooking lessons where we learn important math and writing concepts while cooking delicious healthy \\\n",
    "food for snack time my students will have a grounded appreciation for the work that went into making the food and knowledge \\\n",
    "of where the ingredients came from as well as how it is healthy for their bodies this project would expand our learning of \\\n",
    "nutrition and agricultural cooking recipes by having us peel our own apples to make homemade applesauce make our own bread \\\n",
    "and mix up healthy plants from our classroom garden in the spring we will also create our own cookbooks to be printed and \\\n",
    "shared with families students will gain math and literature skills as well as a life long enjoyment for healthy cooking \\\n",
    "nannan'\n",
    "ss = sid.polarity_scores(for_sentiment)\n",
    "\n",
    "for k in ss:\n",
    "    print('{0}: {1}, '.format(k, ss[k]), end='')\n",
    "\n",
    "# we can use these 4 things as features/attributes (neg, neu, pos, compound)\n",
    "# neg: 0.0, neu: 0.753, pos: 0.247, compound: 0.93"
   ]
  },
  {
   "cell_type": "code",
   "execution_count": 41,
   "metadata": {},
   "outputs": [],
   "source": [
    "import re\n",
    "from nltk import word_tokenize"
   ]
  },
  {
   "cell_type": "code",
   "execution_count": 42,
   "metadata": {},
   "outputs": [],
   "source": [
    "def get_sentiment(song):\n",
    "    scores = dict([('pos', 0), ('neu', 0), ('neg', 0), ('compound', 0)])\n",
    "\n",
    "    if not song:\n",
    "        return scores\n",
    "\n",
    "    raw_text = song\n",
    "    raw_text = re.sub(\"\\n\", \". \", str(raw_text))\n",
    "\n",
    "    # Using already trained\n",
    "    sid = SentimentIntensityAnalyzer()\n",
    "    #sentences = tokenize.sent_tokenize(raw_text)\n",
    "    sentences = nltk.word_tokenize(raw_text)\n",
    "\n",
    "    scores = dict([('pos', 0), ('neu', 0), ('neg', 0), ('compound', 0)])\n",
    "    for sentence in sentences:\n",
    "\n",
    "        ss = sid.polarity_scores(sentence)\n",
    "\n",
    "        for k in sorted(ss):\n",
    "            scores[k] += ss[k]\n",
    "\n",
    "    return scores "
   ]
  },
  {
   "cell_type": "code",
   "execution_count": null,
   "metadata": {},
   "outputs": [],
   "source": []
  },
  {
   "cell_type": "markdown",
   "metadata": {
    "colab_type": "text",
    "id": "BOyTl7oKsc3W"
   },
   "source": [
    "<h1>1. GBDT (xgboost/lightgbm) </h1>"
   ]
  },
  {
   "cell_type": "markdown",
   "metadata": {
    "colab_type": "text",
    "id": "VWge-b2Zsc3Z"
   },
   "source": [
    "## 1.1 Loading Data"
   ]
  },
  {
   "cell_type": "code",
   "execution_count": 8,
   "metadata": {
    "colab": {},
    "colab_type": "code",
    "id": "WDZFu6-usc3d"
   },
   "outputs": [],
   "source": [
    "import pandas\n",
    "data = pandas.read_csv('preprocessed_data.csv')"
   ]
  },
  {
   "cell_type": "markdown",
   "metadata": {
    "colab_type": "text",
    "id": "6lAMFKFcsc3j"
   },
   "source": [
    "<h2>1.2 Splitting data into Train and cross validation(or test): Stratified Sampling</h2>"
   ]
  },
  {
   "cell_type": "code",
   "execution_count": 9,
   "metadata": {
    "colab": {},
    "colab_type": "code",
    "id": "ODMijuuNsc3l"
   },
   "outputs": [],
   "source": [
    "# please write all the code with proper documentation, and proper titles for each subsection\n",
    "# go through documentations and blogs before you start coding\n",
    "# first figure out what to do, and then think about how to do.\n",
    "# reading and understanding error messages will be very much helpfull in debugging your code\n",
    "# when you plot any graph make sure you use \n",
    "    # a. Title, that describes your plot, this will be very helpful to the reader\n",
    "    # b. Legends if needed\n",
    "    # c. X-axis label\n",
    "    # d. Y-axis label"
   ]
  },
  {
   "cell_type": "code",
   "execution_count": 10,
   "metadata": {},
   "outputs": [
    {
     "name": "stdout",
     "output_type": "stream",
     "text": [
      "1    62113\n",
      "0    11083\n",
      "Name: project_is_approved, dtype: int64\n",
      "1    30593\n",
      "0     5459\n",
      "Name: project_is_approved, dtype: int64\n"
     ]
    }
   ],
   "source": [
    "from sklearn.model_selection import train_test_split\n",
    "X_train, X_test, y_train, y_test = train_test_split(data,data['project_is_approved'],test_size = 0.33,stratify=data['project_is_approved'])\n",
    "\n",
    "print(y_train.value_counts())\n",
    "print(y_test.value_counts())"
   ]
  },
  {
   "cell_type": "code",
   "execution_count": 44,
   "metadata": {},
   "outputs": [],
   "source": [
    "sentiment_dict = {}\n",
    "\n",
    "for i in list(X_train.index):\n",
    "    sentiment_dict[i] = get_sentiment(X_train[\"essay\"][i])\n",
    "\n",
    "sentiment_dict_df = pd.DataFrame(sentiment_dict)"
   ]
  },
  {
   "cell_type": "code",
   "execution_count": 47,
   "metadata": {},
   "outputs": [],
   "source": [
    "sentiment_scores = sentiment_dict_df.T"
   ]
  },
  {
   "cell_type": "code",
   "execution_count": 95,
   "metadata": {},
   "outputs": [],
   "source": [
    "sentiment_dict_test = {}\n",
    "\n",
    "for i in list(X_test.index):\n",
    "    sentiment_dict_test[i] = get_sentiment(X_test[\"essay\"][i])\n",
    "\n",
    "sentiment_dict_test_df = pd.DataFrame(sentiment_dict_test)"
   ]
  },
  {
   "cell_type": "code",
   "execution_count": 97,
   "metadata": {},
   "outputs": [
    {
     "data": {
      "text/html": [
       "<div>\n",
       "<style scoped>\n",
       "    .dataframe tbody tr th:only-of-type {\n",
       "        vertical-align: middle;\n",
       "    }\n",
       "\n",
       "    .dataframe tbody tr th {\n",
       "        vertical-align: top;\n",
       "    }\n",
       "\n",
       "    .dataframe thead th {\n",
       "        text-align: right;\n",
       "    }\n",
       "</style>\n",
       "<table border=\"1\" class=\"dataframe\">\n",
       "  <thead>\n",
       "    <tr style=\"text-align: right;\">\n",
       "      <th></th>\n",
       "      <th>pos</th>\n",
       "      <th>neu</th>\n",
       "      <th>neg</th>\n",
       "      <th>compound</th>\n",
       "    </tr>\n",
       "  </thead>\n",
       "  <tbody>\n",
       "    <tr>\n",
       "      <td>42974</td>\n",
       "      <td>13.0</td>\n",
       "      <td>116.0</td>\n",
       "      <td>0.0</td>\n",
       "      <td>4.9160</td>\n",
       "    </tr>\n",
       "    <tr>\n",
       "      <td>9170</td>\n",
       "      <td>22.0</td>\n",
       "      <td>111.0</td>\n",
       "      <td>3.0</td>\n",
       "      <td>5.9797</td>\n",
       "    </tr>\n",
       "    <tr>\n",
       "      <td>80849</td>\n",
       "      <td>18.0</td>\n",
       "      <td>89.0</td>\n",
       "      <td>1.0</td>\n",
       "      <td>6.6515</td>\n",
       "    </tr>\n",
       "    <tr>\n",
       "      <td>14062</td>\n",
       "      <td>29.0</td>\n",
       "      <td>153.0</td>\n",
       "      <td>8.0</td>\n",
       "      <td>7.7661</td>\n",
       "    </tr>\n",
       "    <tr>\n",
       "      <td>19936</td>\n",
       "      <td>20.0</td>\n",
       "      <td>97.0</td>\n",
       "      <td>1.0</td>\n",
       "      <td>6.9421</td>\n",
       "    </tr>\n",
       "    <tr>\n",
       "      <td>...</td>\n",
       "      <td>...</td>\n",
       "      <td>...</td>\n",
       "      <td>...</td>\n",
       "      <td>...</td>\n",
       "    </tr>\n",
       "    <tr>\n",
       "      <td>47024</td>\n",
       "      <td>15.0</td>\n",
       "      <td>98.0</td>\n",
       "      <td>0.0</td>\n",
       "      <td>5.1555</td>\n",
       "    </tr>\n",
       "    <tr>\n",
       "      <td>85994</td>\n",
       "      <td>22.0</td>\n",
       "      <td>95.0</td>\n",
       "      <td>0.0</td>\n",
       "      <td>8.7718</td>\n",
       "    </tr>\n",
       "    <tr>\n",
       "      <td>80157</td>\n",
       "      <td>20.0</td>\n",
       "      <td>127.0</td>\n",
       "      <td>3.0</td>\n",
       "      <td>7.6963</td>\n",
       "    </tr>\n",
       "    <tr>\n",
       "      <td>106861</td>\n",
       "      <td>25.0</td>\n",
       "      <td>131.0</td>\n",
       "      <td>1.0</td>\n",
       "      <td>8.8704</td>\n",
       "    </tr>\n",
       "    <tr>\n",
       "      <td>109135</td>\n",
       "      <td>13.0</td>\n",
       "      <td>88.0</td>\n",
       "      <td>5.0</td>\n",
       "      <td>2.5398</td>\n",
       "    </tr>\n",
       "  </tbody>\n",
       "</table>\n",
       "<p>36052 rows × 4 columns</p>\n",
       "</div>"
      ],
      "text/plain": [
       "         pos    neu  neg  compound\n",
       "42974   13.0  116.0  0.0    4.9160\n",
       "9170    22.0  111.0  3.0    5.9797\n",
       "80849   18.0   89.0  1.0    6.6515\n",
       "14062   29.0  153.0  8.0    7.7661\n",
       "19936   20.0   97.0  1.0    6.9421\n",
       "...      ...    ...  ...       ...\n",
       "47024   15.0   98.0  0.0    5.1555\n",
       "85994   22.0   95.0  0.0    8.7718\n",
       "80157   20.0  127.0  3.0    7.6963\n",
       "106861  25.0  131.0  1.0    8.8704\n",
       "109135  13.0   88.0  5.0    2.5398\n",
       "\n",
       "[36052 rows x 4 columns]"
      ]
     },
     "execution_count": 97,
     "metadata": {},
     "output_type": "execute_result"
    }
   ],
   "source": [
    "sentiment_dict_test_df.T"
   ]
  },
  {
   "cell_type": "markdown",
   "metadata": {
    "colab_type": "text",
    "id": "vsALgl5Asc3u"
   },
   "source": [
    "<h2>1.3 Make Data Model Ready: encoding eassay, and project_title</h2>"
   ]
  },
  {
   "cell_type": "code",
   "execution_count": 49,
   "metadata": {
    "colab": {},
    "colab_type": "code",
    "id": "1A_85jbWsc3v"
   },
   "outputs": [],
   "source": [
    "# please write all the code with proper documentation, and proper titles for each subsection\n",
    "# go through documentations and blogs before you start coding\n",
    "# first figure out what to do, and then think about how to do.\n",
    "# reading and understanding error messages will be very much helpfull in debugging your code\n",
    "# make sure you featurize train and test data separatly\n",
    "\n",
    "# when you plot any graph make sure you use \n",
    "    # a. Title, that describes your plot, this will be very helpful to the reader\n",
    "    # b. Legends if needed\n",
    "    # c. X-axis label\n",
    "    # d. Y-axis label"
   ]
  },
  {
   "cell_type": "code",
   "execution_count": 50,
   "metadata": {},
   "outputs": [
    {
     "name": "stdout",
     "output_type": "stream",
     "text": [
      "After vectorizations\n",
      "(73196, 5000) (73196,)\n",
      "(36052, 5000) (36052,)\n",
      "====================================================================================================\n"
     ]
    }
   ],
   "source": [
    "#for essay(tfidf)\n",
    "from sklearn.feature_extraction.text import TfidfVectorizer\n",
    "\n",
    "vectorizer_essay_tfidf = TfidfVectorizer(min_df=10,max_features=5000,ngram_range=(1, 2))\n",
    "vectorizer_essay_tfidf.fit(X_train['essay'])\n",
    "\n",
    "\n",
    "\n",
    "# we use the fitted CountVectorizer to convert the text to vector\n",
    "X_train_tf_essay = vectorizer_essay_tfidf.transform(X_train['essay'])\n",
    "X_test_tf_essay = vectorizer_essay_tfidf.transform(X_test['essay'])\n",
    "\n",
    "\n",
    "\n",
    "print(\"After vectorizations\")\n",
    "print(X_train_tf_essay.shape, y_train.shape)\n",
    "print(X_test_tf_essay.shape, y_test.shape)\n",
    "print(\"=\"*100)\n",
    "# so the dimension of alll are the same by using first fit and then transform\n",
    "ft1=vectorizer_essay_tfidf.get_feature_names()"
   ]
  },
  {
   "cell_type": "markdown",
   "metadata": {},
   "source": [
    " Using Pretrained Models: TFIDF weighted W2V"
   ]
  },
  {
   "cell_type": "code",
   "execution_count": 51,
   "metadata": {},
   "outputs": [],
   "source": [
    "import pickle\n",
    "with open('glove_vectors', 'rb') as f:\n",
    "    \n",
    "    model = pickle.load(f)\n",
    "    glove_words =  set(model.keys())"
   ]
  },
  {
   "cell_type": "code",
   "execution_count": 52,
   "metadata": {},
   "outputs": [],
   "source": [
    "tfidf_model = TfidfVectorizer()\n",
    "tfidf_model.fit(X_train['essay'])\n",
    "# we are converting a dictionary with word as a key, and the idf as a value\n",
    "dictionary = dict(zip(tfidf_model.get_feature_names(), list(tfidf_model.idf_)))\n",
    "tfidf_words = set(tfidf_model.get_feature_names())"
   ]
  },
  {
   "cell_type": "code",
   "execution_count": 53,
   "metadata": {},
   "outputs": [],
   "source": [
    "# compute average word2vec for each review.\n",
    "from tqdm import tqdm\n",
    "import numpy as np\n",
    "def tf_idf_done(word_list):\n",
    "    tfidf_w2v_vectors = []; # the avg-w2v for each sentence/review is stored in this list\n",
    "    for sentence in tqdm(word_list): # for each review/sentence\n",
    "        vector = np.zeros(300) # as word vectors are of zero length\n",
    "        tf_idf_weight =0; # num of words with a valid vector in the sentence/review\n",
    "        for word in sentence.split(): # for each word in a review/sentence\n",
    "            if (word in glove_words) and (word in tfidf_words):\n",
    "                vec = model[word] # getting the vector for each word\n",
    "                # here we are multiplying idf value(dictionary[word]) and the tf value((sentence.count(word)/len(sentence.split())))\n",
    "                tf_idf = dictionary[word]*(sentence.count(word)/len(sentence.split())) # getting the tfidf value for each word\n",
    "                vector += (vec * tf_idf) # calculating tfidf weighted w2v\n",
    "                tf_idf_weight += tf_idf\n",
    "        if tf_idf_weight != 0:\n",
    "            vector /= tf_idf_weight\n",
    "        tfidf_w2v_vectors.append(vector)\n",
    "\n",
    "    print(len(tfidf_w2v_vectors))\n",
    "    print(len(tfidf_w2v_vectors[0])) \n",
    "    return tfidf_w2v_vectors"
   ]
  },
  {
   "cell_type": "code",
   "execution_count": 54,
   "metadata": {
    "scrolled": true
   },
   "outputs": [
    {
     "name": "stderr",
     "output_type": "stream",
     "text": [
      "100%|███████████████████████████████████████████████████████████████████████████| 73196/73196 [05:00<00:00, 243.72it/s]\n"
     ]
    },
    {
     "name": "stdout",
     "output_type": "stream",
     "text": [
      "73196\n",
      "300\n"
     ]
    },
    {
     "name": "stderr",
     "output_type": "stream",
     "text": [
      "100%|███████████████████████████████████████████████████████████████████████████| 36052/36052 [01:54<00:00, 313.65it/s]\n"
     ]
    },
    {
     "name": "stdout",
     "output_type": "stream",
     "text": [
      "36052\n",
      "300\n"
     ]
    }
   ],
   "source": [
    "train_tfidf_w2v_vectors=tf_idf_done(X_train['essay'])\n",
    "test_tfidf_w2v_vectors=tf_idf_done(X_test['essay'])"
   ]
  },
  {
   "cell_type": "markdown",
   "metadata": {
    "colab_type": "text",
    "id": "S3Vxxv2Hsc31"
   },
   "source": [
    "<h2>1.4 Make Data Model Ready: encoding numerical, categorical features</h2>"
   ]
  },
  {
   "cell_type": "code",
   "execution_count": 55,
   "metadata": {
    "colab": {},
    "colab_type": "code",
    "id": "RAtihVPqsc33"
   },
   "outputs": [],
   "source": [
    "# please write all the code with proper documentation, and proper titles for each subsection\n",
    "# go through documentations and blogs before you start coding \n",
    "# first figure out what to do, and then think about how to do.\n",
    "# reading and understanding error messages will be very much helpfull in debugging your code\n",
    "# make sure you featurize train and test data separatly\n",
    "\n",
    "# when you plot any graph make sure you use \n",
    "    # a. Title, that describes your plot, this will be very helpful to the reader\n",
    "    # b. Legends if needed\n",
    "    # c. X-axis label\n",
    "    # d. Y-axis label"
   ]
  },
  {
   "cell_type": "markdown",
   "metadata": {},
   "source": [
    "# Response coding for Categorical Data"
   ]
  },
  {
   "cell_type": "markdown",
   "metadata": {},
   "source": [
    "For School state categorical feature"
   ]
  },
  {
   "cell_type": "code",
   "execution_count": 56,
   "metadata": {
    "scrolled": true
   },
   "outputs": [],
   "source": [
    "def response_code(X_train, col):\n",
    "\n",
    "    X_train_1 = X_train[X_train['project_is_approved'] == 1]\n",
    "    X_train_0 = X_train[X_train['project_is_approved'] == 0]\n",
    "\n",
    "    true_dict = X_train_1[col].value_counts()\n",
    "    false_dict = X_train_0[col].value_counts()\n",
    "    \n",
    "    both_keys = set(list(true_dict.keys())+list(false_dict.keys()))\n",
    "    \n",
    "    if len(list(both_keys-set(true_dict.keys())))>0:\n",
    "        for temp in list(both_keys-set(true_dict.keys())):\n",
    "            true_dict[temp] = 0\n",
    "    if len(list(both_keys-set(false_dict.keys())))>0:\n",
    "        for temp in list(both_keys-set(false_dict.keys())):\n",
    "            false_dict[temp] = 0        \n",
    "    \n",
    "    col_prob = {}\n",
    "\n",
    "    for k in both_keys:\n",
    "        if (k in list(X_train_0.keys())) and (k not in list(X_train_1.keys())) :\n",
    "            col_prob[k] = [1,0]\n",
    "        elif (k not in list(X_train_0.keys())) and (k in list(X_train_1.keys())) : \n",
    "            col_prob[k] = [0,1]\n",
    "        else:\n",
    "            summed = false_dict[k]+true_dict[k]\n",
    "            col_prob[k] = [round(false_dict[k]/summed,2),round(true_dict[k]/summed,2)]\n",
    "            \n",
    "    return col_prob"
   ]
  },
  {
   "cell_type": "code",
   "execution_count": 57,
   "metadata": {},
   "outputs": [],
   "source": [
    "def response_coding(X_train, X_test, col):\n",
    "    col_prob = response_code(X_train, col)\n",
    "    col_0 = str(col)+\"_0\"\n",
    "    col_1 = str(col)+\"_1\"\n",
    "    \n",
    "    X_train[col_0] = [0.5]*len(X_train)\n",
    "    X_train[col_1] = [0.5]*len(X_train)\n",
    "    \n",
    "    for k in col_prob.keys():\n",
    "        X_train.loc[X_train[col] == k, col_0] = col_prob[k][0]\n",
    "        X_train.loc[X_train[col] == k, col_1] = col_prob[k][1]\n",
    "        \n",
    "    X_test[col_0] = [0.5]*len(X_test)\n",
    "    X_test[col_1] = [0.5]*len(X_test)\n",
    "    \n",
    "    for k in col_prob.keys():\n",
    "        X_test.loc[X_test[col] == k, col_0] = col_prob[k][0]\n",
    "        X_test.loc[X_test[col] == k, col_1] = col_prob[k][1]\n",
    "        \n",
    "\n",
    "    return X_train[col_0].values.reshape(-1,1), X_train[col_1].values.reshape(-1,1), X_test[col_0].values.reshape(-1,1), X_test[col_1].values.reshape(-1,1)"
   ]
  },
  {
   "cell_type": "code",
   "execution_count": 58,
   "metadata": {
    "scrolled": true
   },
   "outputs": [],
   "source": [
    "#clean_categories_train_0, clean_categories_train_1, clean_categories_test_0, clean_categories_test_1 = response_coding(X_train.copy(), X_test.copy(), \"clean_categories\")"
   ]
  },
  {
   "cell_type": "markdown",
   "metadata": {},
   "source": [
    "school state"
   ]
  },
  {
   "cell_type": "code",
   "execution_count": 59,
   "metadata": {},
   "outputs": [],
   "source": [
    "school_state_train_0, school_state_train_1, school_state_test_0, school_state_test_1 = response_coding(X_train.copy(), X_test.copy(), \"school_state\")"
   ]
  },
  {
   "cell_type": "markdown",
   "metadata": {},
   "source": [
    "teacher prefix"
   ]
  },
  {
   "cell_type": "code",
   "execution_count": 60,
   "metadata": {},
   "outputs": [],
   "source": [
    "teacher_prefix_train_0, teacher_prefix_train_1, teacher_prefix_test_0, teacher_prefix_test_1 = response_coding(X_train.copy(), X_test.copy(), \"teacher_prefix\")"
   ]
  },
  {
   "cell_type": "markdown",
   "metadata": {},
   "source": [
    "project grade category"
   ]
  },
  {
   "cell_type": "code",
   "execution_count": 61,
   "metadata": {},
   "outputs": [],
   "source": [
    "project_grade_category_train_0, project_grade_category_train_1, project_grade_category_test_0, project_grade_category_test_1 = response_coding(X_train.copy(), X_test.copy(), \"project_grade_category\")"
   ]
  },
  {
   "cell_type": "markdown",
   "metadata": {},
   "source": [
    "clean category"
   ]
  },
  {
   "cell_type": "code",
   "execution_count": 62,
   "metadata": {},
   "outputs": [],
   "source": [
    "clean_categories_train_0, clean_categories_train_1, clean_categories_test_0, clean_categories_test_1 = response_coding(X_train.copy(), X_test.copy(), \"clean_categories\")"
   ]
  },
  {
   "cell_type": "markdown",
   "metadata": {},
   "source": [
    "clean subcategory"
   ]
  },
  {
   "cell_type": "code",
   "execution_count": 63,
   "metadata": {},
   "outputs": [],
   "source": [
    "clean_subcategories_train_0, clean_subcategories_train_1, clean_subcategories_test_0, clean_subcategories_test_1 = response_coding(X_train.copy(), X_test.copy(), \"clean_subcategories\")"
   ]
  },
  {
   "cell_type": "markdown",
   "metadata": {},
   "source": [
    "price"
   ]
  },
  {
   "cell_type": "code",
   "execution_count": 64,
   "metadata": {},
   "outputs": [
    {
     "name": "stdout",
     "output_type": "stream",
     "text": [
      "After vectorizations\n",
      "(73196, 1) (73196,)\n",
      "(36052, 1) (36052,)\n",
      "====================================================================================================\n"
     ]
    }
   ],
   "source": [
    "from sklearn.preprocessing import Normalizer\n",
    "normalizer = Normalizer()\n",
    "# normalizer.fit(X_train['price'].values)\n",
    "# this will rise an error Expected 2D array, got 1D array instead: \n",
    "# array=[105.22 215.96  96.01 ... 368.98  80.53 709.67].\n",
    "# Reshape your data either using \n",
    "# array.reshape(-1, 1) if your data has a single feature \n",
    "# array.reshape(1, -1)  if it contains a single sample.\n",
    "normalizer.fit(X_train['price'].values.reshape(-1,1))\n",
    "\n",
    "X_train_price_norm = normalizer.transform(X_train['price'].values.reshape(-1,1))\n",
    "#X_cv_price_norm = normalizer.transform(X_cv['price'].values.reshape(-1,1))\n",
    "X_test_price_norm = normalizer.transform(X_test['price'].values.reshape(-1,1))\n",
    "\n",
    "\n",
    "\n",
    "print(\"After vectorizations\")\n",
    "print(X_train_price_norm.shape, y_train.shape)\n",
    "#print(X_cv_price_norm.shape, y_cv.shape)\n",
    "print(X_test_price_norm.shape, y_test.shape)\n",
    "print(\"=\"*100)"
   ]
  },
  {
   "cell_type": "markdown",
   "metadata": {},
   "source": [
    "previous_year_projects"
   ]
  },
  {
   "cell_type": "code",
   "execution_count": 65,
   "metadata": {},
   "outputs": [
    {
     "name": "stdout",
     "output_type": "stream",
     "text": [
      "(73196, 1)\n",
      "(36052, 1)\n"
     ]
    }
   ],
   "source": [
    "# standardization sklearn: https://scikit-learn.org/stable/modules/generated/sklearn.preprocessing.StandardScaler.html\n",
    "from sklearn.preprocessing import StandardScaler\n",
    "\n",
    "teacher_previous_proj_normalizer = Normalizer()\n",
    "# normalizer = Normalizer()\n",
    "\n",
    "teacher_previous_proj_normalizer.fit(X_train['teacher_number_of_previously_posted_projects'].values.reshape(1,-1)) # finding the mean and standard deviation of this data\n",
    "# print(f\"Mean : {teacher_previous_proj_scalar.mean_[0]}, Standard deviation : {np.sqrt(teacher_previous_proj_scalar.var_[0])}\")\n",
    "\n",
    "# Now standardize the data with above maen and variance.\n",
    "x_train_teacher_previous_proj_normalized = teacher_previous_proj_normalizer.transform(X_train['teacher_number_of_previously_posted_projects'].values.reshape(1,- 1)).reshape(-1,1)\n",
    "x_test_teacher_previous_proj_normalized  = teacher_previous_proj_normalizer.transform(X_test['teacher_number_of_previously_posted_projects'].values.reshape(1,- 1)).reshape(-1,1)\n",
    "#x_cv_teacher_previous_proj_normalized    = teacher_previous_proj_normalizer.transform(X_cv['teacher_number_of_previously_posted_projects'].values.reshape(1,- 1)).reshape(-1,1)\n",
    "\n",
    "print(x_train_teacher_previous_proj_normalized.shape)\n",
    "#print(x_cv_teacher_previous_proj_normalized.shape)\n",
    "print(x_test_teacher_previous_proj_normalized.shape)"
   ]
  },
  {
   "cell_type": "markdown",
   "metadata": {},
   "source": [
    "# Prepare for set 1:"
   ]
  },
  {
   "cell_type": "code",
   "execution_count": 67,
   "metadata": {},
   "outputs": [
    {
     "name": "stdout",
     "output_type": "stream",
     "text": [
      "(73196, 5016) (73196,)\n"
     ]
    }
   ],
   "source": [
    "from scipy.sparse import hstack\n",
    "# with the same hstack function we are concatinating a sparse matrix and a dense matirx :)\n",
    "X_set1_train = hstack((X_train_tf_essay,school_state_train_0,school_state_train_1,teacher_prefix_train_0, teacher_prefix_train_1,project_grade_category_train_0, project_grade_category_train_1,clean_categories_train_0, clean_categories_train_1,clean_subcategories_train_0, clean_subcategories_train_1,X_train_price_norm,x_train_teacher_previous_proj_normalized,sentiment_scores)).tocsr()\n",
    "\n",
    "\n",
    "print(X_set1_train.shape, y_train.shape)"
   ]
  },
  {
   "cell_type": "code",
   "execution_count": 98,
   "metadata": {},
   "outputs": [
    {
     "name": "stdout",
     "output_type": "stream",
     "text": [
      "(36052, 5016) (36052,)\n"
     ]
    }
   ],
   "source": [
    "# with the same hstack function we are concatinating a sparse matrix and a dense matirx :)\n",
    "X_set1_test = hstack((X_test_tf_essay,school_state_test_0, school_state_test_1,teacher_prefix_test_0, teacher_prefix_test_1,project_grade_category_test_0, project_grade_category_test_1,clean_categories_test_0, clean_categories_test_1,clean_subcategories_test_0, clean_subcategories_test_1,X_test_price_norm,x_test_teacher_previous_proj_normalized,sentiment_dict_test_df.T)).tocsr()\n",
    "\n",
    "\n",
    "print(X_set1_test.shape, y_test.shape)"
   ]
  },
  {
   "cell_type": "markdown",
   "metadata": {},
   "source": [
    "# Prepare for set2"
   ]
  },
  {
   "cell_type": "code",
   "execution_count": 69,
   "metadata": {},
   "outputs": [],
   "source": [
    "from scipy import sparse"
   ]
  },
  {
   "cell_type": "code",
   "execution_count": 70,
   "metadata": {},
   "outputs": [
    {
     "name": "stdout",
     "output_type": "stream",
     "text": [
      "(73196, 312) (73196,)\n"
     ]
    }
   ],
   "source": [
    "X_set2_train = hstack((sparse.csr_matrix(train_tfidf_w2v_vectors),school_state_train_0,school_state_train_1,teacher_prefix_train_0, teacher_prefix_train_1,project_grade_category_train_0, project_grade_category_train_1,clean_categories_train_0, clean_categories_train_1,clean_subcategories_train_0, clean_subcategories_train_1,X_train_price_norm,x_train_teacher_previous_proj_normalized)).tocsr()\n",
    "\n",
    "\n",
    "print(X_set2_train.shape, y_train.shape)"
   ]
  },
  {
   "cell_type": "code",
   "execution_count": 71,
   "metadata": {},
   "outputs": [
    {
     "name": "stdout",
     "output_type": "stream",
     "text": [
      "(36052, 312) (36052,)\n"
     ]
    }
   ],
   "source": [
    "X_set2_test = hstack((sparse.csr_matrix(test_tfidf_w2v_vectors),school_state_test_0, school_state_test_1,teacher_prefix_test_0, teacher_prefix_test_1,project_grade_category_test_0, project_grade_category_test_1,clean_categories_test_0, clean_categories_test_1,clean_subcategories_test_0, clean_subcategories_test_1,X_test_price_norm,x_test_teacher_previous_proj_normalized)).tocsr()\n",
    "\n",
    "\n",
    "print(X_set2_test.shape, y_test.shape)"
   ]
  },
  {
   "cell_type": "markdown",
   "metadata": {
    "colab_type": "text",
    "id": "I5wDFj17sc3-"
   },
   "source": [
    "<h2>1.5 Appling Models on different kind of featurization as mentioned in the instructions</h2>"
   ]
  },
  {
   "cell_type": "markdown",
   "metadata": {
    "colab_type": "text",
    "id": "O5tWox1jsc3_"
   },
   "source": [
    "<br>Apply GBDT on different kind of featurization as mentioned in the instructions\n",
    "<br> For Every model that you work on make sure you do the step 2 and step 3 of instrucations"
   ]
  },
  {
   "cell_type": "code",
   "execution_count": 72,
   "metadata": {
    "colab": {},
    "colab_type": "code",
    "id": "ARWulYUwsc4B"
   },
   "outputs": [],
   "source": [
    "# please write all the code with proper documentation, and proper titles for each subsection\n",
    "# go through documentations and blogs before you start coding\n",
    "# first figure out what to do, and then think about how to do.\n",
    "# reading and understanding error messages will be very much helpfull in debugging your code\n",
    "# when you plot any graph make sure you use \n",
    "    # a. Title, that describes your plot, this will be very helpful to the reader\n",
    "    # b. Legends if needed\n",
    "    # c. X-axis label\n",
    "    # d. Y-axis label"
   ]
  },
  {
   "cell_type": "code",
   "execution_count": 76,
   "metadata": {},
   "outputs": [
    {
     "name": "stdout",
     "output_type": "stream",
     "text": [
      "{'max_depth': 5, 'n_estimators ': 10} 0.8485846221104978\n"
     ]
    }
   ],
   "source": [
    "import lightgbm as lgb\n",
    "from sklearn.model_selection import GridSearchCV\n",
    "param_grid = {\n",
    "    'max_depth': [5,10, 50, 100, 200],\n",
    "    'n_estimators ':[10, 20, 50, 100, 500, 1000]\n",
    "    }\n",
    "\n",
    "lgb_estimator = lgb.LGBMClassifier(boosting_type='gbdt', learning_rate=0.01, metric='auc')\n",
    "\n",
    "gsearch = GridSearchCV(estimator=lgb_estimator, param_grid=param_grid, cv=3,return_train_score=True)\n",
    "lgb_model = gsearch.fit(X_set1_train, y_train)\n",
    "\n",
    "print(lgb_model.best_params_, lgb_model.best_score_)"
   ]
  },
  {
   "cell_type": "code",
   "execution_count": 78,
   "metadata": {},
   "outputs": [
    {
     "data": {
      "image/png": "[encoded data removed]",
      "text/plain": [
       "<Figure size 1440x432 with 4 Axes>"
      ]
     },
     "metadata": {},
     "output_type": "display_data"
    }
   ],
   "source": [
    "import seaborn as sns; sns.set()\n",
    "import matplotlib.pyplot as plt\n",
    "\n",
    "max_scores1 = pd.DataFrame(lgb_model.cv_results_).groupby([\"param_max_depth\",\"param_n_estimators \"]).max().unstack()[['mean_test_score', 'mean_train_score']]\n",
    "\n",
    "\n",
    "fig, ax = plt.subplots(1,2, figsize=(20,6))\n",
    "\n",
    "sns.heatmap(max_scores1.mean_train_score, annot = True, fmt='.4g', ax=ax[0])\n",
    "sns.heatmap(max_scores1.mean_test_score, annot = True, fmt='.4g', ax=ax[1])\n",
    "\n",
    "ax[0].set_title('Train Set')\n",
    "ax[1].set_title('CV Set')\n",
    "\n",
    "plt.show()"
   ]
  },
  {
   "cell_type": "code",
   "execution_count": 88,
   "metadata": {},
   "outputs": [
    {
     "data": {
      "text/plain": [
       "{'max_depth': 5, 'n_estimators ': 10}"
      ]
     },
     "execution_count": 88,
     "metadata": {},
     "output_type": "execute_result"
    }
   ],
   "source": [
    "gsearch.best_params_\n"
   ]
  },
  {
   "cell_type": "code",
   "execution_count": 92,
   "metadata": {},
   "outputs": [],
   "source": [
    "best_parameters =[{'max_depth':[5], 'n_estimators': [10] }  ]"
   ]
  },
  {
   "cell_type": "code",
   "execution_count": 103,
   "metadata": {},
   "outputs": [
    {
     "name": "stderr",
     "output_type": "stream",
     "text": [
      "C:\\Users\\Chance\\Anaconda3\\lib\\site-packages\\sklearn\\model_selection\\_split.py:1978: FutureWarning: The default value of cv will change from 3 to 5 in version 0.22. Specify it explicitly to silence this warning.\n",
      "  warnings.warn(CV_WARNING, FutureWarning)\n"
     ]
    },
    {
     "data": {
      "image/png": "[encoded data removed]",
      "text/plain": [
       "<Figure size 432x288 with 1 Axes>"
      ]
     },
     "metadata": {},
     "output_type": "display_data"
    }
   ],
   "source": [
    "from sklearn.metrics import roc_curve, auc\n",
    "from sklearn.tree import DecisionTreeClassifier\n",
    "from sklearn.metrics import roc_curve, auc\n",
    "from sklearn.metrics import confusion_matrix\n",
    "\n",
    "\n",
    "clf11 = GridSearchCV(lgb.LGBMClassifier(class_weight='balanced'),best_parameters)\n",
    "clf11.fit(X_set1_train, y_train)\n",
    "\n",
    "\n",
    "#https://scikit-learn.org/stable/modules/generated/sklearn.linear_model.SGDClassifier.html#sklearn.linear_model.SGDClassifier.decision_function\n",
    "\n",
    "\n",
    "y_train_pred1 = clf11.predict_proba(X_set1_train) [:,1]   \n",
    "y_test_pred1 =  clf11.predict_proba(X_set1_test) [:,1]  \n",
    "\n",
    "\n",
    "train_fpr1, train_tpr1, tr_thresholds1 = roc_curve(y_train, y_train_pred1)\n",
    "test_fpr1, test_tpr1, te_thresholds1 = roc_curve(y_test, y_test_pred1)\n",
    "\n",
    "plt.plot(train_fpr1, train_tpr1, label=\"train AUC =\"+str(auc(train_fpr1, train_tpr1)))\n",
    "plt.plot(test_fpr1, test_tpr1, label=\"test AUC =\"+str(auc(test_fpr1, test_tpr1)))\n",
    "plt.legend()\n",
    "plt.xlabel(\"False Positive Rate\")\n",
    "plt.ylabel(\"True Positive Rate\")\n",
    "plt.title(\"ERROR PLOTS\")\n",
    "plt.grid(True)\n",
    "plt.show()"
   ]
  },
  {
   "cell_type": "code",
   "execution_count": 104,
   "metadata": {},
   "outputs": [],
   "source": [
    "def predict(proba, threshould, fpr, tpr):\n",
    "    \n",
    "    t = threshould[np.argmax(fpr*(1-tpr))]\n",
    "    print(\"the maximum value of tpr*(1-fpr)\", np.round(max(tpr*(1-fpr)),2) , \"for threshold\", np.round(t,2))\n",
    "    predictions = []\n",
    "    global predictions1   # make it global \n",
    "    for i in proba:\n",
    "        if i>=t:\n",
    "            predictions.append(1)\n",
    "        else:\n",
    "            predictions.append(0)\n",
    "            \n",
    "    predictions1= predictions\n",
    "    return predictions"
   ]
  },
  {
   "cell_type": "code",
   "execution_count": 105,
   "metadata": {},
   "outputs": [
    {
     "name": "stdout",
     "output_type": "stream",
     "text": [
      "the maximum value of tpr*(1-fpr) 0.41 for threshold 0.5\n",
      "the maximum value of tpr*(1-fpr) 0.37 for threshold 0.5\n"
     ]
    },
    {
     "data": {
      "image/png": "[encoded data removed]",
      "text/plain": [
       "<Figure size 864x360 with 4 Axes>"
      ]
     },
     "metadata": {},
     "output_type": "display_data"
    }
   ],
   "source": [
    "con_m_train = confusion_matrix(y_train, predict(y_train_pred1, tr_thresholds1, train_fpr1, train_tpr1))\n",
    "con_m_test = confusion_matrix(y_test, predict(y_test_pred1, te_thresholds1, test_fpr1, test_tpr1))\n",
    "\n",
    "key = (np.asarray([['TN','FP'], ['FN', 'TP']]))\n",
    "\n",
    "fig, ax = plt.subplots(1,2, figsize=(12,5)) \n",
    "\n",
    "labels_train = (np.asarray([\"{0} = {1:.2f}\" .format(key, value) for key, value in zip(key.flatten(), con_m_train.flatten())])).reshape(2,2)\n",
    "labels_test = (np.asarray([\"{0} = {1:.2f}\" .format(key, value) for key, value in zip(key.flatten(), con_m_test.flatten())])).reshape(2,2)\n",
    "\n",
    "sns.heatmap(con_m_train, linewidths=.5, xticklabels=['PREDICTED : NO', 'PREDICTED : YES'], yticklabels=['ACTUAL : NO', 'ACTUAL : YES'], annot = labels_train, fmt = '', ax=ax[0])\n",
    "sns.heatmap(con_m_test, linewidths=.5, xticklabels=['PREDICTED : NO', 'PREDICTED : YES'], yticklabels=['ACTUAL : NO', 'ACTUAL : YES'], annot = labels_test, fmt = '', ax=ax[1])\n",
    "\n",
    "ax[0].set_title('Train Set')\n",
    "ax[1].set_title('Test Set')\n",
    "\n",
    "plt.show()"
   ]
  },
  {
   "cell_type": "code",
   "execution_count": null,
   "metadata": {},
   "outputs": [],
   "source": []
  },
  {
   "cell_type": "markdown",
   "metadata": {},
   "source": [
    "# GBDT FOR SET2"
   ]
  },
  {
   "cell_type": "code",
   "execution_count": 106,
   "metadata": {},
   "outputs": [],
   "source": [
    "from sklearn.metrics import roc_auc_score\n",
    "import pandas as pd\n",
    "import matplotlib.pyplot as plt\n",
    "from sklearn.ensemble import RandomForestClassifier\n",
    "from sklearn.model_selection import train_test_split\n",
    "from sklearn.model_selection import GridSearchCV\n",
    "from sklearn.model_selection import cross_val_score\n",
    "from sklearn.tree import DecisionTreeClassifier\n",
    "from sklearn.ensemble import GradientBoostingClassifier\n",
    "from sklearn.metrics import roc_curve, auc\n",
    "\n"
   ]
  },
  {
   "cell_type": "code",
   "execution_count": 108,
   "metadata": {},
   "outputs": [
    {
     "name": "stdout",
     "output_type": "stream",
     "text": [
      "{'max_depth': 5, 'n_estimators ': 10} 0.8485846221104978\n"
     ]
    }
   ],
   "source": [
    "param_grid = {\n",
    "    'max_depth': [5,10, 50, 100, 200],\n",
    "    'n_estimators ':[10, 20, 50, 100, 500, 1000]\n",
    "    }\n",
    "\n",
    "lgb_estimator_2 = lgb.LGBMClassifier(boosting_type='gbdt', learning_rate=0.01, metric='auc')\n",
    "\n",
    "gsearch_2 = GridSearchCV(estimator=lgb_estimator_2, param_grid=param_grid, cv=3,return_train_score=True)\n",
    "lgb_model_2 = gsearch_2.fit(X_set2_train, y_train)\n",
    "\n",
    "print(lgb_model_2.best_params_, lgb_model_2.best_score_)"
   ]
  },
  {
   "cell_type": "code",
   "execution_count": 109,
   "metadata": {},
   "outputs": [
    {
     "data": {
      "image/png": "[encoded data removed]",
      "text/plain": [
       "<Figure size 1440x432 with 4 Axes>"
      ]
     },
     "metadata": {},
     "output_type": "display_data"
    }
   ],
   "source": [
    "import seaborn as sns; sns.set()\n",
    "\n",
    "max_scores2 = pd.DataFrame(lgb_model.cv_results_).groupby([\"param_max_depth\",\"param_n_estimators \"]).max().unstack()[['mean_test_score', 'mean_train_score']]\n",
    "\n",
    "\n",
    "fig, ax = plt.subplots(1,2, figsize=(20,6))\n",
    "\n",
    "sns.heatmap(max_scores2.mean_train_score, annot = True, fmt='.4g', ax=ax[0])\n",
    "sns.heatmap(max_scores2.mean_test_score, annot = True, fmt='.4g', ax=ax[1])\n",
    "\n",
    "ax[0].set_title('Train Set')\n",
    "ax[1].set_title('CV Set')\n",
    "\n",
    "plt.show()"
   ]
  },
  {
   "cell_type": "code",
   "execution_count": 110,
   "metadata": {},
   "outputs": [
    {
     "data": {
      "text/plain": [
       "{'max_depth': 5, 'n_estimators ': 10}"
      ]
     },
     "execution_count": 110,
     "metadata": {},
     "output_type": "execute_result"
    }
   ],
   "source": [
    "gsearch_2.best_params_"
   ]
  },
  {
   "cell_type": "code",
   "execution_count": 111,
   "metadata": {},
   "outputs": [],
   "source": [
    "best_parameters_2 =[{'n_estimators': [10],  'max_depth':[5]  }  ]"
   ]
  },
  {
   "cell_type": "code",
   "execution_count": 112,
   "metadata": {},
   "outputs": [
    {
     "name": "stderr",
     "output_type": "stream",
     "text": [
      "C:\\Users\\Chance\\Anaconda3\\lib\\site-packages\\sklearn\\model_selection\\_split.py:1978: FutureWarning: The default value of cv will change from 3 to 5 in version 0.22. Specify it explicitly to silence this warning.\n",
      "  warnings.warn(CV_WARNING, FutureWarning)\n"
     ]
    },
    {
     "data": {
      "image/png": "[encoded data removed]",
      "text/plain": [
       "<Figure size 432x288 with 1 Axes>"
      ]
     },
     "metadata": {},
     "output_type": "display_data"
    }
   ],
   "source": [
    "from sklearn.metrics import roc_curve, auc\n",
    "from sklearn.tree import DecisionTreeClassifier\n",
    "from sklearn.metrics import roc_curve, auc\n",
    "\n",
    "\n",
    "\n",
    "clf2 = GridSearchCV(lgb.LGBMClassifier(class_weight='balanced'),best_parameters_2)\n",
    "clf2.fit(X_set2_train, y_train)\n",
    "\n",
    "\n",
    "#https://scikit-learn.org/stable/modules/generated/sklearn.linear_model.SGDClassifier.html#sklearn.linear_model.SGDClassifier.decision_function\n",
    "\n",
    "\n",
    "y_train_pred2 = clf2.predict_proba(X_set2_train) [:,1]   \n",
    "y_test_pred2 =  clf2.predict_proba(X_set2_test) [:,1]  \n",
    "\n",
    "\n",
    "train_fpr2, train_tpr2, tr_thresholds2 = roc_curve(y_train, y_train_pred2)\n",
    "test_fpr2, test_tpr2, te_thresholds2 = roc_curve(y_test, y_test_pred2)\n",
    "\n",
    "plt.plot(train_fpr2, train_tpr2, label=\"train AUC =\"+str(auc(train_fpr2, train_tpr2)))\n",
    "plt.plot(test_fpr2, test_tpr2, label=\"test AUC =\"+str(auc(test_fpr2, test_tpr2)))\n",
    "plt.legend()\n",
    "plt.xlabel(\"False Positive Rate\")\n",
    "plt.ylabel(\"True Positive Rate\")\n",
    "plt.title(\"ERROR PLOTS\")\n",
    "plt.grid(True)\n",
    "plt.show()"
   ]
  },
  {
   "cell_type": "code",
   "execution_count": 113,
   "metadata": {},
   "outputs": [
    {
     "name": "stdout",
     "output_type": "stream",
     "text": [
      "the maximum value of tpr*(1-fpr) 0.41 for threshold 0.5\n",
      "the maximum value of tpr*(1-fpr) 0.37 for threshold 0.5\n"
     ]
    },
    {
     "data": {
      "image/png": "[encoded data removed]",
      "text/plain": [
       "<Figure size 864x360 with 4 Axes>"
      ]
     },
     "metadata": {},
     "output_type": "display_data"
    }
   ],
   "source": [
    "con_m_train = confusion_matrix(y_train, predict(y_train_pred1, tr_thresholds1, train_fpr1, train_tpr1))\n",
    "con_m_test = confusion_matrix(y_test, predict(y_test_pred1, te_thresholds1, test_fpr1, test_tpr1))\n",
    "\n",
    "key = (np.asarray([['TN','FP'], ['FN', 'TP']]))\n",
    "\n",
    "fig, ax = plt.subplots(1,2, figsize=(12,5)) \n",
    "\n",
    "labels_train = (np.asarray([\"{0} = {1:.2f}\" .format(key, value) for key, value in zip(key.flatten(), con_m_train.flatten())])).reshape(2,2)\n",
    "labels_test = (np.asarray([\"{0} = {1:.2f}\" .format(key, value) for key, value in zip(key.flatten(), con_m_test.flatten())])).reshape(2,2)\n",
    "\n",
    "sns.heatmap(con_m_train, linewidths=.5, xticklabels=['PREDICTED : NO', 'PREDICTED : YES'], yticklabels=['ACTUAL : NO', 'ACTUAL : YES'], annot = labels_train, fmt = '', ax=ax[0])\n",
    "sns.heatmap(con_m_test, linewidths=.5, xticklabels=['PREDICTED : NO', 'PREDICTED : YES'], yticklabels=['ACTUAL : NO', 'ACTUAL : YES'], annot = labels_test, fmt = '', ax=ax[1])\n",
    "\n",
    "ax[0].set_title('Train Set')\n",
    "ax[1].set_title('Test Set')\n",
    "\n",
    "plt.show()"
   ]
  },
  {
   "cell_type": "code",
   "execution_count": null,
   "metadata": {},
   "outputs": [],
   "source": []
  },
  {
   "cell_type": "markdown",
   "metadata": {
    "colab_type": "text",
    "id": "YhFN-lDWsc4G"
   },
   "source": [
    "<h1>3. Summary</h1>\n",
    "\n",
    "<br> as mentioned in the step 4 of instructions"
   ]
  },
  {
   "cell_type": "code",
   "execution_count": 115,
   "metadata": {},
   "outputs": [
    {
     "name": "stdout",
     "output_type": "stream",
     "text": [
      "+---------------+-----------+---------------+------------------+---------+\n",
      "|  Vectorizer   |   Model   |   Max depth   |   n-estimators   |   AUC   |\n",
      "+---------------+-----------+---------------+------------------+---------+\n",
      "|     Tf - Idf  |  lightgbm |       5       |        10        |    65   |\n",
      "|    TfIdf-W2V  |  lightgbm |       5       |        10        |    66   |\n",
      "+---------------+-----------+---------------+------------------+---------+\n"
     ]
    }
   ],
   "source": [
    "#how to use pretty table http://zetcode.com/python/prettytable/ \n",
    "from prettytable import PrettyTable \n",
    "tb = PrettyTable()\n",
    "tb.field_names= (\" Vectorizer  \", \"  Model  \", \"  Max depth  \",\"  n-estimators  \",\"  AUC  \")\n",
    "tb.add_row([\"   Tf - Idf\",\"lightgbm\"  , 5,10 ,65]) \n",
    "tb.add_row([\"  TfIdf-W2V\", \"lightgbm\" , 5,10 , 66]) \n",
    "\n",
    "print(tb.get_string(titles = \"GBDT- Observations\")) #print(tb)"
   ]
  },
  {
   "cell_type": "code",
   "execution_count": null,
   "metadata": {},
   "outputs": [],
   "source": []
  }
 ],
 "metadata": {
  "colab": {
   "collapsed_sections": [],
   "name": "11_Assignment_GBDT_Instructions.ipynb",
   "provenance": [],
   "version": "0.3.2"
  },
  "kernelspec": {
   "display_name": "Python 3",
   "language": "python",
   "name": "python3"
  },
  "language_info": {
   "codemirror_mode": {
    "name": "ipython",
    "version": 3
   },
   "file_extension": ".py",
   "mimetype": "text/x-python",
   "name": "python",
   "nbconvert_exporter": "python",
   "pygments_lexer": "ipython3",
   "version": "3.7.3"
  }
 },
 "nbformat": 4,
 "nbformat_minor": 1
}
