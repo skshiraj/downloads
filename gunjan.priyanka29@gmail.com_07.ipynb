{
  "nbformat": 4,
  "nbformat_minor": 0,
  "metadata": {
    "colab": {
      "name": "Logistic_Regression_using_SGD_(1) (1).ipynb",
      "provenance": [],
      "collapsed_sections": []
    },
    "language_info": {
      "codemirror_mode": {
        "name": "ipython",
        "version": 3
      },
      "file_extension": ".py",
      "mimetype": "text/x-python",
      "name": "python",
      "nbconvert_exporter": "python",
      "pygments_lexer": "ipython3",
      "version": "3.6.8"
    },
    "kernelspec": {
      "display_name": "Python 3",
      "language": "python",
      "name": "python3"
    }
  },
  "cells": [
    {
      "cell_type": "code",
      "metadata": {
        "id": "I2S-uFqwSvmg",
        "colab_type": "code",
        "colab": {}
      },
      "source": [
        "import numpy as np\n",
        "import pandas as pd\n",
        "from sklearn.datasets import make_classification"
      ],
      "execution_count": 0,
      "outputs": []
    },
    {
      "cell_type": "code",
      "metadata": {
        "id": "FUxLkBjISvmr",
        "colab_type": "code",
        "colab": {}
      },
      "source": [
        "X, y = make_classification(n_samples=50000, n_features=15, n_informative=10, n_redundant=5,\n",
        "                           n_classes=2, weights=[0.7], class_sep=0.7, random_state=15)"
      ],
      "execution_count": 0,
      "outputs": []
    },
    {
      "cell_type": "code",
      "metadata": {
        "id": "xexp5GYNSvmz",
        "colab_type": "code",
        "outputId": "60bde65b-456a-4ebd-ce09-f41e2bb19b40",
        "colab": {
          "base_uri": "https://localhost:8080/",
          "height": 34
        }
      },
      "source": [
        "X.shape, y.shape"
      ],
      "execution_count": 3,
      "outputs": [
        {
          "output_type": "execute_result",
          "data": {
            "text/plain": [
              "((50000, 15), (50000,))"
            ]
          },
          "metadata": {
            "tags": []
          },
          "execution_count": 3
        }
      ]
    },
    {
      "cell_type": "markdown",
      "metadata": {
        "id": "54vJVc_KSvm9",
        "colab_type": "text"
      },
      "source": [
        " "
      ]
    },
    {
      "cell_type": "code",
      "metadata": {
        "id": "9pKAn1-ASvm_",
        "colab_type": "code",
        "colab": {}
      },
      "source": [
        "from sklearn.model_selection import train_test_split"
      ],
      "execution_count": 0,
      "outputs": []
    },
    {
      "cell_type": "code",
      "metadata": {
        "id": "r97pFTgrSvnE",
        "colab_type": "code",
        "colab": {}
      },
      "source": [
        "X_train, X_test, y_train, y_test = train_test_split(X, y, test_size=0.25, random_state=15)"
      ],
      "execution_count": 0,
      "outputs": []
    },
    {
      "cell_type": "code",
      "metadata": {
        "id": "jykLIXZNSvnJ",
        "colab_type": "code",
        "outputId": "024b1dc2-5c2d-4ac0-cd66-96c41b7bb0b7",
        "colab": {
          "base_uri": "https://localhost:8080/",
          "height": 34
        }
      },
      "source": [
        "X_train.shape, y_train.shape, X_test.shape, y_test.shape"
      ],
      "execution_count": 6,
      "outputs": [
        {
          "output_type": "execute_result",
          "data": {
            "text/plain": [
              "((37500, 15), (37500,), (12500, 15), (12500,))"
            ]
          },
          "metadata": {
            "tags": []
          },
          "execution_count": 6
        }
      ]
    },
    {
      "cell_type": "markdown",
      "metadata": {
        "id": "g0-M6oXASvnO",
        "colab_type": "text"
      },
      "source": [
        " "
      ]
    },
    {
      "cell_type": "code",
      "metadata": {
        "id": "sShoMeocSvnP",
        "colab_type": "code",
        "colab": {}
      },
      "source": [
        "from sklearn import linear_model"
      ],
      "execution_count": 0,
      "outputs": []
    },
    {
      "cell_type": "code",
      "metadata": {
        "id": "gm6wi8L2SvnU",
        "colab_type": "code",
        "outputId": "942f38ba-67fe-4314-f087-f419a2cb7a0e",
        "colab": {
          "base_uri": "https://localhost:8080/",
          "height": 119
        }
      },
      "source": [
        "# alpha : float\n",
        "# Constant that multiplies the regularization term. \n",
        "\n",
        "# eta0 : double\n",
        "# The initial learning rate for the ‘constant’, ‘invscaling’ or ‘adaptive’ schedules.\n",
        "\n",
        "clf = linear_model.SGDClassifier(eta0=0.0001, alpha=0.0001, loss='log', random_state=15, penalty='l2', tol=1e-3, verbose=2, learning_rate='constant')\n",
        "clf"
      ],
      "execution_count": 44,
      "outputs": [
        {
          "output_type": "execute_result",
          "data": {
            "text/plain": [
              "SGDClassifier(alpha=0.0001, average=False, class_weight=None,\n",
              "              early_stopping=False, epsilon=0.1, eta0=0.0001,\n",
              "              fit_intercept=True, l1_ratio=0.15, learning_rate='constant',\n",
              "              loss='log', max_iter=1000, n_iter_no_change=5, n_jobs=None,\n",
              "              penalty='l2', power_t=0.5, random_state=15, shuffle=True,\n",
              "              tol=0.001, validation_fraction=0.1, verbose=2, warm_start=False)"
            ]
          },
          "metadata": {
            "tags": []
          },
          "execution_count": 44
        }
      ]
    },
    {
      "cell_type": "code",
      "metadata": {
        "id": "Q4WFoxgASvnc",
        "colab_type": "code",
        "outputId": "6c14dec4-ff4e-43f9-9ca8-3224ca9f9554",
        "colab": {
          "base_uri": "https://localhost:8080/",
          "height": 646
        }
      },
      "source": [
        "clf.fit(X=X_train, y=y_train)"
      ],
      "execution_count": 45,
      "outputs": [
        {
          "output_type": "stream",
          "text": [
            "-- Epoch 1\n",
            "Norm: 0.77, NNZs: 15, Bias: -0.316653, T: 37500, Avg. loss: 0.455552\n",
            "Total training time: 0.01 seconds.\n",
            "-- Epoch 2\n",
            "Norm: 0.91, NNZs: 15, Bias: -0.472747, T: 75000, Avg. loss: 0.394686\n",
            "Total training time: 0.03 seconds.\n",
            "-- Epoch 3\n",
            "Norm: 0.98, NNZs: 15, Bias: -0.580082, T: 112500, Avg. loss: 0.385711\n",
            "Total training time: 0.04 seconds.\n",
            "-- Epoch 4\n",
            "Norm: 1.02, NNZs: 15, Bias: -0.658292, T: 150000, Avg. loss: 0.382083\n",
            "Total training time: 0.06 seconds.\n",
            "-- Epoch 5\n",
            "Norm: 1.04, NNZs: 15, Bias: -0.719528, T: 187500, Avg. loss: 0.380486\n",
            "Total training time: 0.07 seconds.\n",
            "-- Epoch 6\n",
            "Norm: 1.05, NNZs: 15, Bias: -0.763409, T: 225000, Avg. loss: 0.379578\n",
            "Total training time: 0.08 seconds.\n",
            "-- Epoch 7\n",
            "Norm: 1.06, NNZs: 15, Bias: -0.795106, T: 262500, Avg. loss: 0.379150\n",
            "Total training time: 0.09 seconds.\n",
            "-- Epoch 8\n",
            "Norm: 1.06, NNZs: 15, Bias: -0.819925, T: 300000, Avg. loss: 0.378856\n",
            "Total training time: 0.11 seconds.\n",
            "-- Epoch 9\n",
            "Norm: 1.07, NNZs: 15, Bias: -0.837805, T: 337500, Avg. loss: 0.378585\n",
            "Total training time: 0.12 seconds.\n",
            "-- Epoch 10\n",
            "Norm: 1.08, NNZs: 15, Bias: -0.853138, T: 375000, Avg. loss: 0.378630\n",
            "Total training time: 0.13 seconds.\n",
            "Convergence after 10 epochs took 0.13 seconds\n"
          ],
          "name": "stdout"
        },
        {
          "output_type": "execute_result",
          "data": {
            "text/plain": [
              "SGDClassifier(alpha=0.0001, average=False, class_weight=None,\n",
              "              early_stopping=False, epsilon=0.1, eta0=0.0001,\n",
              "              fit_intercept=True, l1_ratio=0.15, learning_rate='constant',\n",
              "              loss='log', max_iter=1000, n_iter_no_change=5, n_jobs=None,\n",
              "              penalty='l2', power_t=0.5, random_state=15, shuffle=True,\n",
              "              tol=0.001, validation_fraction=0.1, verbose=2, warm_start=False)"
            ]
          },
          "metadata": {
            "tags": []
          },
          "execution_count": 45
        }
      ]
    },
    {
      "cell_type": "code",
      "metadata": {
        "id": "7WaVxhGpSvnj",
        "colab_type": "code",
        "outputId": "6525014c-186a-4085-f60a-de22ff0f61a1",
        "colab": {
          "base_uri": "https://localhost:8080/",
          "height": 102
        }
      },
      "source": [
        "clf.coef_, clf.coef_.shape, clf.intercept_"
      ],
      "execution_count": 0,
      "outputs": [
        {
          "output_type": "execute_result",
          "data": {
            "text/plain": [
              "(array([[-0.42336692,  0.18547565, -0.14859036,  0.34144407, -0.2081867 ,\n",
              "          0.56016579, -0.45242483, -0.09408813,  0.2092732 ,  0.18084126,\n",
              "          0.19705191,  0.00421916, -0.0796037 ,  0.33852802,  0.02266721]]),\n",
              " (1, 15),\n",
              " array([-0.8531383]))"
            ]
          },
          "metadata": {
            "tags": []
          },
          "execution_count": 79
        }
      ]
    },
    {
      "cell_type": "markdown",
      "metadata": {
        "id": "Su9e8fRLSvno",
        "colab_type": "text"
      },
      "source": [
        " "
      ]
    },
    {
      "cell_type": "markdown",
      "metadata": {
        "id": "gcz5_UqCSvnq",
        "colab_type": "text"
      },
      "source": [
        " "
      ]
    },
    {
      "cell_type": "markdown",
      "metadata": {
        "id": "UOBvEchCSvnr",
        "colab_type": "text"
      },
      "source": [
        "## Implement Logistc Regression with L2 regularization Using SGD: without using sklearn"
      ]
    },
    {
      "cell_type": "markdown",
      "metadata": {
        "id": "Xbn61rrXSvnt",
        "colab_type": "text"
      },
      "source": [
        "### Instructions"
      ]
    },
    {
      "cell_type": "markdown",
      "metadata": {
        "id": "14bA5yR3Svnv",
        "colab_type": "text"
      },
      "source": [
        "- Load the datasets(train and test) into the respective arrays"
      ]
    },
    {
      "cell_type": "markdown",
      "metadata": {
        "id": "c7183hFBSvnv",
        "colab_type": "text"
      },
      "source": [
        "- Initialize the weight_vector and intercept term randomly"
      ]
    },
    {
      "cell_type": "markdown",
      "metadata": {
        "id": "hdLeFU0USvnx",
        "colab_type": "text"
      },
      "source": [
        "- Calculate the initlal log loss for the train and test data with the current weight and intercept and store it in a list"
      ]
    },
    {
      "cell_type": "markdown",
      "metadata": {
        "id": "pEVtAlO1Svny",
        "colab_type": "text"
      },
      "source": [
        "- for each epoch:\n",
        "    - for each batch of data points in train: (keep batch size=1)\n",
        "        - calculate the gradient of loss function w.r.t each weight in weight vector\n",
        "        - Calculate the gradient of the intercept <a href='https://drive.google.com/file/d/1nQ08-XY4zvOLzRX-lGf8EYB5arb7-m1H/view?usp=sharing'>check this</a>\n",
        "        - Update weights and intercept (check the equation number 32 in the above mentioned <a href='https://drive.google.com/file/d/1nQ08-XY4zvOLzRX-lGf8EYB5arb7-m1H/view?usp=sharing'>pdf</a>): <br>\n",
        "        $w^{(t+1)} ← (1 − \\frac{αλ}{N} )w^{(t)} + αx_n(y_n − σ((w^{(t)})^{T} x_n+b^{t}))$ <br>\n",
        "        $b^{(t+1)} ← (b^t +  α(y_n - σ((w^{(t)})^{T} x_n+b^{t}))$ \n",
        "        - calculate the log loss for train and test with the updated weights (you can check the python assignment 10th question)\n",
        "        - And if you wish, you can compare the previous loss and the current loss, if it is not updating, then\n",
        "        you can stop the training\n",
        "        - append this loss in the list ( this will be used to see how loss is changing for each epoch after the training is over )\n"
      ]
    },
    {
      "cell_type": "markdown",
      "metadata": {
        "id": "2qmRH4UpSvny",
        "colab_type": "text"
      },
      "source": [
        "- Plot the train and test loss i.e on x-axis the epoch number, and on y-axis the loss"
      ]
    },
    {
      "cell_type": "markdown",
      "metadata": {
        "id": "lbZf9p5gSvn1",
        "colab_type": "text"
      },
      "source": [
        "- <strong>GOAL</strong>: compare your implementation and SGDClassifier's the weights and intercept, make sure they are as close as possible i.e difference should be in terms of 10^-3"
      ]
    },
    {
      "cell_type": "code",
      "metadata": {
        "id": "Fpz8X5DMSvn2",
        "colab_type": "code",
        "outputId": "514944ab-fcd2-435a-b2f5-8bbf118f816a",
        "colab": {
          "base_uri": "https://localhost:8080/",
          "height": 105
        }
      },
      "source": [
        "w = np.zeros_like(X_train[0])\n",
        "b = 0\n",
        "eta0  = 0.0001\n",
        "alpha = 0.0001\n",
        "N = len(X_train)\n",
        "\n",
        "arr_loss=[]\n",
        "rounded_loss=[]\n",
        "\n",
        "#rounded_loss.append(0.0000)\n",
        "sigma=0\n",
        "w_at_the_end_of_each_epoch=[]\n",
        "b_at_the_end_of_each_epoch=[]\n",
        "\n",
        "def loss_function(y_train,y_pred):\n",
        "  p=-np.mean(y_train*np.log(y_pred)+(1-y_train)*np.log(1-y_pred))\n",
        "  return p\n",
        "\n",
        "\n",
        "for j in range(0,30): #for each epoch (30 iterations)\n",
        "  y_pred=[]\n",
        "  for i in range(len(X_train)): #for each point in train data\n",
        "    \n",
        "    z=(X_train[i].dot(w))+b\n",
        "    sigma=1/(1+np.exp(-z)) #sigmoid function\n",
        "    pred=sigma\n",
        "    w=(1-(eta0*alpha)/N)*w+(eta0*X_train[i]*(y_train[i]-sigma)) #updting weight vector\n",
        "    \n",
        "    b=(b+(eta0*(y_train[i]-sigma))) #updating the intercept\n",
        "\n",
        "    loss=loss_function(y_train[i],pred)\n",
        "    y_pred.append(loss)\n",
        "   \n",
        "  rounded_loss.append(round(np.average(y_pred),5))\n",
        "  w_at_the_end_of_each_epoch.append(w)\n",
        "  b_at_the_end_of_each_epoch.append(b)\n",
        "  arr_loss.append(np.average(y_pred))\n",
        "  if(j>0):\n",
        "    \n",
        "    if(rounded_loss[j]==rounded_loss[j-1]):\n",
        "      print(\"The number of iterations needed to find the same log loss for next epoch is:\")\n",
        "      print(j)\n",
        "      break\n",
        "\n",
        "print(\"the values for log loss at each epoch is :\")\n",
        "print(arr_loss)\n",
        "                  \n",
        "                  \n",
        "                  "
      ],
      "execution_count": 39,
      "outputs": [
        {
          "output_type": "stream",
          "text": [
            "The number of iterations needed to find the same log loss for next epoch is:\n",
            "13\n",
            "the values for log loss at each epoch is :\n",
            "[0.45610715612220937, 0.3946913054134686, 0.38558684615141536, 0.3820332220716334, 0.38035055342868135, 0.3794887755291076, 0.3790295733085725, 0.3787793587342117, 0.3786411532813051, 0.3785641439189919, 0.37852098163708703, 0.3784966943227099, 0.37848299250575157, 0.3784752507008752]\n"
          ],
          "name": "stdout"
        }
      ]
    },
    {
      "cell_type": "code",
      "metadata": {
        "id": "hxW3jGjyCfRA",
        "colab_type": "code",
        "outputId": "6d969e75-4486-42d6-c471-ee7622a00dcc",
        "colab": {
          "base_uri": "https://localhost:8080/",
          "height": 102
        }
      },
      "source": [
        "print(\"the optimal w for the train data is :\")\n",
        "print(w)"
      ],
      "execution_count": 19,
      "outputs": [
        {
          "output_type": "stream",
          "text": [
            "the optimal w for the train data is :\n",
            "[-4.27659751e-01  1.92371836e-01 -1.47659040e-01  3.38112965e-01\n",
            " -2.18314654e-01  5.68456193e-01 -4.45219270e-01 -9.04783153e-02\n",
            "  2.20587410e-01  1.72532946e-01  1.97620190e-01  3.38326141e-04\n",
            " -8.02083343e-02  3.38994084e-01  2.27134519e-02]\n"
          ],
          "name": "stdout"
        }
      ]
    },
    {
      "cell_type": "code",
      "metadata": {
        "id": "B6Y5kVscSvn5",
        "colab_type": "code",
        "outputId": "19b0a229-f5e3-4379-a23f-b9b70e5588a5",
        "colab": {
          "base_uri": "https://localhost:8080/",
          "height": 51
        }
      },
      "source": [
        "\n",
        "# write your code to implement SGD as per the above instructions\n",
        "# please choose the number of iternations on your own\n",
        "\n",
        "print(\"the optimal intercept for the train data is :\")\n",
        "print(b)"
      ],
      "execution_count": 20,
      "outputs": [
        {
          "output_type": "stream",
          "text": [
            "the optimal intercept for the train data is :\n",
            "-0.878773899259335\n"
          ],
          "name": "stdout"
        }
      ]
    },
    {
      "cell_type": "code",
      "metadata": {
        "id": "SNZ2JV_QH16p",
        "colab_type": "code",
        "outputId": "f2329af3-2f72-4bb9-9a3c-c4bf863b85d3",
        "colab": {
          "base_uri": "https://localhost:8080/",
          "height": 71
        }
      },
      "source": [
        "\n",
        "eta01  = 0.0001\n",
        "alpha1 = 0.0001\n",
        "N = len(X_test)\n",
        "arr_loss_test=[]\n",
        "\n",
        "sigma1=0\n",
        "\n",
        "\n",
        "def loss_function_test(y_test,y_pred):\n",
        "  p1=-np.mean(y_test*np.log(y_pred)+(1-y_test)*np.log(1-y_pred))\n",
        "\n",
        "  return p1\n",
        "\n",
        "for j in range(0,14): #for each epoch (13 iterations)\n",
        "  y_pred1=[]\n",
        "  for i in range(len(X_test)):\n",
        "    \n",
        "    z=(X_test[i].dot(w_at_the_end_of_each_epoch[j]))+b_at_the_end_of_each_epoch[j]\n",
        "    sigma1=1/(1+np.exp(-z))#sigmoid function\n",
        "    pred1=sigma1\n",
        "\n",
        "    loss1=loss_function_test(y_test[i],pred1)\n",
        "    y_pred1.append(loss1)\n",
        "   \n",
        "    \n",
        "  arr_loss_test.append(np.average(y_pred1))\n",
        "\n",
        "print(\"log loss for the test data for each epoch using w and b of the train data at the end of each epoch:\")\n",
        "print(arr_loss_test)#final array of loss for each epoch\n",
        "\n",
        "                  \n",
        "                  \n",
        "                  "
      ],
      "execution_count": 25,
      "outputs": [
        {
          "output_type": "stream",
          "text": [
            "log loss for the test data for each epoch using w and b of the train data at the end of each epoch:\n",
            "[0.4051507711105075, 0.3900563342346352, 0.3850058403139176, 0.38272919624702656, 0.38158346823458406, 0.3809755312339999, 0.3806434506916482, 0.38045882555929145, 0.38035495698812244, 0.38029600513158396, 0.38026230396321115, 0.3802429117449629, 0.38023168086403236, 0.3802251317350343]\n"
          ],
          "name": "stdout"
        }
      ]
    },
    {
      "cell_type": "code",
      "metadata": {
        "id": "48gx6wQKSvoE",
        "colab_type": "code",
        "outputId": "9ca3cbb3-7140-4afb-9ab2-499c7cd48f5a",
        "colab": {
          "base_uri": "https://localhost:8080/",
          "height": 279
        }
      },
      "source": [
        "import matplotlib.pyplot as plt\n",
        "fig = plt.figure()\n",
        "label=[\"train loss\",\"test loss\"]\n",
        "plt.plot(np.arange(0,14), arr_loss[0:14])\n",
        "plt.plot(np.arange(0,14), arr_loss_test[0:14])\n",
        "plt.legend(label)\n",
        "plt.xlabel(\"Epoch\")\n",
        "plt.ylabel(\"Loss at each epoch\")\n",
        "\n",
        "plt.show()"
      ],
      "execution_count": 41,
      "outputs": [
        {
          "output_type": "display_data",
          "data": {
            "image/png": "[encoded data removed]",
            "text/plain": [
              "<Figure size 432x288 with 1 Axes>"
            ]
          },
          "metadata": {
            "tags": []
          }
        }
      ]
    },
    {
      "cell_type": "code",
      "metadata": {
        "id": "BIk35bkULWdh",
        "colab_type": "code",
        "outputId": "a850dd12-a049-474e-c7f1-8e2478c8f07e",
        "colab": {
          "base_uri": "https://localhost:8080/",
          "height": 289
        }
      },
      "source": [
        "\n",
        "count=0\n",
        "print(\"the differance between sklearn coeficient and implemented one is :\")\n",
        "for i in clf.coef_:\n",
        "  for y in i:\n",
        "    print(y-w[count])\n",
        "    count=count+1\n",
        "    \n",
        "   "
      ],
      "execution_count": 46,
      "outputs": [
        {
          "output_type": "stream",
          "text": [
            "the differance between sklearn coeficient and implemented one is :\n",
            "0.004292835029638842\n",
            "-0.006896183813516199\n",
            "-0.0009313171203083059\n",
            "0.0033311044167980697\n",
            "0.010127951882034664\n",
            "-0.008290407341635442\n",
            "-0.007205554929896996\n",
            "-0.003609812786818281\n",
            "-0.011314211155125542\n",
            "0.008308314397246996\n",
            "-0.000568284980862116\n",
            "0.0038808309367270345\n",
            "0.0006046383877040956\n",
            "-0.0004660685286295707\n",
            "-4.624238439203052e-05\n"
          ],
          "name": "stdout"
        }
      ]
    }
  ]
}