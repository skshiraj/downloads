{
  "nbformat": 4,
  "nbformat_minor": 0,
  "metadata": {
    "colab": {
      "name": "gunjan.priyanka29@gmail.com_13.ipynb",
      "provenance": [],
      "collapsed_sections": [],
      "toc_visible": true
    },
    "language_info": {
      "codemirror_mode": {
        "name": "ipython",
        "version": 3
      },
      "file_extension": ".py",
      "mimetype": "text/x-python",
      "name": "python",
      "nbconvert_exporter": "python",
      "pygments_lexer": "ipython3",
      "version": "3.6.8"
    },
    "kernelspec": {
      "display_name": "Python 3",
      "language": "python",
      "name": "python3"
    }
  },
  "cells": [
    {
      "cell_type": "markdown",
      "metadata": {
        "id": "8wqapAXjsc24",
        "colab_type": "text"
      },
      "source": [
        "# Assignment 9: GBDT"
      ]
    },
    {
      "cell_type": "markdown",
      "metadata": {
        "id": "8u5NhbnEsc2-",
        "colab_type": "text"
      },
      "source": [
        "#### Response Coding: Example"
      ]
    },
    {
      "cell_type": "markdown",
      "metadata": {
        "id": "HIFWmwHKsc3A",
        "colab_type": "text"
      },
      "source": [
        "<img src='http://i.imgur.com/TufZptV.jpg' width=700px>\n",
        "\n",
        "> The response tabel is built only on train dataset.\n",
        "> For a category which is not there in train data and present in test data, we will encode them with default values\n",
        "Ex: in our test data if have State: D then we encode it as [0.5, 0.05]"
      ]
    },
    {
      "cell_type": "markdown",
      "metadata": {
        "id": "3KwfGufDsc3D",
        "colab_type": "text"
      },
      "source": [
        "<ol>\n",
        "    <li><strong>Apply GBDT on these feature sets</strong>\n",
        "        <ul>\n",
        "            <li><font color='red'>Set 1</font>: categorical(instead of one hot encoding, try <a href='https://www.appliedaicourse.com/course/applied-ai-course-online/lessons/handling-categorical-and-numerical-features/'>response coding</a>: use probability values), numerical features + project_title(TFIDF)+  preprocessed_eassay (TFIDF)+sentiment Score of eassay(check the bellow example, include all 4 values as 4 features)</li>\n",
        "            <li><font color='red'>Set 2</font>: categorical(instead of one hot encoding, try <a href='https://www.appliedaicourse.com/course/applied-ai-course-online/lessons/handling-categorical-and-numerical-features/'>response coding</a>: use probability values), numerical features + project_title(TFIDF W2V)+  preprocessed_eassay (TFIDF W2V)</li>        </ul>\n",
        "    </li>\n",
        "    <li><strong>The hyper paramter tuning (Consider any two hyper parameters)</strong>\n",
        "        <ul>\n",
        "    <li>Find the best hyper parameter which will give the maximum <a href='https://www.appliedaicourse.com/course/applied-ai-course-online/lessons/receiver-operating-characteristic-curve-roc-curve-and-auc-1/'>AUC</a> value</li>\n",
        "    <li>find the best hyper paramter using k-fold cross validation/simple cross validation data</li>\n",
        "    <li>use gridsearch cv or randomsearch cv or you can write your own for loops to do this task</li>\n",
        "        </ul>\n",
        "    </li>\n",
        "    <li>\n",
        "    <strong>Representation of results</strong>\n",
        "        <ul>\n",
        "    <li>You need to plot the performance of model both on train data and cross validation data for each hyper parameter, like shown in the figure\n",
        "    <img src='https://i.imgur.com/Gp2DQmh.jpg' width=500px> with X-axis as <strong>n_estimators</strong>, Y-axis as <strong>max_depth</strong>, and Z-axis as <strong>AUC Score</strong> , we have given the notebook which explains how to plot this 3d plot, you can find it in the same drive <i>3d_scatter_plot.ipynb</i></li>\n",
        "            <p style=\"text-align:center;font-size:30px;color:red;\"><strong>or</strong></p> <br>\n",
        "    <li>You need to plot the performance of model both on train data and cross validation data for each hyper parameter, like shown in the figure\n",
        "    <img src='https://i.imgur.com/fgN9aUP.jpg' width=300px> <a href='https://seaborn.pydata.org/generated/seaborn.heatmap.html'>seaborn heat maps</a> with rows as <strong>n_estimators</strong>, columns as <strong>max_depth</strong>, and values inside the cell representing <strong>AUC Score</strong> </li>\n",
        "    <li>You choose either of the plotting techniques out of 3d plot or heat map</li>\n",
        "    <li>Once after you found the best hyper parameter, you need to train your model with it, and find the AUC on test data and plot the ROC curve on both train and test.\n",
        "    <img src='https://i.imgur.com/wMQDTFe.jpg' width=300px></li>\n",
        "    <li>Along with plotting ROC curve, you need to print the <a href='https://www.appliedaicourse.com/course/applied-ai-course-online/lessons/confusion-matrix-tpr-fpr-fnr-tnr-1/'>confusion matrix</a> with predicted and original labels of test data points\n",
        "    <img src='https://i.imgur.com/IdN5Ctv.png' width=300px></li>\n",
        "            </ul>\n",
        "    <br>\n",
        "    <li>You need to summarize the results at the end of the notebook, summarize it in the table format\n",
        "        <img src='http://i.imgur.com/YVpIGGE.jpg' width=400px>\n",
        "    </li>\n",
        "</ol>"
      ]
    },
    {
      "cell_type": "code",
      "metadata": {
        "id": "iffa2_WGsc3H",
        "colab_type": "code",
        "outputId": "a6552f0b-6a41-4e8c-a39d-f5c48d2dd060",
        "colab": {
          "base_uri": "https://localhost:8080/",
          "height": 105
        }
      },
      "source": [
        "import nltk\n",
        "from nltk.sentiment.vader import SentimentIntensityAnalyzer\n",
        "#from nltk.sentiment import SentimentIntensityAnalyzer\n",
        "# import nltk\n",
        "nltk.download('vader_lexicon')\n",
        "\n",
        "sid = SentimentIntensityAnalyzer()\n",
        "\n",
        "for_sentiment = 'a person is a person no matter how small dr seuss i teach the smallest students with the biggest enthusiasm \\\n",
        "for learning my students learn in many different ways using all of our senses and multiple intelligences i use a wide range\\\n",
        "of techniques to help all my students succeed students in my class come from a variety of different backgrounds which makes\\\n",
        "for wonderful sharing of experiences and cultures including native americans our school is a caring community of successful \\\n",
        "learners which can be seen through collaborative student project based learning in and out of the classroom kindergarteners \\\n",
        "in my class love to work with hands on materials and have many different opportunities to practice a skill before it is\\\n",
        "mastered having the social skills to work cooperatively with friends is a crucial aspect of the kindergarten curriculum\\\n",
        "montana is the perfect place to learn about agriculture and nutrition my students love to role play in our pretend kitchen\\\n",
        "in the early childhood classroom i have had several kids ask me can we try cooking with real food i will take their idea \\\n",
        "and create common core cooking lessons where we learn important math and writing concepts while cooking delicious healthy \\\n",
        "food for snack time my students will have a grounded appreciation for the work that went into making the food and knowledge \\\n",
        "of where the ingredients came from as well as how it is healthy for their bodies this project would expand our learning of \\\n",
        "nutrition and agricultural cooking recipes by having us peel our own apples to make homemade applesauce make our own bread \\\n",
        "and mix up healthy plants from our classroom garden in the spring we will also create our own cookbooks to be printed and \\\n",
        "shared with families students will gain math and literature skills as well as a life long enjoyment for healthy cooking \\\n",
        "nannan'\n",
        "ss = sid.polarity_scores(for_sentiment)\n",
        "\n",
        "for k in ss:\n",
        "    print('{0}: {1}, '.format(k, ss[k]), end='')\n",
        "\n",
        "# we can use these 4 things as features/attributes (neg, neu, pos, compound)\n",
        "# neg: 0.0, neu: 0.753, pos: 0.247, compound: 0.93"
      ],
      "execution_count": 1,
      "outputs": [
        {
          "output_type": "stream",
          "text": [
            "/usr/local/lib/python3.6/dist-packages/nltk/twitter/__init__.py:20: UserWarning: The twython library has not been installed. Some functionality from the twitter package will not be available.\n",
            "  warnings.warn(\"The twython library has not been installed. \"\n"
          ],
          "name": "stderr"
        },
        {
          "output_type": "stream",
          "text": [
            "[nltk_data] Downloading package vader_lexicon to /root/nltk_data...\n",
            "neg: 0.01, neu: 0.745, pos: 0.245, compound: 0.9975, "
          ],
          "name": "stdout"
        }
      ]
    },
    {
      "cell_type": "markdown",
      "metadata": {
        "id": "BOyTl7oKsc3W",
        "colab_type": "text"
      },
      "source": [
        "<h1>1. GBDT (xgboost/lightgbm) </h1>"
      ]
    },
    {
      "cell_type": "markdown",
      "metadata": {
        "id": "VWge-b2Zsc3Z",
        "colab_type": "text"
      },
      "source": [
        "## 1.1 Loading Data"
      ]
    },
    {
      "cell_type": "code",
      "metadata": {
        "id": "qunoQFpDf_DI",
        "colab_type": "code",
        "colab": {}
      },
      "source": [
        "import pandas\n",
        "data = pandas.read_csv('/content/drive/My Drive/9_Donors_choose_DT/preprocessed_data.csv')"
      ],
      "execution_count": 0,
      "outputs": []
    },
    {
      "cell_type": "code",
      "metadata": {
        "id": "cU1A8J5XeJ8M",
        "colab_type": "code",
        "outputId": "f3ec182d-a66e-439d-fa3e-2084dd0985e7",
        "colab": {
          "base_uri": "https://localhost:8080/",
          "height": 122
        }
      },
      "source": [
        "from google.colab import drive\n",
        "drive.mount('/content/drive')"
      ],
      "execution_count": 2,
      "outputs": [
        {
          "output_type": "stream",
          "text": [
            "Go to this URL in a browser: https://accounts.google.com/o/oauth2/auth?client_id=947318989803-6bn6qk8qdgf4n4g3pfee6491hc0brc4i.apps.googleusercontent.com&redirect_uri=urn%3aietf%3awg%3aoauth%3a2.0%3aoob&response_type=code&scope=email%20https%3a%2f%2fwww.googleapis.com%2fauth%2fdocs.test%20https%3a%2f%2fwww.googleapis.com%2fauth%2fdrive%20https%3a%2f%2fwww.googleapis.com%2fauth%2fdrive.photos.readonly%20https%3a%2f%2fwww.googleapis.com%2fauth%2fpeopleapi.readonly\n",
            "\n",
            "Enter your authorization code:\n",
            "··········\n",
            "Mounted at /content/drive\n"
          ],
          "name": "stdout"
        }
      ]
    },
    {
      "cell_type": "code",
      "metadata": {
        "id": "RUOkkbOigfj2",
        "colab_type": "code",
        "outputId": "f8d63e01-467d-419e-cbb7-79e17003ee21",
        "colab": {
          "base_uri": "https://localhost:8080/",
          "height": 102
        }
      },
      "source": [
        "data.head(5)\n",
        "print(data.columns)\n",
        "print(data.shape)"
      ],
      "execution_count": 4,
      "outputs": [
        {
          "output_type": "stream",
          "text": [
            "Index(['school_state', 'teacher_prefix', 'project_grade_category',\n",
            "       'teacher_number_of_previously_posted_projects', 'project_is_approved',\n",
            "       'clean_categories', 'clean_subcategories', 'essay', 'price'],\n",
            "      dtype='object')\n",
            "(109248, 9)\n"
          ],
          "name": "stdout"
        }
      ]
    },
    {
      "cell_type": "markdown",
      "metadata": {
        "id": "6lAMFKFcsc3j",
        "colab_type": "text"
      },
      "source": [
        "<h2>1.2 Splitting data into Train and cross validation(or test): Stratified Sampling</h2>"
      ]
    },
    {
      "cell_type": "code",
      "metadata": {
        "id": "EAbr6h_ijNgf",
        "colab_type": "code",
        "outputId": "3888582f-23d8-4aa5-de34-8e13c162a728",
        "colab": {
          "base_uri": "https://localhost:8080/",
          "height": 85
        }
      },
      "source": [
        "Y_data=data['project_is_approved']\n",
        "X_data=data.drop(columns='project_is_approved')\n",
        "X_data.columns"
      ],
      "execution_count": 5,
      "outputs": [
        {
          "output_type": "execute_result",
          "data": {
            "text/plain": [
              "Index(['school_state', 'teacher_prefix', 'project_grade_category',\n",
              "       'teacher_number_of_previously_posted_projects', 'clean_categories',\n",
              "       'clean_subcategories', 'essay', 'price'],\n",
              "      dtype='object')"
            ]
          },
          "metadata": {
            "tags": []
          },
          "execution_count": 5
        }
      ]
    },
    {
      "cell_type": "code",
      "metadata": {
        "id": "ODMijuuNsc3l",
        "colab_type": "code",
        "outputId": "d52cedec-dc4d-4037-a2d5-6c162ad3260c",
        "colab": {
          "base_uri": "https://localhost:8080/",
          "height": 153
        }
      },
      "source": [
        "# please write all the code with proper documentation, and proper titles for each subsection\n",
        "# go through documentations and blogs before you start coding\n",
        "# first figure out what to do, and then think about how to do.\n",
        "# reading and understanding error messages will be very much helpfull in debugging your code\n",
        "# when you plot any graph make sure you use \n",
        "    # a. Title, that describes your plot, this will be very helpful to the reader\n",
        "    # b. Legends if needed\n",
        "    # c. X-axis label\n",
        "    # d. Y-axis label\n",
        "import random\n",
        "from sklearn.model_selection import train_test_split\n",
        "random.seed(1234)\n",
        "X_train, X_test, y_train, y_test = train_test_split(X_data,Y_data,test_size = 0.33,stratify=Y_data)\n",
        "\n",
        "print(y_train.value_counts())\n",
        "print(y_test.value_counts())\n",
        "print(X_train.shape,y_train.shape)\n",
        "print(X_test.shape,y_test.shape)"
      ],
      "execution_count": 6,
      "outputs": [
        {
          "output_type": "stream",
          "text": [
            "1    62113\n",
            "0    11083\n",
            "Name: project_is_approved, dtype: int64\n",
            "1    30593\n",
            "0     5459\n",
            "Name: project_is_approved, dtype: int64\n",
            "(73196, 8) (73196,)\n",
            "(36052, 8) (36052,)\n"
          ],
          "name": "stdout"
        }
      ]
    },
    {
      "cell_type": "markdown",
      "metadata": {
        "id": "1OnO_wduogqp",
        "colab_type": "text"
      },
      "source": [
        "**Finding the sentiment values for train and test data**"
      ]
    },
    {
      "cell_type": "code",
      "metadata": {
        "id": "gRnP-p_Ckclr",
        "colab_type": "code",
        "colab": {}
      },
      "source": [
        "\n",
        "def sentiments_list(values):\n",
        "  negative=[]\n",
        "  neutral=[]\n",
        "  positive=[]\n",
        "  compound=[]\n",
        "  for i in values:\n",
        "    ss = sid.polarity_scores(i)\n",
        "    for key,value in ss.items():\n",
        "      if key == 'neg':\n",
        "        negative.append(value)\n",
        "      elif key== 'neu':\n",
        "        neutral.append(value)\n",
        "      elif key== 'pos':\n",
        "        positive.append(value)\n",
        "      else:\n",
        "        compound.append(value)\n",
        "  return negative,positive,neutral,compound\n"
      ],
      "execution_count": 0,
      "outputs": []
    },
    {
      "cell_type": "code",
      "metadata": {
        "id": "ZRlQmv6Ak_vo",
        "colab_type": "code",
        "colab": {}
      },
      "source": [
        "import pandas as pd\n",
        "negative=[]\n",
        "neutral=[]\n",
        "positive=[]\n",
        "compound=[]\n",
        "negative,positive,neutral,compound=sentiments_list(X_test['essay'])\n",
        "\n"
      ],
      "execution_count": 0,
      "outputs": []
    },
    {
      "cell_type": "code",
      "metadata": {
        "id": "lR4KC2WLnr6U",
        "colab_type": "code",
        "colab": {}
      },
      "source": [
        "sentiments_score_for_test=pd.DataFrame()\n",
        "sentiments_score_for_test['neg']=negative\n",
        "sentiments_score_for_test['neu']=neutral\n",
        "sentiments_score_for_test['pos']=positive\n",
        "sentiments_score_for_test['compound']=compound"
      ],
      "execution_count": 0,
      "outputs": []
    },
    {
      "cell_type": "code",
      "metadata": {
        "id": "u5db9vttqW0m",
        "colab_type": "code",
        "outputId": "c7adaec8-e43d-4da5-b3c7-7b9f7452b0c7",
        "colab": {
          "base_uri": "https://localhost:8080/",
          "height": 34
        }
      },
      "source": [
        "sentiments_score_for_test.head(4)\n",
        "print(len(sentiments_score_for_test))"
      ],
      "execution_count": 10,
      "outputs": [
        {
          "output_type": "stream",
          "text": [
            "36052\n"
          ],
          "name": "stdout"
        }
      ]
    },
    {
      "cell_type": "code",
      "metadata": {
        "id": "WDfzbBZTpfpO",
        "colab_type": "code",
        "colab": {}
      },
      "source": [
        "negative=[]\n",
        "neutral=[]\n",
        "positive=[]\n",
        "compound=[]\n",
        "negative,positive,neutral,compound=sentiments_list(X_train['essay'])"
      ],
      "execution_count": 0,
      "outputs": []
    },
    {
      "cell_type": "code",
      "metadata": {
        "id": "d9KJkrg-pwxG",
        "colab_type": "code",
        "colab": {}
      },
      "source": [
        "sentiments_score_for_train=pd.DataFrame()\n",
        "sentiments_score_for_train['neg']=negative\n",
        "sentiments_score_for_train['neu']=neutral\n",
        "sentiments_score_for_train['pos']=positive\n",
        "sentiments_score_for_train['compound']=compound"
      ],
      "execution_count": 0,
      "outputs": []
    },
    {
      "cell_type": "code",
      "metadata": {
        "id": "H2UuKb0-p8pQ",
        "colab_type": "code",
        "outputId": "4a966ff1-54d6-47fb-b8db-f4f53cf7343c",
        "colab": {
          "base_uri": "https://localhost:8080/",
          "height": 34
        }
      },
      "source": [
        "sentiments_score_for_train.head(5)\n",
        "sentiments_score_for_train.shape"
      ],
      "execution_count": 13,
      "outputs": [
        {
          "output_type": "execute_result",
          "data": {
            "text/plain": [
              "(73196, 4)"
            ]
          },
          "metadata": {
            "tags": []
          },
          "execution_count": 13
        }
      ]
    },
    {
      "cell_type": "markdown",
      "metadata": {
        "id": "vsALgl5Asc3u",
        "colab_type": "text"
      },
      "source": [
        "<h2>1.3 Make Data Model Ready: encoding eassay, and project_title</h2>"
      ]
    },
    {
      "cell_type": "markdown",
      "metadata": {
        "id": "4v730Ey_ruq-",
        "colab_type": "text"
      },
      "source": [
        "**TFIDF for essay data**"
      ]
    },
    {
      "cell_type": "code",
      "metadata": {
        "id": "1A_85jbWsc3v",
        "colab_type": "code",
        "outputId": "0fe6639c-aaf8-4d46-c0a7-b74626b4a957",
        "colab": {
          "base_uri": "https://localhost:8080/",
          "height": 85
        }
      },
      "source": [
        "# please write all the code with proper documentation, and proper titles for each subsection\n",
        "# go through documentations and blogs before you start coding\n",
        "# first figure out what to do, and then think about how to do.\n",
        "# reading and understanding error messages will be very much helpfull in debugging your code\n",
        "# make sure you featurize train and test data separatly\n",
        "\n",
        "# when you plot any graph make sure you use \n",
        "    # a. Title, that describes your plot, this will be very helpful to the reader\n",
        "    # b. Legends if needed\n",
        "    # c. X-axis label\n",
        "    # d. Y-axis label\n",
        "from sklearn.feature_extraction.text import TfidfVectorizer\n",
        "from sklearn.preprocessing import normalize\n",
        "from sklearn.feature_extraction.text import CountVectorizer\n",
        "\n",
        "vectorizer = TfidfVectorizer(min_df=10,ngram_range=(1,2),max_features=5500)\n",
        "vectorizer.fit(X_train['essay'].values)\n",
        "X_train_essay_tfidf = vectorizer.transform(X_train['essay'].values)\n",
        "X_test_essay_tfidf = vectorizer.transform(X_test['essay'].values)\n",
        "\n",
        "print(\"After TFIDF vectorizations\")\n",
        "print(X_train_essay_tfidf.shape, y_train.shape)\n",
        "print(X_test_essay_tfidf.shape, y_test.shape)\n",
        "print(\"=\"*100)"
      ],
      "execution_count": 14,
      "outputs": [
        {
          "output_type": "stream",
          "text": [
            "After TFIDF vectorizations\n",
            "(73196, 5500) (73196,)\n",
            "(36052, 5500) (36052,)\n",
            "====================================================================================================\n"
          ],
          "name": "stdout"
        }
      ]
    },
    {
      "cell_type": "code",
      "metadata": {
        "id": "lbUOGXskuMup",
        "colab_type": "code",
        "colab": {}
      },
      "source": [
        "import pickle\n",
        "import numpy as np\n",
        "with open('/content/drive/My Drive/Classroom/glove_vectors', 'rb') as f:\n",
        "    \n",
        "    wordtovecmodel = pickle.load(f)\n",
        "    glove_words =  set(wordtovecmodel.keys())\n",
        "\n",
        "tfidf_model = TfidfVectorizer()\n",
        "tfidf_model.fit(X_train['essay'])\n",
        "#converting a dictionary with word as a key, and the idf as a value\n",
        "dictionary = dict(zip(tfidf_model.get_feature_names(), list(tfidf_model.idf_)))\n",
        "tfidf_words = set(tfidf_model.get_feature_names())\n",
        "\n",
        "# average Word2Vec\n",
        "# compute average word2vec for each review.\n",
        "\n",
        "def tf_idf(word_list):\n",
        "    tfidf_w2v_vectors = []\n",
        "    for sentence in word_list: # for each review/sentence\n",
        "        vector = np.zeros(300) \n",
        "        tf_idf_weight =0\n",
        "        for word in sentence.split(): # for each word in a review\n",
        "            if (word in glove_words) and (word in tfidf_words):\n",
        "                vec = wordtovecmodel[word] \n",
        "                tf_idf = dictionary[word]*(sentence.count(word)/len(sentence.split())) # getting the tfidf value for each word\n",
        "                vector += (vec * tf_idf) # calculating tfidf weighted w2v\n",
        "                tf_idf_weight += tf_idf\n",
        "        if tf_idf_weight != 0:\n",
        "            vector /= tf_idf_weight\n",
        "        tfidf_w2v_vectors.append(vector)\n",
        "\n",
        "    print(len(tfidf_w2v_vectors))\n",
        "    print(len(tfidf_w2v_vectors[0])) \n",
        "    return tfidf_w2v_vectors\n"
      ],
      "execution_count": 0,
      "outputs": []
    },
    {
      "cell_type": "markdown",
      "metadata": {
        "id": "h0zYWopBuhKa",
        "colab_type": "text"
      },
      "source": [
        "**TFIDF word to vec for essay feature**"
      ]
    },
    {
      "cell_type": "code",
      "metadata": {
        "id": "Mz0kO_b8uOmO",
        "colab_type": "code",
        "outputId": "e800d6db-9663-48f6-935f-eabf687a191e",
        "colab": {
          "base_uri": "https://localhost:8080/",
          "height": 85
        }
      },
      "source": [
        "train_tfidf_w2v_vectors=tf_idf(X_train['essay'])\n",
        "test_tfidf_w2v_vectors=tf_idf(X_test['essay'])"
      ],
      "execution_count": 47,
      "outputs": [
        {
          "output_type": "stream",
          "text": [
            "73196\n",
            "300\n",
            "36052\n",
            "300\n"
          ],
          "name": "stdout"
        }
      ]
    },
    {
      "cell_type": "markdown",
      "metadata": {
        "id": "S3Vxxv2Hsc31",
        "colab_type": "text"
      },
      "source": [
        "<h2>1.4 Make Data Model Ready: encoding numerical, categorical features</h2>"
      ]
    },
    {
      "cell_type": "code",
      "metadata": {
        "id": "zIxF3Kowa6Ap",
        "colab_type": "code",
        "colab": {}
      },
      "source": [
        "def response_coding1_for_train_data(data1,y_train):\n",
        "  a=data1.value_counts() #finding the unique values\n",
        " \n",
        "\n",
        "  name1=list(a.keys()) #listing all the unique values\n",
        "\n",
        "  count_0=[]\n",
        "  count_1=[]\n",
        "  for name,value in a.items(): #unique values with their max occurance\n",
        "    \n",
        "    count=data1.loc[(y_train==0) & (data1==name)] \n",
        "    count_0.append((count.shape[0])/value) #unique value with the max time it occured with class label 1\n",
        "    count=data1.loc[(y_train==1) & (data1==name)]\n",
        "    count_1.append((count.shape[0])/value) ##unique value with the max time it occured with class label 1\n",
        " \n",
        "  return count_0,count_1,name1 \n",
        "  \n",
        "def response_coding_for_test_data(data_test,name1,count_0,count_1):\n",
        "  count_for_0=[]\n",
        "  count_for_1=[]\n",
        "  for i in range(len(data_test)): \n",
        "    if(data_test.iloc[i] in name1): #if the value is present in the unique list obtained from trin data\n",
        "      s2=name1.index(data_test.iloc[i]) #finding its index\n",
        "      count_for_0.append(count_0[s2]) #finding its value for class 0\n",
        "      count_for_1.append(count_1[s2]) #finding its value for class 1\n",
        "    else:\n",
        "      count_for_1.append(0.5) #if value not present then putting its value as 0.5\n",
        "      count_for_0.append(0.5)\n",
        "\n",
        "  return count_for_1, count_for_0\n",
        " "
      ],
      "execution_count": 0,
      "outputs": []
    },
    {
      "cell_type": "code",
      "metadata": {
        "id": "f_qNGKp0dI83",
        "colab_type": "code",
        "outputId": "04d34ad9-7008-40d8-d872-7d8e509e4232",
        "colab": {
          "base_uri": "https://localhost:8080/",
          "height": 51
        }
      },
      "source": [
        "import pandas as pd\n",
        "import numpy as np\n",
        "from sklearn.feature_extraction.text import CountVectorizer\n",
        "\n",
        "#school_state\n",
        "vectorizer = CountVectorizer()\n",
        "X_train_new=pd.DataFrame()\n",
        "X_test_new = pd.DataFrame()\n",
        "vectorizer.fit(X_train['school_state'].values) # fit has to happen only on train data\n",
        "\n",
        "\n",
        "count_0,count_1,name1=response_coding1_for_train_data(X_train['school_state'],y_train)\n",
        "school_state_train_0, school_state_train_1 = response_coding_for_test_data(X_train['school_state'],name1,count_0,count_1)\n",
        "\n",
        "X_train_new['school_state_train_0']=school_state_train_0\n",
        "X_train_new['school_state_train_1']=school_state_train_1\n",
        "X_train_new['school_state_train_0'].values.reshape(-1,1)\n",
        "X_train_new['school_state_train_1'].values.reshape(-1,1)\n",
        "print(X_train_new.shape)\n",
        "#print(\"test data is:\",X_test)\n",
        "school_state_test_0, school_state_test_1 = response_coding_for_test_data(X_test['school_state'],name1,count_0,count_1)\n",
        "X_test_new['school_state_test_0']=school_state_test_0\n",
        "X_test_new['school_state_test_1']=school_state_test_1\n",
        "X_test_new['school_state_test_0'].values.reshape(-1,1)\n",
        "X_test_new['school_state_test_1'].values.reshape(-1,1)\n",
        "print(X_test_new.shape)\n"
      ],
      "execution_count": 16,
      "outputs": [
        {
          "output_type": "stream",
          "text": [
            "(73196, 2)\n",
            "(36052, 2)\n"
          ],
          "name": "stdout"
        }
      ]
    },
    {
      "cell_type": "code",
      "metadata": {
        "id": "-fjx1gBQ1-xt",
        "colab_type": "code",
        "outputId": "de53ca1e-ab63-48e3-edb7-cbad5faed657",
        "colab": {
          "base_uri": "https://localhost:8080/",
          "height": 85
        }
      },
      "source": [
        "#teacher_prefix\n",
        "vectorizer = CountVectorizer()\n",
        "vectorizer.fit(X_train['teacher_prefix'].values)\n",
        "\n",
        "count_0,count_1,name1=response_coding1_for_train_data(X_train['teacher_prefix'],y_train)\n",
        "teacher_prefix_train_0, teacher_prefix_train_1 = response_coding_for_test_data(X_train['teacher_prefix'],name1,count_0,count_1)\n",
        "X_train_new['teacher_prefix_train_0']=teacher_prefix_train_0\n",
        "X_train_new['teacher_prefix_train_1']=teacher_prefix_train_1\n",
        "X_train_new['teacher_prefix_train_0'].values.reshape(-1,1)\n",
        "X_train_new['teacher_prefix_train_1'].values.reshape(-1,1)\n",
        "print(X_train_new.shape)\n",
        "\n",
        "print(\"=\"*100)\n",
        "teacher_prefix_test_0,teacher_prefix_test_1= response_coding_for_test_data(X_test['teacher_prefix'],name1,count_0,count_1)\n",
        "X_test_new['teacher_prefix_test_0']=teacher_prefix_test_0\n",
        "X_test_new['teacher_prefix_test_1']=teacher_prefix_test_1\n",
        "X_test_new['teacher_prefix_test_0'].values.reshape(-1,1)\n",
        "X_test_new['teacher_prefix_test_1'].values.reshape(-1,1)\n",
        "print(X_test_new.shape)\n",
        "\n",
        "print(\"=\"*100)"
      ],
      "execution_count": 17,
      "outputs": [
        {
          "output_type": "stream",
          "text": [
            "(73196, 4)\n",
            "====================================================================================================\n",
            "(36052, 4)\n",
            "====================================================================================================\n"
          ],
          "name": "stdout"
        }
      ]
    },
    {
      "cell_type": "code",
      "metadata": {
        "id": "y_DStiOZ20-v",
        "colab_type": "code",
        "outputId": "5cf4cac6-adf9-45cd-9e50-f5ff03618425",
        "colab": {
          "base_uri": "https://localhost:8080/",
          "height": 85
        }
      },
      "source": [
        "#project_grade_category\n",
        "vectorizer = CountVectorizer()\n",
        "vectorizer.fit(X_train['project_grade_category'].values)\n",
        "\n",
        "count_0,count_1,name1=response_coding1_for_train_data(X_train['project_grade_category'],y_train)\n",
        "project_grade_category_train_0, project_grade_category_train_1 = response_coding_for_test_data(X_train['project_grade_category'],name1,count_0,count_1)\n",
        "X_train_new['project_grade_category_train_0']=project_grade_category_train_0\n",
        "X_train_new['project_grade_category_train_1']=project_grade_category_train_1\n",
        "X_train_new['project_grade_category_train_0'].values.reshape(-1,1)\n",
        "X_train_new['project_grade_category_train_1'].values.reshape(-1,1)\n",
        "print(X_train_new.shape)\n",
        "\n",
        "print(\"=\"*100)\n",
        "project_grade_category_test_0,project_grade_category_test_1= response_coding_for_test_data(X_test['project_grade_category'],name1,count_0,count_1)\n",
        "X_test_new['project_grade_category_test_0']=project_grade_category_test_0\n",
        "X_test_new['project_grade_category_test_1']=project_grade_category_test_1\n",
        "X_test_new['project_grade_category_test_0'].values.reshape(-1,1)\n",
        "X_test_new['project_grade_category_test_1'].values.reshape(-1,1)\n",
        "print(X_test_new.shape)\n",
        "\n",
        "print(\"=\"*100)"
      ],
      "execution_count": 18,
      "outputs": [
        {
          "output_type": "stream",
          "text": [
            "(73196, 6)\n",
            "====================================================================================================\n",
            "(36052, 6)\n",
            "====================================================================================================\n"
          ],
          "name": "stdout"
        }
      ]
    },
    {
      "cell_type": "code",
      "metadata": {
        "id": "ue0c8I62JdJA",
        "colab_type": "code",
        "outputId": "b3ec496a-3afa-4f97-d87a-1f113f091648",
        "colab": {
          "base_uri": "https://localhost:8080/",
          "height": 85
        }
      },
      "source": [
        "#clean_categories\n",
        "vectorizer = CountVectorizer()\n",
        "vectorizer.fit(X_train['clean_categories'].values) \n",
        "\n",
        "\n",
        "count_0,count_1,name1=response_coding1_for_train_data(X_train['clean_categories'],y_train)\n",
        "clean_categories_train_0, clean_categories_train_1 = response_coding_for_test_data(X_train['clean_categories'],name1,count_0,count_1)\n",
        "X_train_new['clean_categories_train_0']=clean_categories_train_0\n",
        "X_train_new['clean_categories_train_1']=clean_categories_train_1\n",
        "X_train_new['clean_categories_train_0'].values.reshape(-1,1)\n",
        "X_train_new['clean_categories_train_1'].values.reshape(-1,1)\n",
        "print(X_train_new.shape)\n",
        "\n",
        "print(\"=\"*100)\n",
        "clean_categories_test_0,clean_categories_test_1= response_coding_for_test_data(X_test['clean_categories'],name1,count_0,count_1)\n",
        "X_test_new['clean_categories_test_0']=clean_categories_test_0\n",
        "X_test_new['clean_categories_test_1']=clean_categories_test_1\n",
        "X_test_new['clean_categories_test_0'].values.reshape(-1,1)\n",
        "X_test_new['clean_categories_test_1'].values.reshape(-1,1)\n",
        "print(X_test_new.shape)\n",
        "\n",
        "print(\"=\"*100)"
      ],
      "execution_count": 19,
      "outputs": [
        {
          "output_type": "stream",
          "text": [
            "(73196, 8)\n",
            "====================================================================================================\n",
            "(36052, 8)\n",
            "====================================================================================================\n"
          ],
          "name": "stdout"
        }
      ]
    },
    {
      "cell_type": "code",
      "metadata": {
        "id": "3_T8Tydh4hGH",
        "colab_type": "code",
        "outputId": "97c855e8-09c1-4ad8-f368-52c064f78add",
        "colab": {
          "base_uri": "https://localhost:8080/",
          "height": 85
        }
      },
      "source": [
        "from sklearn.feature_extraction.text import CountVectorizer\n",
        "import numpy as np\n",
        "\n",
        "#clean_subcategories\n",
        "vectorizer = CountVectorizer()\n",
        "vectorizer.fit(X_train['clean_subcategories'].values)\n",
        "\n",
        "count_0,count_1,name1=response_coding1_for_train_data(X_train['clean_subcategories'],y_train)\n",
        "clean_subcategories_train_0, clean_subcategories_train_1 = response_coding_for_test_data(X_train['clean_subcategories'],name1,count_0,count_1)\n",
        "\n",
        "X_train_new['clean_subcategories_train_0']=clean_subcategories_train_0\n",
        "X_train_new['clean_subcategories_train_1']=clean_subcategories_train_1\n",
        "X_train_new['clean_subcategories_train_0'].values.reshape(-1,1)\n",
        "X_train_new['clean_subcategories_train_1'].values.reshape(-1,1)\n",
        "print(X_train_new.shape)\n",
        "\n",
        "print(\"=\"*100)\n",
        "clean_subcategories_test_0,clean_subcategories_test_1= response_coding_for_test_data(X_test['clean_subcategories'],name1,count_0,count_1)\n",
        "X_test_new['clean_subcategories_test_0']=clean_subcategories_test_0\n",
        "X_test_new['clean_subcategories_test_1']=clean_subcategories_test_1\n",
        "X_test_new['clean_subcategories_test_0'].values.reshape(-1,1)\n",
        "X_test_new['clean_subcategories_test_1'].values.reshape(-1,1)\n",
        "print(X_test_new.shape)\n",
        "\n",
        "print(\"=\"*100) "
      ],
      "execution_count": 20,
      "outputs": [
        {
          "output_type": "stream",
          "text": [
            "(73196, 10)\n",
            "====================================================================================================\n",
            "(36052, 10)\n",
            "====================================================================================================\n"
          ],
          "name": "stdout"
        }
      ]
    },
    {
      "cell_type": "code",
      "metadata": {
        "id": "aokXYCJvJ56f",
        "colab_type": "code",
        "outputId": "049ee896-1ee8-4af1-c376-0cb086ca1998",
        "colab": {
          "base_uri": "https://localhost:8080/",
          "height": 68
        }
      },
      "source": [
        "from sklearn.preprocessing import Normalizer\n",
        "#price\n",
        "normalizer = Normalizer()\n",
        "\n",
        "normalizer.fit(X_train['price'].values.reshape(-1,1))\n",
        "\n",
        "X_train_price_norm = normalizer.transform(X_train['price'].values.reshape(-1,1))\n",
        "X_test_price_norm = normalizer.transform(X_test['price'].values.reshape(-1,1))\n",
        "\n",
        "print(\"After vectorizations\")\n",
        "print(X_train_price_norm.shape, y_train.shape)\n",
        "print(X_test_price_norm.shape, y_test.shape)"
      ],
      "execution_count": 21,
      "outputs": [
        {
          "output_type": "stream",
          "text": [
            "After vectorizations\n",
            "(73196, 1) (73196,)\n",
            "(36052, 1) (36052,)\n"
          ],
          "name": "stdout"
        }
      ]
    },
    {
      "cell_type": "code",
      "metadata": {
        "id": "nfrEIx_vKDIY",
        "colab_type": "code",
        "outputId": "6cc15226-f24e-4e48-fb60-60e119207ab1",
        "colab": {
          "base_uri": "https://localhost:8080/",
          "height": 68
        }
      },
      "source": [
        "#teacher_number_of_previously_posted_projects\n",
        "normalizer = Normalizer()\n",
        "\n",
        "normalizer.fit(X_train['teacher_number_of_previously_posted_projects'].values.reshape(-1,1))\n",
        "\n",
        "X_train_teacher_number_of_previously_posted_projects = normalizer.transform(X_train['teacher_number_of_previously_posted_projects'].values.reshape(-1,1))\n",
        "X_test_teacher_number_of_previously_posted_projects = normalizer.transform(X_test['teacher_number_of_previously_posted_projects'].values.reshape(-1,1))\n",
        "\n",
        "print(\"After vectorizations\")\n",
        "print(X_train_teacher_number_of_previously_posted_projects.shape, y_train.shape)\n",
        "print(X_test_teacher_number_of_previously_posted_projects.shape, y_test.shape)"
      ],
      "execution_count": 22,
      "outputs": [
        {
          "output_type": "stream",
          "text": [
            "After vectorizations\n",
            "(73196, 1) (73196,)\n",
            "(36052, 1) (36052,)\n"
          ],
          "name": "stdout"
        }
      ]
    },
    {
      "cell_type": "markdown",
      "metadata": {
        "id": "QrIwTQsOKX9V",
        "colab_type": "text"
      },
      "source": [
        "**Stacking done ofr set 1(tfidf)**"
      ]
    },
    {
      "cell_type": "code",
      "metadata": {
        "id": "fdnfSoCRKTvN",
        "colab_type": "code",
        "outputId": "9afbb6a8-48c5-4ab2-9435-ce9b809599e4",
        "colab": {
          "base_uri": "https://localhost:8080/",
          "height": 85
        }
      },
      "source": [
        "from scipy.sparse import hstack\n",
        "\n",
        "X_tr_set1 = hstack((X_train_essay_tfidf, X_train_new,X_train_price_norm,X_train_teacher_number_of_previously_posted_projects,sentiments_score_for_train)).tocsr()\n",
        "\n",
        "X_te_set1 = hstack((X_test_essay_tfidf,X_test_new,X_test_price_norm,X_test_teacher_number_of_previously_posted_projects,sentiments_score_for_test)).tocsr()\n",
        "\n",
        "print(\"Final Data matrix\")\n",
        "print(X_tr_set1.shape, y_train.shape)\n",
        "\n",
        "print(X_te_set1.shape, y_test.shape)\n",
        "print(\"=\"*100)"
      ],
      "execution_count": 27,
      "outputs": [
        {
          "output_type": "stream",
          "text": [
            "Final Data matrix\n",
            "(73196, 5516) (73196,)\n",
            "(36052, 5516) (36052,)\n",
            "====================================================================================================\n"
          ],
          "name": "stdout"
        }
      ]
    },
    {
      "cell_type": "markdown",
      "metadata": {
        "id": "A96yj9aNunIK",
        "colab_type": "text"
      },
      "source": [
        "**Stacking done ofr set 2(tfidf W2W)**"
      ]
    },
    {
      "cell_type": "code",
      "metadata": {
        "id": "Mzao_edyuqMe",
        "colab_type": "code",
        "outputId": "b2755948-378b-48ba-c3ec-129ca751c331",
        "colab": {
          "base_uri": "https://localhost:8080/",
          "height": 85
        }
      },
      "source": [
        "from scipy.sparse import hstack\n",
        "\n",
        "X_tr_set2 = hstack((train_tfidf_w2v_vectors, X_train_new,X_train_price_norm,X_train_teacher_number_of_previously_posted_projects,sentiments_score_for_train)).tocsr()\n",
        "\n",
        "X_te_set2 = hstack((test_tfidf_w2v_vectors,X_test_new,X_test_price_norm,X_test_teacher_number_of_previously_posted_projects,sentiments_score_for_test)).tocsr()\n",
        "\n",
        "print(\"Final Data matrix\")\n",
        "print(X_tr_set2.shape, y_train.shape)\n",
        "\n",
        "print(X_te_set2.shape, y_test.shape)\n",
        "print(\"=\"*100)  "
      ],
      "execution_count": 48,
      "outputs": [
        {
          "output_type": "stream",
          "text": [
            "Final Data matrix\n",
            "(73196, 316) (73196,)\n",
            "(36052, 316) (36052,)\n",
            "====================================================================================================\n"
          ],
          "name": "stdout"
        }
      ]
    },
    {
      "cell_type": "markdown",
      "metadata": {
        "id": "XED-jXYzLKPf",
        "colab_type": "text"
      },
      "source": [
        ""
      ]
    },
    {
      "cell_type": "markdown",
      "metadata": {
        "id": "I5wDFj17sc3-",
        "colab_type": "text"
      },
      "source": [
        "<h2>1.5 Appling Models on different kind of featurization as mentioned in the instructions</h2>"
      ]
    },
    {
      "cell_type": "markdown",
      "metadata": {
        "id": "O5tWox1jsc3_",
        "colab_type": "text"
      },
      "source": [
        "<br>Apply GBDT on different kind of featurization as mentioned in the instructions\n",
        "<br> For Every model that you work on make sure you do the step 2 and step 3 of instrucations"
      ]
    },
    {
      "cell_type": "code",
      "metadata": {
        "id": "ARWulYUwsc4B",
        "colab_type": "code",
        "outputId": "6b396fb9-33b8-418a-ca2e-d7a9a6144a23",
        "colab": {
          "base_uri": "https://localhost:8080/",
          "height": 374
        }
      },
      "source": [
        "# please write all the code with proper documentation, and proper titles for each subsection\n",
        "# go through documentations and blogs before you start coding\n",
        "# first figure out what to do, and then think about how to do.\n",
        "# reading and understanding error messages will be very much helpfull in debugging your code\n",
        "# when you plot any graph make sure you use \n",
        "    # a. Title, that describes your plot, this will be very helpful to the reader\n",
        "    # b. Legends if needed\n",
        "    # c. X-axis label\n",
        "    # d. Y-axis label\n",
        "    # d. Y-axis label\n",
        "import lightgbm as lgb\n",
        "from sklearn.model_selection import GridSearchCV\n",
        "lgb_gbdt = lgb.LGBMClassifier(boosting_type='gbdt', learning_rate=0.01, metric='auc')\n",
        "parameters = [{'max_depth': [5,10,50,100],  'n_estimators' : [10,20,50,200]}]\n",
        "grid = GridSearchCV(estimator = lgb_gbdt, param_grid= parameters, cv = 3,return_train_score=True)\n",
        "grid = grid.fit(X_tr_set1, y_train)\n",
        "results1 = pd.DataFrame.from_dict(grid.cv_results_)\n",
        "print(results1)\n",
        "best_score = grid.best_score_\n",
        "results = grid.best_params_\n",
        "print(best_score)\n",
        "print(results)"
      ],
      "execution_count": 28,
      "outputs": [
        {
          "output_type": "stream",
          "text": [
            "    mean_fit_time  std_fit_time  ...  mean_train_score  std_train_score\n",
            "0        7.015592      0.127108  ...          0.848585         0.000009\n",
            "1       11.347028      0.159758  ...          0.848585         0.000009\n",
            "2       24.851332      0.313232  ...          0.848585         0.000009\n",
            "3       81.530921      0.640410  ...          0.848673         0.000052\n",
            "4        9.843609      0.126706  ...          0.848585         0.000009\n",
            "5       17.564187      0.105294  ...          0.848585         0.000009\n",
            "6       40.844892      0.542731  ...          0.848585         0.000009\n",
            "7      151.316607      0.291177  ...          0.848619         0.000018\n",
            "8       10.276248      0.157600  ...          0.848585         0.000009\n",
            "9       18.190061      0.272441  ...          0.848585         0.000009\n",
            "10      42.308475      0.376929  ...          0.848585         0.000009\n",
            "11     172.680340      0.450036  ...          0.848612         0.000019\n",
            "12      10.132873      0.129240  ...          0.848585         0.000009\n",
            "13      18.055529      0.232243  ...          0.848585         0.000009\n",
            "14      42.416560      0.373188  ...          0.848585         0.000009\n",
            "15     173.394116      1.233707  ...          0.848612         0.000019\n",
            "\n",
            "[16 rows x 18 columns]\n",
            "0.8485982840027195\n",
            "{'max_depth': 5, 'n_estimators': 200}\n"
          ],
          "name": "stdout"
        }
      ]
    },
    {
      "cell_type": "code",
      "metadata": {
        "id": "9HtRBPkRWkWU",
        "colab_type": "code",
        "outputId": "0ab918fe-e25c-468c-ab17-22da3ab61094",
        "colab": {
          "base_uri": "https://localhost:8080/",
          "height": 430
        }
      },
      "source": [
        "#heatmap\n",
        "import seaborn as sns; sns.set()\n",
        "import pandas as pd\n",
        "import matplotlib.pyplot as plt\n",
        "\n",
        "max_scores1 = pd.DataFrame(grid.cv_results_).groupby([\"param_max_depth\",\"param_n_estimators\"]).max().unstack()[['mean_test_score', 'mean_train_score']]\n",
        "\n",
        "\n",
        "fig, ax = plt.subplots(1,2, figsize=(20,6))\n",
        "\n",
        "sns.heatmap(max_scores1.mean_train_score, annot = True, fmt='.4g', ax=ax[0])\n",
        "sns.heatmap(max_scores1.mean_test_score, annot = True, fmt='.4g', ax=ax[1])\n",
        "\n",
        "ax[0].set_title('Train Set')\n",
        "ax[1].set_title('CV Set')\n",
        "\n",
        "plt.show()"
      ],
      "execution_count": 37,
      "outputs": [
        {
          "output_type": "display_data",
          "data": {
            "image/png": "[encoded data removed]",
            "text/plain": [
              "<Figure size 1440x432 with 4 Axes>"
            ]
          },
          "metadata": {
            "tags": []
          }
        }
      ]
    },
    {
      "cell_type": "code",
      "metadata": {
        "id": "LPLvjpn-QiqT",
        "colab_type": "code",
        "colab": {}
      },
      "source": [
        "best_parameters=[{'max_depth':[5],'n_estimators':[200]}]"
      ],
      "execution_count": 0,
      "outputs": []
    },
    {
      "cell_type": "code",
      "metadata": {
        "id": "j8hqxMEPXULz",
        "colab_type": "code",
        "outputId": "ee01ed20-5df6-4a20-cdce-d2d9295ad9ff",
        "colab": {
          "base_uri": "https://localhost:8080/",
          "height": 301
        }
      },
      "source": [
        "from sklearn.metrics import roc_curve, auc\n",
        "from sklearn.tree import DecisionTreeClassifier\n",
        "from sklearn.metrics import roc_curve, auc\n",
        "\n",
        "clf11 = GridSearchCV(lgb.LGBMClassifier(class_weight='balanced'),best_parameters)\n",
        "clf11.fit(X_tr_set1, y_train)\n",
        "y_test_predicted=clf11.predict_proba(X_te_set1)[:,1]\n",
        "y_train_predicted=clf11.predict_proba(X_tr_set1)[:,1]\n",
        "\n",
        "\n",
        "train_fpr, train_tpr, tr_thresholds = roc_curve(y_train, y_train_predicted)\n",
        "test_fpr, test_tpr, te_thresholds = roc_curve(y_test, y_test_predicted)\n",
        "\n",
        "plt.plot(train_fpr, train_tpr, label=\"train AUC =\"+str(auc(train_fpr, train_tpr)))\n",
        "plt.plot(test_fpr, test_tpr, label=\"test AUC =\"+str(auc(test_fpr, test_tpr)))\n",
        "plt.legend()\n",
        "plt.xlabel(\"False positive rate\")\n",
        "plt.ylabel(\"True positive rate\")\n",
        "plt.title(\"ERROR PLOTS\")\n",
        "plt.grid()\n",
        "plt.show()"
      ],
      "execution_count": 42,
      "outputs": [
        {
          "output_type": "display_data",
          "data": {
            "image/png": "[encoded data removed]",
            "text/plain": [
              "<Figure size 432x288 with 1 Axes>"
            ]
          },
          "metadata": {
            "tags": []
          }
        }
      ]
    },
    {
      "cell_type": "code",
      "metadata": {
        "id": "42EuuKmdX5Zg",
        "colab_type": "code",
        "colab": {}
      },
      "source": [
        "def find_best_threshold(threshould, fpr, tpr):\n",
        "    t = threshould[np.argmax(tpr*(1-fpr))]\n",
        "    # (tpr*(1-fpr)) will be maximum if your fpr is very low and tpr is very high\n",
        "    print(\"the maximum value of tpr*(1-fpr)\", max(tpr*(1-fpr)), \"for threshold\", np.round(t,3))\n",
        "    return t\n",
        "\n",
        "def predict_with_best_t(proba, threshould):\n",
        "    predictions = []\n",
        "    global predictions_list\n",
        "    for i in proba:\n",
        "        if i>=threshould:\n",
        "            predictions.append(1)\n",
        "        else:\n",
        "            predictions.append(0)\n",
        "    predictions_list=predictions\n",
        "    return predictions"
      ],
      "execution_count": 0,
      "outputs": []
    },
    {
      "cell_type": "code",
      "metadata": {
        "id": "EzmoCYbfYN3a",
        "colab_type": "code",
        "outputId": "323cdca3-ce95-41c1-8029-03c710b00705",
        "colab": {
          "base_uri": "https://localhost:8080/",
          "height": 355
        }
      },
      "source": [
        "from sklearn.metrics import confusion_matrix\n",
        "best_t = find_best_threshold(tr_thresholds, train_fpr, train_tpr)\n",
        "\n",
        "conMat_train=confusion_matrix(y_train, predict_with_best_t(y_train_predicted, best_t))\n",
        "\n",
        "conMat_test=confusion_matrix(y_test, predict_with_best_t(y_test_predicted, best_t))\n",
        "\n",
        "key = (np.asarray([['TN','FP'], ['FN', 'TP']]))\n",
        "\n",
        "fig, ax = plt.subplots(1,2, figsize=(15,5)) \n",
        "\n",
        "labels_train = (np.asarray([\"{0} = {1:.2f}\" .format(key, value) for key, value in zip(key.flatten(), conMat_train.flatten())])).reshape(2,2)\n",
        "labels_test = (np.asarray([\"{0} = {1:.2f}\" .format(key, value) for key, value in zip(key.flatten(), conMat_test.flatten())])).reshape(2,2)\n",
        "\n",
        "sns.heatmap(conMat_train, linewidths=.5, xticklabels=['PREDICTED : NO', 'PREDICTED : YES'], yticklabels=['ACTUAL : NO', 'ACTUAL : YES'], annot = labels_train, fmt = '', ax=ax[0])\n",
        "sns.heatmap(conMat_test, linewidths=.5, xticklabels=['PREDICTED : NO', 'PREDICTED : YES'], yticklabels=['ACTUAL : NO', 'ACTUAL : YES'], annot = labels_test, fmt = '', ax=ax[1])\n",
        "\n",
        "ax[0].set_title('Train Set')\n",
        "ax[1].set_title('Test Set')\n",
        "\n",
        "plt.show()"
      ],
      "execution_count": 44,
      "outputs": [
        {
          "output_type": "stream",
          "text": [
            "the maximum value of tpr*(1-fpr) 0.5858776521029548 for threshold 0.49\n"
          ],
          "name": "stdout"
        },
        {
          "output_type": "display_data",
          "data": {
            "image/png": "[encoded data removed]",
            "text/plain": [
              "<Figure size 1080x360 with 4 Axes>"
            ]
          },
          "metadata": {
            "tags": []
          }
        }
      ]
    },
    {
      "cell_type": "code",
      "metadata": {
        "id": "KEw4qy-hTWP8",
        "colab_type": "code",
        "outputId": "e13e88eb-7770-4b84-b285-72e8232632d1",
        "colab": {
          "base_uri": "https://localhost:8080/",
          "height": 374
        }
      },
      "source": [
        "lgb_gbdt = lgb.LGBMClassifier(boosting_type='gbdt', learning_rate=0.01, metric='auc')\n",
        "parameters =[{'max_depth': [5,10,50,100],  'n_estimators' : [10,20,50,200]}]\n",
        "grid = GridSearchCV(estimator = lgb_gbdt, param_grid= parameters, cv = 3,return_train_score=True)\n",
        "grid = grid.fit(X_tr_set2, y_train)\n",
        "results1 = pd.DataFrame.from_dict(grid.cv_results_)\n",
        "print(results1)\n",
        "best_score = grid.best_score_\n",
        "results = grid.best_params_\n",
        "print(best_score)\n",
        "print(results)"
      ],
      "execution_count": 49,
      "outputs": [
        {
          "output_type": "stream",
          "text": [
            "    mean_fit_time  std_fit_time  ...  mean_train_score  std_train_score\n",
            "0        4.522455      0.073392  ...          0.848585         0.000009\n",
            "1        5.449837      0.055866  ...          0.848585         0.000009\n",
            "2        8.748943      0.110134  ...          0.848585         0.000009\n",
            "3       24.785817      0.175273  ...          0.848605         0.000011\n",
            "4        4.630684      0.058174  ...          0.848585         0.000009\n",
            "5        6.217438      0.091668  ...          0.848585         0.000009\n",
            "6       11.180991      0.184350  ...          0.848585         0.000009\n",
            "7       34.816452      0.097181  ...          0.848701         0.000061\n",
            "8        4.659286      0.081138  ...          0.848585         0.000009\n",
            "9        6.275256      0.065508  ...          0.848585         0.000009\n",
            "10      11.231490      0.088980  ...          0.848585         0.000009\n",
            "11      35.368992      0.042652  ...          0.848694         0.000067\n",
            "12       4.726362      0.088694  ...          0.848585         0.000009\n",
            "13       6.410507      0.037957  ...          0.848585         0.000009\n",
            "14      11.238493      0.154495  ...          0.848585         0.000009\n",
            "15      35.099595      0.059868  ...          0.848694         0.000067\n",
            "\n",
            "[16 rows x 18 columns]\n",
            "0.8486119457648136\n",
            "{'max_depth': 10, 'n_estimators': 200}\n"
          ],
          "name": "stdout"
        }
      ]
    },
    {
      "cell_type": "code",
      "metadata": {
        "id": "oe_UVcMvaJwS",
        "colab_type": "code",
        "colab": {}
      },
      "source": [
        "best_parameters=[{'max_depth':[10],'n_estimators':[200]}]"
      ],
      "execution_count": 0,
      "outputs": []
    },
    {
      "cell_type": "code",
      "metadata": {
        "id": "A6Yp5z5iYXDh",
        "colab_type": "code",
        "outputId": "828b812e-b7df-4f7a-d6f2-26cd1f6114b0",
        "colab": {
          "base_uri": "https://localhost:8080/",
          "height": 430
        }
      },
      "source": [
        "#heatmap\n",
        "import seaborn as sns; sns.set()\n",
        "import pandas as pd\n",
        "\n",
        "max_scores1 = pd.DataFrame(grid.cv_results_).groupby([\"param_max_depth\",\"param_n_estimators\"]).max().unstack()[['mean_test_score', 'mean_train_score']]\n",
        "\n",
        "\n",
        "fig, ax = plt.subplots(1,2, figsize=(20,6))\n",
        "\n",
        "sns.heatmap(max_scores1.mean_train_score, annot = True, fmt='.4g', ax=ax[0])\n",
        "sns.heatmap(max_scores1.mean_test_score, annot = True, fmt='.4g', ax=ax[1])\n",
        "\n",
        "ax[0].set_title('Train Set')\n",
        "ax[1].set_title('CV Set')\n",
        "\n",
        "plt.show()"
      ],
      "execution_count": 52,
      "outputs": [
        {
          "output_type": "display_data",
          "data": {
            "image/png": "[encoded data removed]",
            "text/plain": [
              "<Figure size 1440x432 with 4 Axes>"
            ]
          },
          "metadata": {
            "tags": []
          }
        }
      ]
    },
    {
      "cell_type": "code",
      "metadata": {
        "id": "loLalT4XKmxK",
        "colab_type": "code",
        "outputId": "cfa13fdc-daec-420e-8869-f3125db5417e",
        "colab": {
          "base_uri": "https://localhost:8080/",
          "height": 301
        }
      },
      "source": [
        "from sklearn.metrics import roc_curve, auc\n",
        "from sklearn.tree import DecisionTreeClassifier\n",
        "from sklearn.metrics import roc_curve, auc\n",
        "\n",
        "clf11 = GridSearchCV(lgb.LGBMClassifier(class_weight='balanced'),best_parameters)\n",
        "clf11.fit(X_tr_set2, y_train)\n",
        "y_test_predicted=clf11.predict_proba(X_te_set2)[:,1]\n",
        "y_train_predicted=clf11.predict_proba(X_tr_set2)[:,1]\n",
        "\n",
        "train_fpr, train_tpr, tr_thresholds = roc_curve(y_train, y_train_predicted)\n",
        "test_fpr, test_tpr, te_thresholds = roc_curve(y_test, y_test_predicted)\n",
        "\n",
        "plt.plot(train_fpr, train_tpr, label=\"train AUC =\"+str(auc(train_fpr, train_tpr)))\n",
        "plt.plot(test_fpr, test_tpr, label=\"test AUC =\"+str(auc(test_fpr, test_tpr)))\n",
        "plt.legend()\n",
        "plt.xlabel(\"False positive rate\")\n",
        "plt.ylabel(\"True positive rate\")\n",
        "plt.title(\"ERROR PLOTS\")\n",
        "plt.grid()\n",
        "plt.show()"
      ],
      "execution_count": 57,
      "outputs": [
        {
          "output_type": "display_data",
          "data": {
            "image/png": "[encoded data removed]",
            "text/plain": [
              "<Figure size 432x288 with 1 Axes>"
            ]
          },
          "metadata": {
            "tags": []
          }
        }
      ]
    },
    {
      "cell_type": "code",
      "metadata": {
        "id": "3ZpYvTWhMTuP",
        "colab_type": "code",
        "colab": {}
      },
      "source": [
        "def find_best_threshold(threshould, fpr, tpr):\n",
        "    t = threshould[np.argmax(tpr*(1-fpr))]\n",
        "    # (tpr*(1-fpr)) will be maximum if your fpr is very low and tpr is very high\n",
        "    print(\"the maximum value of tpr*(1-fpr)\", max(tpr*(1-fpr)), \"for threshold\", np.round(t,3))\n",
        "    return t\n",
        "\n",
        "def predict_with_best_t(proba, threshould):\n",
        "    predictions = []\n",
        "    global predictions_list\n",
        "    for i in proba:\n",
        "        if i>=threshould:\n",
        "            predictions.append(1)\n",
        "        else:\n",
        "            predictions.append(0)\n",
        "    predictions_list=predictions\n",
        "    return predictions"
      ],
      "execution_count": 0,
      "outputs": []
    },
    {
      "cell_type": "code",
      "metadata": {
        "id": "PURk56L1MdCH",
        "colab_type": "code",
        "outputId": "8468313f-7bcd-48a6-dc2f-427eaf5b5987",
        "colab": {
          "base_uri": "https://localhost:8080/",
          "height": 355
        }
      },
      "source": [
        "from sklearn.metrics import confusion_matrix\n",
        "best_t = find_best_threshold(tr_thresholds, train_fpr, train_tpr)\n",
        "\n",
        "conMat_train=confusion_matrix(y_train, predict_with_best_t(y_train_predicted, best_t))\n",
        "\n",
        "conMat_test=confusion_matrix(y_test, predict_with_best_t(y_test_predicted, best_t))\n",
        "\n",
        "key = (np.asarray([['TN','FP'], ['FN', 'TP']]))\n",
        "\n",
        "fig, ax = plt.subplots(1,2, figsize=(15,5)) \n",
        "\n",
        "labels_train = (np.asarray([\"{0} = {1:.2f}\" .format(key, value) for key, value in zip(key.flatten(), conMat_train.flatten())])).reshape(2,2)\n",
        "labels_test = (np.asarray([\"{0} = {1:.2f}\" .format(key, value) for key, value in zip(key.flatten(), conMat_test.flatten())])).reshape(2,2)\n",
        "\n",
        "sns.heatmap(conMat_train, linewidths=.5, xticklabels=['PREDICTED : NO', 'PREDICTED : YES'], yticklabels=['ACTUAL : NO', 'ACTUAL : YES'], annot = labels_train, fmt = '', ax=ax[0])\n",
        "sns.heatmap(conMat_test, linewidths=.5, xticklabels=['PREDICTED : NO', 'PREDICTED : YES'], yticklabels=['ACTUAL : NO', 'ACTUAL : YES'], annot = labels_test, fmt = '', ax=ax[1])\n",
        "\n",
        "ax[0].set_title('Train Set')\n",
        "ax[1].set_title('Test Set')\n",
        "\n",
        "plt.show()"
      ],
      "execution_count": 59,
      "outputs": [
        {
          "output_type": "stream",
          "text": [
            "the maximum value of tpr*(1-fpr) 0.7079759262477868 for threshold 0.496\n"
          ],
          "name": "stdout"
        },
        {
          "output_type": "display_data",
          "data": {
            "image/png": "[encoded data removed]",
            "text/plain": [
              "<Figure size 1080x360 with 4 Axes>"
            ]
          },
          "metadata": {
            "tags": []
          }
        }
      ]
    },
    {
      "cell_type": "markdown",
      "metadata": {
        "id": "YhFN-lDWsc4G",
        "colab_type": "text"
      },
      "source": [
        "<h1>3. Summary</h1>\n",
        "\n",
        "<br> as mentioned in the step 4 of instructions"
      ]
    },
    {
      "cell_type": "code",
      "metadata": {
        "id": "McS2-Z7mVmqC",
        "colab_type": "code",
        "outputId": "f437b9fb-ab63-4d74-9ef6-a5c706a45fcd",
        "colab": {
          "base_uri": "https://localhost:8080/",
          "height": 119
        }
      },
      "source": [
        "#how to use pretty table http://zetcode.com/python/prettytable/ \n",
        "from prettytable import PrettyTable \n",
        "tb = PrettyTable()\n",
        "tb.field_names= (\" Vectorizer  \", \"  Model  \", \"  Max depth  \",\"  n-estimators  \",\"  AUC  \")\n",
        "tb.add_row([\"   Tfidf\",\"lightgbm\"  , 5,200 ,70]) \n",
        "tb.add_row([\"  TfidfW2V\", \"lightgbm\" , 10,200 , 68]) \n",
        "\n",
        "print(tb.get_string(titles = \"GBDT Observations\"))"
      ],
      "execution_count": 60,
      "outputs": [
        {
          "output_type": "stream",
          "text": [
            "+---------------+-----------+---------------+------------------+---------+\n",
            "|  Vectorizer   |   Model   |   Max depth   |   n-estimators   |   AUC   |\n",
            "+---------------+-----------+---------------+------------------+---------+\n",
            "|       Tfidf   |  lightgbm |       5       |       200        |    70   |\n",
            "|     TfidfW2V  |  lightgbm |       10      |       200        |    68   |\n",
            "+---------------+-----------+---------------+------------------+---------+\n"
          ],
          "name": "stdout"
        }
      ]
    }
  ]
}